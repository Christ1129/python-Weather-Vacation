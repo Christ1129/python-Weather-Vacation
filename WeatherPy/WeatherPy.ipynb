{
 "cells": [
  {
   "cell_type": "markdown",
   "metadata": {},
   "source": [
    "# WeatherPy\n",
    "----\n",
    "Observations and Insights\n",
    "\n",
    "After analyzing the graphs, several considerations can be made, including the following:\n",
    "- The Northern Hemisphere displays a negative slope with a negative correlation between Temperature and Latitude, however the Southern Hemisphere displays a positive slope with a positive correlation between Temperature and Latitude. In other words, as you move away from the equator in the Northern Hemisphere the temperature decreases. Conversely, as you move away from the equator in the Southern Hemisphere the temperature increases\n",
    "- The graphs show that there are no clear relationship beetween Humidity and Latitude in the northern and Southern Hemisphere. We can however observe a weak positive correlation between latitude and humidity\n",
    "- There are no clear relationship between Latitude and Wind Speed in the graphs. We can observe a weak positive correlation between latitude and Wind Speed for northern hemisphere and weak negative correlation between latitude and Wind Speed for Southern hemisphere.\n"
   ]
  },
  {
   "cell_type": "code",
   "execution_count": 2,
   "metadata": {
    "scrolled": true
   },
   "outputs": [],
   "source": [
    "# Dependencies and Setup\n",
    "import matplotlib.pyplot as plt\n",
    "import pandas as pd\n",
    "import numpy as np\n",
    "import requests\n",
    "import time\n",
    "from scipy.stats import linregress\n",
    "\n",
    "# Import API key\n",
    "from api_keys import weather_api_key\n",
    "\n",
    "# Incorporated citipy to determine city based on latitude and longitude\n",
    "from citipy import citipy\n",
    "\n",
    "# Output File (CSV)\n",
    "output_data_file = \"output_data/cities.csv\"\n",
    "\n",
    "# Range of latitudes and longitudes\n",
    "lat_range = (-90, 90)\n",
    "lng_range = (-180, 180)"
   ]
  },
  {
   "cell_type": "markdown",
   "metadata": {},
   "source": [
    "## Generate Cities List"
   ]
  },
  {
   "cell_type": "code",
   "execution_count": 3,
   "metadata": {},
   "outputs": [
    {
     "data": {
      "text/plain": [
       "607"
      ]
     },
     "execution_count": 3,
     "metadata": {},
     "output_type": "execute_result"
    }
   ],
   "source": [
    "# List for holding lat_lngs and cities\n",
    "lat_lngs = []\n",
    "cities = []\n",
    "\n",
    "# Create a set of random lat and lng combinations\n",
    "lats = np.random.uniform(lat_range[0], lat_range[1], size=1500)\n",
    "lngs = np.random.uniform(lng_range[0], lng_range[1], size=1500)\n",
    "lat_lngs = zip(lats, lngs)\n",
    "\n",
    "# Identify nearest city for each lat, lng combination\n",
    "for lat_lng in lat_lngs:\n",
    "    city = citipy.nearest_city(lat_lng[0], lat_lng[1]).city_name\n",
    "    \n",
    "    # If the city is unique, then add it to a our cities list\n",
    "    if city not in cities:\n",
    "        cities.append(city)\n",
    "\n",
    "# Print the city count to confirm sufficient count\n",
    "len(cities)"
   ]
  },
  {
   "cell_type": "markdown",
   "metadata": {},
   "source": [
    "### Perform API Calls\n",
    "* Perform a weather check on each city using a series of successive API calls.\n",
    "* Include a print log of each city as it'sbeing processed (with the city number and city name).\n"
   ]
  },
  {
   "cell_type": "code",
   "execution_count": 4,
   "metadata": {},
   "outputs": [
    {
     "data": {
      "text/html": [
       "<div>\n",
       "<style scoped>\n",
       "    .dataframe tbody tr th:only-of-type {\n",
       "        vertical-align: middle;\n",
       "    }\n",
       "\n",
       "    .dataframe tbody tr th {\n",
       "        vertical-align: top;\n",
       "    }\n",
       "\n",
       "    .dataframe thead th {\n",
       "        text-align: right;\n",
       "    }\n",
       "</style>\n",
       "<table border=\"1\" class=\"dataframe\">\n",
       "  <thead>\n",
       "    <tr style=\"text-align: right;\">\n",
       "      <th></th>\n",
       "      <th>City</th>\n",
       "      <th>Cloudiness</th>\n",
       "      <th>Country</th>\n",
       "      <th>Date</th>\n",
       "      <th>Humidity</th>\n",
       "      <th>Lat</th>\n",
       "      <th>Lng</th>\n",
       "      <th>Max Temp</th>\n",
       "      <th>Windspeed</th>\n",
       "    </tr>\n",
       "  </thead>\n",
       "  <tbody>\n",
       "    <tr>\n",
       "      <th>0</th>\n",
       "      <td>cape town</td>\n",
       "      <td></td>\n",
       "      <td></td>\n",
       "      <td></td>\n",
       "      <td></td>\n",
       "      <td></td>\n",
       "      <td></td>\n",
       "      <td></td>\n",
       "      <td></td>\n",
       "    </tr>\n",
       "    <tr>\n",
       "      <th>1</th>\n",
       "      <td>ushuaia</td>\n",
       "      <td></td>\n",
       "      <td></td>\n",
       "      <td></td>\n",
       "      <td></td>\n",
       "      <td></td>\n",
       "      <td></td>\n",
       "      <td></td>\n",
       "      <td></td>\n",
       "    </tr>\n",
       "    <tr>\n",
       "      <th>2</th>\n",
       "      <td>bengkulu</td>\n",
       "      <td></td>\n",
       "      <td></td>\n",
       "      <td></td>\n",
       "      <td></td>\n",
       "      <td></td>\n",
       "      <td></td>\n",
       "      <td></td>\n",
       "      <td></td>\n",
       "    </tr>\n",
       "    <tr>\n",
       "      <th>3</th>\n",
       "      <td>soyo</td>\n",
       "      <td></td>\n",
       "      <td></td>\n",
       "      <td></td>\n",
       "      <td></td>\n",
       "      <td></td>\n",
       "      <td></td>\n",
       "      <td></td>\n",
       "      <td></td>\n",
       "    </tr>\n",
       "    <tr>\n",
       "      <th>4</th>\n",
       "      <td>nikolskoye</td>\n",
       "      <td></td>\n",
       "      <td></td>\n",
       "      <td></td>\n",
       "      <td></td>\n",
       "      <td></td>\n",
       "      <td></td>\n",
       "      <td></td>\n",
       "      <td></td>\n",
       "    </tr>\n",
       "  </tbody>\n",
       "</table>\n",
       "</div>"
      ],
      "text/plain": [
       "         City Cloudiness Country Date Humidity Lat Lng Max Temp Windspeed\n",
       "0   cape town                                                            \n",
       "1     ushuaia                                                            \n",
       "2    bengkulu                                                            \n",
       "3        soyo                                                            \n",
       "4  nikolskoye                                                            "
      ]
     },
     "execution_count": 4,
     "metadata": {},
     "output_type": "execute_result"
    }
   ],
   "source": [
    "#Create a dataframe to store the data\n",
    "city_weather = pd.DataFrame({'City': cities, 'Cloudiness': \"\", 'Country': \"\", 'Date': \"\",\n",
    "                            'Humidity': \"\", 'Lat': \"\", 'Lng': \"\", 'Max Temp': \"\", 'Windspeed': \"\"})\n",
    "\n",
    "#Preview the dataframe\n",
    "city_weather.head()\n"
   ]
  },
  {
   "cell_type": "code",
   "execution_count": 5,
   "metadata": {},
   "outputs": [
    {
     "name": "stdout",
     "output_type": "stream",
     "text": [
      "\n",
      "-----------------------------\n",
      "Beginning Data Retrieval\n",
      "-----------------------------\n"
     ]
    }
   ],
   "source": [
    "#Variables \n",
    "record_num = 1\n",
    "record_set = 1\n",
    "\n",
    "#Base url to make the api call\n",
    "base_url = 'http://api.openweathermap.org/data/2.5/weather?units=imperial&q='\n",
    "#Run the API call for each city\n",
    "print('''\n",
    "-----------------------------\n",
    "Beginning Data Retrieval\n",
    "-----------------------------''')\n"
   ]
  },
  {
   "cell_type": "code",
   "execution_count": 6,
   "metadata": {
    "scrolled": false
   },
   "outputs": [
    {
     "name": "stdout",
     "output_type": "stream",
     "text": [
      "Processing Weather Data for Record 1 of Set 1 | Cape Town\n",
      "Processing Weather Data for Record 2 of Set 1 | Ushuaia\n",
      "Processing Weather Data for Record 3 of Set 1 | Bengkulu\n",
      "Processing Weather Data for Record 4 of Set 1 | Soyo\n",
      "City not found....Skipping............\n",
      "City not found....Skipping............\n",
      "Processing Weather Data for Record 5 of Set 1 | Vila Praia de Âncora\n",
      "Processing Weather Data for Record 6 of Set 1 | Pec\n",
      "Processing Weather Data for Record 7 of Set 1 | Ilulissat\n",
      "Processing Weather Data for Record 8 of Set 1 | São Félix do Xingu\n",
      "Processing Weather Data for Record 9 of Set 1 | Kloulklubed\n",
      "Processing Weather Data for Record 10 of Set 1 | Mildura\n",
      "Processing Weather Data for Record 11 of Set 1 | Port Alfred\n",
      "Processing Weather Data for Record 12 of Set 1 | Albany\n",
      "Processing Weather Data for Record 13 of Set 1 | Hobart\n",
      "Processing Weather Data for Record 14 of Set 1 | Nanortalik\n",
      "Processing Weather Data for Record 15 of Set 1 | Bredasdorp\n",
      "City not found....Skipping............\n",
      "Processing Weather Data for Record 16 of Set 1 | Qaanaaq\n",
      "Processing Weather Data for Record 17 of Set 1 | Kapaa\n",
      "Processing Weather Data for Record 18 of Set 1 | Caravelas\n",
      "Processing Weather Data for Record 19 of Set 1 | Rikitea\n",
      "Processing Weather Data for Record 20 of Set 1 | Oak Ridge\n",
      "City not found....Skipping............\n",
      "Processing Weather Data for Record 21 of Set 1 | Mar del Plata\n",
      "Processing Weather Data for Record 22 of Set 1 | Butaritari\n",
      "Processing Weather Data for Record 23 of Set 1 | Takoradze\n",
      "Processing Weather Data for Record 24 of Set 1 | Bambous Virieux\n",
      "Processing Weather Data for Record 25 of Set 1 | New Norfolk\n",
      "Processing Weather Data for Record 26 of Set 1 | Vila\n",
      "Processing Weather Data for Record 27 of Set 1 | Santa Maria\n",
      "Processing Weather Data for Record 28 of Set 1 | Viedma\n",
      "Processing Weather Data for Record 29 of Set 1 | Saint George\n",
      "City not found....Skipping............\n",
      "Processing Weather Data for Record 30 of Set 1 | Vaini\n",
      "City not found....Skipping............\n",
      "Processing Weather Data for Record 31 of Set 1 | Sylvan Lake\n",
      "Processing Weather Data for Record 32 of Set 1 | Lüderitz\n",
      "City not found....Skipping............\n",
      "Processing Weather Data for Record 33 of Set 1 | Ponta do Sol\n",
      "Processing Weather Data for Record 34 of Set 1 | Duvergé\n",
      "Processing Weather Data for Record 35 of Set 1 | Saskylakh\n",
      "Processing Weather Data for Record 36 of Set 1 | Tuktoyaktuk\n",
      "Processing Weather Data for Record 37 of Set 1 | Upernavik\n",
      "Processing Weather Data for Record 38 of Set 1 | Portoferraio\n",
      "Processing Weather Data for Record 39 of Set 1 | Barrow\n",
      "Processing Weather Data for Record 40 of Set 1 | Atar\n",
      "Processing Weather Data for Record 41 of Set 1 | Cabedelo\n",
      "Processing Weather Data for Record 42 of Set 1 | East London\n",
      "City not found....Skipping............\n",
      "Processing Weather Data for Record 43 of Set 1 | Provideniya\n",
      "Processing Weather Data for Record 44 of Set 1 | Tiksi\n",
      "Processing Weather Data for Record 45 of Set 1 | Sørland\n",
      "Processing Weather Data for Record 46 of Set 1 | Hasaki\n",
      "Processing Weather Data for Record 47 of Set 1 | Laas\n",
      "Processing Weather Data for Record 48 of Set 1 | Bluff\n",
      "Processing Weather Data for Record 49 of Set 1 | Katsuura\n",
      "Processing Weather Data for Record 50 of Set 1 | Peniche\n",
      "Processing Weather Data for Record 1 of Set 2 | Chapais\n",
      "Processing Weather Data for Record 2 of Set 2 | Werda\n",
      "Processing Weather Data for Record 3 of Set 2 | Faanui\n",
      "Processing Weather Data for Record 4 of Set 2 | Hilo\n",
      "Processing Weather Data for Record 5 of Set 2 | Saldanha\n",
      "Processing Weather Data for Record 6 of Set 2 | Slavonice\n",
      "Processing Weather Data for Record 7 of Set 2 | Taree\n",
      "Processing Weather Data for Record 8 of Set 2 | Krasnosel'kup\n",
      "Processing Weather Data for Record 9 of Set 2 | Saint-Augustin\n",
      "Processing Weather Data for Record 10 of Set 2 | Punta Arenas\n",
      "Processing Weather Data for Record 11 of Set 2 | Banda Aceh\n",
      "Processing Weather Data for Record 12 of Set 2 | Castro\n",
      "Processing Weather Data for Record 13 of Set 2 | Coyhaique\n",
      "Processing Weather Data for Record 14 of Set 2 | Busselton\n",
      "Processing Weather Data for Record 15 of Set 2 | Huron\n",
      "Processing Weather Data for Record 16 of Set 2 | Sakakah\n",
      "Processing Weather Data for Record 17 of Set 2 | Marawi\n",
      "Processing Weather Data for Record 18 of Set 2 | Avarua\n",
      "City not found....Skipping............\n",
      "Processing Weather Data for Record 19 of Set 2 | Inuvik\n",
      "Processing Weather Data for Record 20 of Set 2 | Norman Wells\n",
      "Processing Weather Data for Record 21 of Set 2 | Lebu\n",
      "Processing Weather Data for Record 22 of Set 2 | Hong Kong\n",
      "Processing Weather Data for Record 23 of Set 2 | Yellowknife\n",
      "Processing Weather Data for Record 24 of Set 2 | Noumea\n",
      "Processing Weather Data for Record 25 of Set 2 | Severo-Kuril'sk\n",
      "Processing Weather Data for Record 26 of Set 2 | Bargarh\n",
      "Processing Weather Data for Record 27 of Set 2 | Puerto Escondido\n",
      "Processing Weather Data for Record 28 of Set 2 | Port Pirie\n",
      "Processing Weather Data for Record 29 of Set 2 | Berlevåg\n",
      "Processing Weather Data for Record 30 of Set 2 | Port Elizabeth\n",
      "Processing Weather Data for Record 31 of Set 2 | Atuona\n",
      "Processing Weather Data for Record 32 of Set 2 | Rocha\n",
      "City not found....Skipping............\n",
      "Processing Weather Data for Record 33 of Set 2 | Alvarado\n",
      "Processing Weather Data for Record 34 of Set 2 | Port Blair\n",
      "Processing Weather Data for Record 35 of Set 2 | Sur\n",
      "Processing Weather Data for Record 36 of Set 2 | The Valley\n",
      "Processing Weather Data for Record 37 of Set 2 | Morris\n",
      "Processing Weather Data for Record 38 of Set 2 | Los Llanos de Aridane\n",
      "Processing Weather Data for Record 39 of Set 2 | Tibati\n",
      "Processing Weather Data for Record 40 of Set 2 | La Ronge\n",
      "Processing Weather Data for Record 41 of Set 2 | Havøysund\n",
      "Processing Weather Data for Record 42 of Set 2 | Beloha\n",
      "Processing Weather Data for Record 43 of Set 2 | Pingzhuang\n",
      "Processing Weather Data for Record 44 of Set 2 | Flinders\n",
      "Processing Weather Data for Record 45 of Set 2 | Tarsus\n",
      "Processing Weather Data for Record 46 of Set 2 | Egvekinot\n",
      "Processing Weather Data for Record 47 of Set 2 | Dikson\n",
      "Processing Weather Data for Record 48 of Set 2 | Westport\n",
      "City not found....Skipping............\n",
      "Processing Weather Data for Record 49 of Set 2 | Domoni\n",
      "City not found....Skipping............\n",
      "Processing Weather Data for Record 50 of Set 2 | Ahipara\n",
      "Processing Weather Data for Record 1 of Set 3 | Arraial do Cabo\n",
      "Processing Weather Data for Record 2 of Set 3 | Kahului\n",
      "Processing Weather Data for Record 3 of Set 3 | Pakse\n",
      "City not found....Skipping............\n",
      "Processing Weather Data for Record 4 of Set 3 | Labuan\n",
      "City not found....Skipping............\n",
      "City not found....Skipping............\n",
      "City not found....Skipping............\n",
      "Processing Weather Data for Record 5 of Set 3 | Mahébourg\n",
      "City not found....Skipping............\n",
      "Processing Weather Data for Record 6 of Set 3 | Souillac\n",
      "Processing Weather Data for Record 7 of Set 3 | Vardø\n",
      "Processing Weather Data for Record 8 of Set 3 | Buenavista\n",
      "Processing Weather Data for Record 9 of Set 3 | Sharjah city\n",
      "Processing Weather Data for Record 10 of Set 3 | Baykit\n",
      "Processing Weather Data for Record 11 of Set 3 | Cherskiy\n",
      "Processing Weather Data for Record 12 of Set 3 | Khatanga\n",
      "Processing Weather Data for Record 13 of Set 3 | Wakkanai\n",
      "Processing Weather Data for Record 14 of Set 3 | Bethel\n",
      "Processing Weather Data for Record 15 of Set 3 | Vargashi\n",
      "Processing Weather Data for Record 16 of Set 3 | Cabo San Lucas\n",
      "Processing Weather Data for Record 17 of Set 3 | Manoel Urbano\n",
      "City not found....Skipping............\n",
      "City not found....Skipping............\n",
      "City not found....Skipping............\n",
      "Processing Weather Data for Record 18 of Set 3 | Ancud\n",
      "Processing Weather Data for Record 19 of Set 3 | Burns Lake\n",
      "Processing Weather Data for Record 20 of Set 3 | Pevek\n",
      "Processing Weather Data for Record 21 of Set 3 | Pangkalanbuun\n",
      "Processing Weather Data for Record 22 of Set 3 | Saint-Philippe\n",
      "Processing Weather Data for Record 23 of Set 3 | Saint Paul Harbor\n",
      "City not found....Skipping............\n",
      "City not found....Skipping............\n",
      "City not found....Skipping............\n",
      "Processing Weather Data for Record 24 of Set 3 | Narsaq\n",
      "Processing Weather Data for Record 25 of Set 3 | Khovd\n",
      "Processing Weather Data for Record 26 of Set 3 | Guerrero Negro\n"
     ]
    },
    {
     "name": "stdout",
     "output_type": "stream",
     "text": [
      "Processing Weather Data for Record 27 of Set 3 | Dhidhdhoo\n",
      "Processing Weather Data for Record 28 of Set 3 | Nsanje\n",
      "Processing Weather Data for Record 29 of Set 3 | Lagoa\n",
      "Processing Weather Data for Record 30 of Set 3 | Sola\n",
      "Processing Weather Data for Record 31 of Set 3 | Kärdla\n",
      "City not found....Skipping............\n",
      "Processing Weather Data for Record 32 of Set 3 | Kununurra\n",
      "Processing Weather Data for Record 33 of Set 3 | Iskateley\n",
      "Processing Weather Data for Record 34 of Set 3 | Hambantota\n",
      "Processing Weather Data for Record 35 of Set 3 | Klaeng\n",
      "Processing Weather Data for Record 36 of Set 3 | Morehead\n",
      "Processing Weather Data for Record 37 of Set 3 | Pisco\n",
      "Processing Weather Data for Record 38 of Set 3 | Masvingo\n",
      "Processing Weather Data for Record 39 of Set 3 | Puerto del Rosario\n",
      "City not found....Skipping............\n",
      "Processing Weather Data for Record 40 of Set 3 | Verkhniy Baskunchak\n",
      "Processing Weather Data for Record 41 of Set 3 | Sinnamary\n",
      "Processing Weather Data for Record 42 of Set 3 | Lorengau\n",
      "City not found....Skipping............\n",
      "Processing Weather Data for Record 43 of Set 3 | Mount Gambier\n",
      "Processing Weather Data for Record 44 of Set 3 | Tahoua\n",
      "Processing Weather Data for Record 45 of Set 3 | Mogadishu\n",
      "Processing Weather Data for Record 46 of Set 3 | Padang\n",
      "Processing Weather Data for Record 47 of Set 3 | Iroquois Falls\n",
      "Processing Weather Data for Record 48 of Set 3 | Cap Malheureux\n",
      "Processing Weather Data for Record 49 of Set 3 | George Town\n",
      "Processing Weather Data for Record 50 of Set 3 | San Buenaventura\n",
      "Processing Weather Data for Record 1 of Set 4 | Vestmannaeyjar\n",
      "Processing Weather Data for Record 2 of Set 4 | Matagami\n",
      "Processing Weather Data for Record 3 of Set 4 | Shubarkuduk\n",
      "Processing Weather Data for Record 4 of Set 4 | Hermanus\n",
      "Processing Weather Data for Record 5 of Set 4 | Sembakung\n",
      "Processing Weather Data for Record 6 of Set 4 | Puerto Ayora\n",
      "City not found....Skipping............\n",
      "Processing Weather Data for Record 7 of Set 4 | Khudumelapye\n",
      "Processing Weather Data for Record 8 of Set 4 | Elizabeth City\n",
      "Processing Weather Data for Record 9 of Set 4 | Laguna\n",
      "City not found....Skipping............\n",
      "Processing Weather Data for Record 10 of Set 4 | Hithadhoo\n",
      "Processing Weather Data for Record 11 of Set 4 | Kruisfontein\n",
      "Processing Weather Data for Record 12 of Set 4 | Anloga\n",
      "Processing Weather Data for Record 13 of Set 4 | Linhai\n",
      "Processing Weather Data for Record 14 of Set 4 | Conde\n",
      "Processing Weather Data for Record 15 of Set 4 | Half Moon Bay\n",
      "Processing Weather Data for Record 16 of Set 4 | Little Current\n",
      "Processing Weather Data for Record 17 of Set 4 | Port Lincoln\n",
      "Processing Weather Data for Record 18 of Set 4 | Koungou\n",
      "Processing Weather Data for Record 19 of Set 4 | Jamestown\n",
      "Processing Weather Data for Record 20 of Set 4 | Boffa\n",
      "Processing Weather Data for Record 21 of Set 4 | Belance\n",
      "Processing Weather Data for Record 22 of Set 4 | Iralaya\n",
      "Processing Weather Data for Record 23 of Set 4 | Beringovskiy\n",
      "Processing Weather Data for Record 24 of Set 4 | Krasnovishersk\n",
      "Processing Weather Data for Record 25 of Set 4 | Raja\n",
      "Processing Weather Data for Record 26 of Set 4 | Progreso\n",
      "Processing Weather Data for Record 27 of Set 4 | Key West\n",
      "Processing Weather Data for Record 28 of Set 4 | Salalah\n",
      "Processing Weather Data for Record 29 of Set 4 | Gari\n",
      "Processing Weather Data for Record 30 of Set 4 | Broken Hill\n",
      "Processing Weather Data for Record 31 of Set 4 | Merauke\n",
      "Processing Weather Data for Record 32 of Set 4 | Comodoro Rivadavia\n",
      "Processing Weather Data for Record 33 of Set 4 | Esperance\n",
      "Processing Weather Data for Record 34 of Set 4 | San Quintín\n",
      "Processing Weather Data for Record 35 of Set 4 | Road Town\n",
      "Processing Weather Data for Record 36 of Set 4 | Point Pedro\n",
      "Processing Weather Data for Record 37 of Set 4 | Gannan\n",
      "Processing Weather Data for Record 38 of Set 4 | Nadym\n",
      "City not found....Skipping............\n",
      "Processing Weather Data for Record 39 of Set 4 | Dalby\n",
      "Processing Weather Data for Record 40 of Set 4 | Iqaluit\n",
      "Processing Weather Data for Record 41 of Set 4 | Ribeira Grande\n",
      "City not found....Skipping............\n",
      "Processing Weather Data for Record 42 of Set 4 | Tabuk\n",
      "Processing Weather Data for Record 43 of Set 4 | Pecos\n",
      "Processing Weather Data for Record 44 of Set 4 | Kindu\n",
      "Processing Weather Data for Record 45 of Set 4 | Iranshahr\n",
      "Processing Weather Data for Record 46 of Set 4 | Wajir\n",
      "Processing Weather Data for Record 47 of Set 4 | Yulara\n",
      "Processing Weather Data for Record 48 of Set 4 | Chemax\n",
      "Processing Weather Data for Record 49 of Set 4 | Longyearbyen\n",
      "Processing Weather Data for Record 50 of Set 4 | Ihosy\n",
      "Processing Weather Data for Record 1 of Set 5 | Chui\n",
      "Processing Weather Data for Record 2 of Set 5 | Linxia Chengguanzhen\n",
      "Processing Weather Data for Record 3 of Set 5 | Bayburt\n",
      "Processing Weather Data for Record 4 of Set 5 | Torbay\n",
      "Processing Weather Data for Record 5 of Set 5 | Kuito\n",
      "Processing Weather Data for Record 6 of Set 5 | Carnarvon\n",
      "Processing Weather Data for Record 7 of Set 5 | Nantucket\n",
      "Processing Weather Data for Record 8 of Set 5 | Buluang\n",
      "Processing Weather Data for Record 9 of Set 5 | Pathein\n",
      "Processing Weather Data for Record 10 of Set 5 | Serebryanyy Bor\n",
      "Processing Weather Data for Record 11 of Set 5 | Ulaangom\n",
      "City not found....Skipping............\n",
      "Processing Weather Data for Record 12 of Set 5 | Kemijärvi\n",
      "Processing Weather Data for Record 13 of Set 5 | Arkhara\n",
      "Processing Weather Data for Record 14 of Set 5 | Davidson\n",
      "Processing Weather Data for Record 15 of Set 5 | College\n",
      "Processing Weather Data for Record 16 of Set 5 | Tefé\n",
      "Processing Weather Data for Record 17 of Set 5 | Corinth\n",
      "Processing Weather Data for Record 18 of Set 5 | Kizema\n",
      "City not found....Skipping............\n",
      "Processing Weather Data for Record 19 of Set 5 | Chokurdakh\n",
      "Processing Weather Data for Record 20 of Set 5 | São José da Coroa Grande\n",
      "Processing Weather Data for Record 21 of Set 5 | Dunedin\n",
      "Processing Weather Data for Record 22 of Set 5 | Ginir\n",
      "Processing Weather Data for Record 23 of Set 5 | Praia da Vitória\n",
      "Processing Weather Data for Record 24 of Set 5 | Pacific Grove\n",
      "Processing Weather Data for Record 25 of Set 5 | Beira\n",
      "City not found....Skipping............\n",
      "Processing Weather Data for Record 26 of Set 5 | Kawalu\n",
      "Processing Weather Data for Record 27 of Set 5 | Golden\n",
      "Processing Weather Data for Record 28 of Set 5 | Acajutla\n",
      "Processing Weather Data for Record 29 of Set 5 | Campbellsville\n",
      "City not found....Skipping............\n",
      "Processing Weather Data for Record 30 of Set 5 | Haines Junction\n",
      "Processing Weather Data for Record 31 of Set 5 | Lavrentiya\n",
      "Processing Weather Data for Record 32 of Set 5 | Tautira\n",
      "Processing Weather Data for Record 33 of Set 5 | Huilong\n",
      "Processing Weather Data for Record 34 of Set 5 | Leningradskiy\n",
      "Processing Weather Data for Record 35 of Set 5 | Cayenne\n",
      "Processing Weather Data for Record 36 of Set 5 | Mahibadhoo\n",
      "Processing Weather Data for Record 37 of Set 5 | Magdagachi\n",
      "Processing Weather Data for Record 38 of Set 5 | Orlik\n",
      "Processing Weather Data for Record 39 of Set 5 | Geraldton\n",
      "Processing Weather Data for Record 40 of Set 5 | Paamiut\n",
      "Processing Weather Data for Record 41 of Set 5 | Sangar\n",
      "Processing Weather Data for Record 42 of Set 5 | Artigas\n",
      "Processing Weather Data for Record 43 of Set 5 | Honningsvåg\n",
      "Processing Weather Data for Record 44 of Set 5 | North Bend\n",
      "Processing Weather Data for Record 45 of Set 5 | Vágur\n",
      "City not found....Skipping............\n",
      "Processing Weather Data for Record 46 of Set 5 | Dubbo\n",
      "Processing Weather Data for Record 47 of Set 5 | Pilar\n",
      "Processing Weather Data for Record 48 of Set 5 | Mangan\n",
      "Processing Weather Data for Record 49 of Set 5 | Kunming\n",
      "Processing Weather Data for Record 50 of Set 5 | Esim\n",
      "Processing Weather Data for Record 1 of Set 6 | Tougue\n",
      "Processing Weather Data for Record 2 of Set 6 | Inírida\n",
      "City not found....Skipping............\n",
      "Processing Weather Data for Record 3 of Set 6 | Grindavik\n",
      "City not found....Skipping............\n",
      "Processing Weather Data for Record 4 of Set 6 | Kulu\n",
      "Processing Weather Data for Record 5 of Set 6 | Poum\n",
      "Processing Weather Data for Record 6 of Set 6 | Dicabisagan\n",
      "City not found....Skipping............\n",
      "Processing Weather Data for Record 7 of Set 6 | Fairbanks\n"
     ]
    },
    {
     "name": "stdout",
     "output_type": "stream",
     "text": [
      "Processing Weather Data for Record 8 of Set 6 | De Aar\n",
      "City not found....Skipping............\n",
      "Processing Weather Data for Record 9 of Set 6 | Arrondissement de Lannion\n",
      "Processing Weather Data for Record 10 of Set 6 | Giohar\n",
      "Processing Weather Data for Record 11 of Set 6 | Mogok\n",
      "Processing Weather Data for Record 12 of Set 6 | Touros\n",
      "Processing Weather Data for Record 13 of Set 6 | Cidreira\n",
      "Processing Weather Data for Record 14 of Set 6 | Potrerillos Arriba\n",
      "Processing Weather Data for Record 15 of Set 6 | Vila Velha\n",
      "City not found....Skipping............\n",
      "Processing Weather Data for Record 16 of Set 6 | Jackson\n",
      "Processing Weather Data for Record 17 of Set 6 | Arroyo Grande\n",
      "Processing Weather Data for Record 18 of Set 6 | Kendari\n",
      "Processing Weather Data for Record 19 of Set 6 | Bonavista\n",
      "Processing Weather Data for Record 20 of Set 6 | Januária\n",
      "Processing Weather Data for Record 21 of Set 6 | Makakilo City\n",
      "Processing Weather Data for Record 22 of Set 6 | San Patricio\n",
      "Processing Weather Data for Record 23 of Set 6 | Amambai\n",
      "Processing Weather Data for Record 24 of Set 6 | Zhigansk\n",
      "Processing Weather Data for Record 25 of Set 6 | Naivasha\n",
      "Processing Weather Data for Record 26 of Set 6 | Sarkand\n",
      "Processing Weather Data for Record 27 of Set 6 | Bacolod City\n",
      "Processing Weather Data for Record 28 of Set 6 | Inta\n",
      "Processing Weather Data for Record 29 of Set 6 | Kalmunai\n",
      "Processing Weather Data for Record 30 of Set 6 | Nemuro\n",
      "Processing Weather Data for Record 31 of Set 6 | Hobyo\n",
      "Processing Weather Data for Record 32 of Set 6 | Tura\n",
      "Processing Weather Data for Record 33 of Set 6 | Marovoay\n",
      "City not found....Skipping............\n",
      "Processing Weather Data for Record 34 of Set 6 | Hualmay\n",
      "Processing Weather Data for Record 35 of Set 6 | Ubari\n",
      "Processing Weather Data for Record 36 of Set 6 | Eugene\n",
      "Processing Weather Data for Record 37 of Set 6 | Bathsheba\n",
      "City not found....Skipping............\n",
      "Processing Weather Data for Record 38 of Set 6 | Tuatapere\n",
      "Processing Weather Data for Record 39 of Set 6 | Muscat\n",
      "Processing Weather Data for Record 40 of Set 6 | Poronaysk\n",
      "Processing Weather Data for Record 41 of Set 6 | Meulaboh\n",
      "Processing Weather Data for Record 42 of Set 6 | Krutinka\n",
      "Processing Weather Data for Record 43 of Set 6 | Te Anau\n",
      "Processing Weather Data for Record 44 of Set 6 | Churapcha\n",
      "Processing Weather Data for Record 45 of Set 6 | Asău\n",
      "Processing Weather Data for Record 46 of Set 6 | Lompoc\n",
      "Processing Weather Data for Record 47 of Set 6 | Bariloche\n",
      "Processing Weather Data for Record 48 of Set 6 | Kuching\n",
      "Processing Weather Data for Record 49 of Set 6 | Richards Bay\n",
      "Processing Weather Data for Record 50 of Set 6 | Krasnoturansk\n",
      "Processing Weather Data for Record 1 of Set 7 | Moroni\n",
      "City not found....Skipping............\n",
      "Processing Weather Data for Record 2 of Set 7 | Isangel\n",
      "Processing Weather Data for Record 3 of Set 7 | Sili\n",
      "Processing Weather Data for Record 4 of Set 7 | Tasiilaq\n",
      "Processing Weather Data for Record 5 of Set 7 | Manadhoo\n",
      "Processing Weather Data for Record 6 of Set 7 | Jiancheng\n",
      "Processing Weather Data for Record 7 of Set 7 | Keuruu\n",
      "Processing Weather Data for Record 8 of Set 7 | Sibolga\n",
      "Processing Weather Data for Record 9 of Set 7 | Pamekasan\n",
      "Processing Weather Data for Record 10 of Set 7 | Mahon\n",
      "Processing Weather Data for Record 11 of Set 7 | Varhaug\n",
      "Processing Weather Data for Record 12 of Set 7 | Ugoofaaru\n",
      "Processing Weather Data for Record 13 of Set 7 | Balikpapan\n",
      "Processing Weather Data for Record 14 of Set 7 | Zirándaro de los Chávez\n",
      "Processing Weather Data for Record 15 of Set 7 | Panguna\n",
      "Processing Weather Data for Record 16 of Set 7 | Puerto Baquerizo Moreno\n",
      "City not found....Skipping............\n",
      "Processing Weather Data for Record 17 of Set 7 | Fuyu\n",
      "Processing Weather Data for Record 18 of Set 7 | Arrondissement de Saint-Denis\n",
      "City not found....Skipping............\n",
      "Processing Weather Data for Record 19 of Set 7 | Waddān\n",
      "Processing Weather Data for Record 20 of Set 7 | Norsup\n",
      "City not found....Skipping............\n",
      "Processing Weather Data for Record 21 of Set 7 | Korla\n",
      "Processing Weather Data for Record 22 of Set 7 | Lexington\n",
      "Processing Weather Data for Record 23 of Set 7 | Roald\n",
      "Processing Weather Data for Record 24 of Set 7 | Togur\n",
      "Processing Weather Data for Record 25 of Set 7 | Buraidah\n",
      "Processing Weather Data for Record 26 of Set 7 | Codrington\n",
      "Processing Weather Data for Record 27 of Set 7 | Bulancak\n",
      "Processing Weather Data for Record 28 of Set 7 | Manitouwadge\n",
      "Processing Weather Data for Record 29 of Set 7 | Sarka Ghāt\n",
      "Processing Weather Data for Record 30 of Set 7 | Sémbé\n",
      "Processing Weather Data for Record 31 of Set 7 | Nicoya\n",
      "Processing Weather Data for Record 32 of Set 7 | Chitral\n",
      "Processing Weather Data for Record 33 of Set 7 | Adrar\n",
      "Processing Weather Data for Record 34 of Set 7 | Saint Anthony\n",
      "Processing Weather Data for Record 35 of Set 7 | Sparks\n",
      "Processing Weather Data for Record 36 of Set 7 | São Gabriel da Cachoeira\n",
      "Processing Weather Data for Record 37 of Set 7 | Nenagh\n",
      "Processing Weather Data for Record 38 of Set 7 | Satis\n",
      "Processing Weather Data for Record 39 of Set 7 | Rovira\n",
      "Processing Weather Data for Record 40 of Set 7 | Talnakh\n",
      "Processing Weather Data for Record 41 of Set 7 | Moreno\n",
      "Processing Weather Data for Record 42 of Set 7 | Quelimane\n",
      "Processing Weather Data for Record 43 of Set 7 | Muros\n",
      "City not found....Skipping............\n",
      "Processing Weather Data for Record 44 of Set 7 | Nome\n",
      "Processing Weather Data for Record 45 of Set 7 | Sturgeon Bay\n",
      "Processing Weather Data for Record 46 of Set 7 | Banjar\n",
      "Processing Weather Data for Record 47 of Set 7 | Bilibino\n",
      "Processing Weather Data for Record 48 of Set 7 | Tanout\n",
      "Processing Weather Data for Record 49 of Set 7 | Fortuna\n",
      "Processing Weather Data for Record 50 of Set 7 | Mossamedes\n",
      "Processing Weather Data for Record 1 of Set 8 | Dunda\n",
      "Processing Weather Data for Record 2 of Set 8 | Duku\n",
      "Processing Weather Data for Record 3 of Set 8 | Somerset\n",
      "Processing Weather Data for Record 4 of Set 8 | Shingū\n",
      "Processing Weather Data for Record 5 of Set 8 | Duluth\n",
      "Processing Weather Data for Record 6 of Set 8 | Marietta\n",
      "Processing Weather Data for Record 7 of Set 8 | Udachny\n",
      "Processing Weather Data for Record 8 of Set 8 | Pitimbu\n",
      "Processing Weather Data for Record 9 of Set 8 | Dingle\n",
      "Processing Weather Data for Record 10 of Set 8 | Itoman\n",
      "Processing Weather Data for Record 11 of Set 8 | San Rafael\n",
      "Processing Weather Data for Record 12 of Set 8 | Shenjiamen\n",
      "Processing Weather Data for Record 13 of Set 8 | Merano\n",
      "Processing Weather Data for Record 14 of Set 8 | Thinadhoo\n",
      "Processing Weather Data for Record 15 of Set 8 | Nyurba\n",
      "Processing Weather Data for Record 16 of Set 8 | Saint-Leu\n",
      "Processing Weather Data for Record 17 of Set 8 | Bongandanga\n",
      "Processing Weather Data for Record 18 of Set 8 | Kupang\n",
      "Processing Weather Data for Record 19 of Set 8 | Eenhana\n",
      "Processing Weather Data for Record 20 of Set 8 | Eureka\n",
      "City not found....Skipping............\n",
      "Processing Weather Data for Record 21 of Set 8 | Port Hedland\n",
      "Processing Weather Data for Record 22 of Set 8 | Seoul\n",
      "Processing Weather Data for Record 23 of Set 8 | Kjøllefjord\n",
      "City not found....Skipping............\n",
      "Processing Weather Data for Record 24 of Set 8 | Agüimes\n",
      "Processing Weather Data for Record 25 of Set 8 | Krasnyy Yar\n",
      "Processing Weather Data for Record 26 of Set 8 | Taitung City\n",
      "Processing Weather Data for Record 27 of Set 8 | Dotnuva\n",
      "Processing Weather Data for Record 28 of Set 8 | São Miguel do Araguaia\n",
      "Processing Weather Data for Record 29 of Set 8 | Durban\n",
      "Processing Weather Data for Record 30 of Set 8 | Impfondo\n",
      "Processing Weather Data for Record 31 of Set 8 | Buala\n",
      "Processing Weather Data for Record 32 of Set 8 | Mnogovershinnyy\n",
      "Processing Weather Data for Record 33 of Set 8 | Ambanja\n",
      "Processing Weather Data for Record 34 of Set 8 | Outlook\n",
      "Processing Weather Data for Record 35 of Set 8 | Alyangula\n",
      "Processing Weather Data for Record 36 of Set 8 | Kailua\n",
      "Processing Weather Data for Record 37 of Set 8 | Sebaste\n",
      "Processing Weather Data for Record 38 of Set 8 | Blythe\n",
      "Processing Weather Data for Record 39 of Set 8 | Zapolyarnyy\n",
      "City not found....Skipping............\n",
      "City not found....Skipping............\n"
     ]
    },
    {
     "name": "stdout",
     "output_type": "stream",
     "text": [
      "Processing Weather Data for Record 40 of Set 8 | Buta\n",
      "Processing Weather Data for Record 41 of Set 8 | Nizwá\n",
      "Processing Weather Data for Record 42 of Set 8 | Isoka\n",
      "City not found....Skipping............\n",
      "Processing Weather Data for Record 43 of Set 8 | Santa Rosa\n",
      "Processing Weather Data for Record 44 of Set 8 | Clyde River\n",
      "Processing Weather Data for Record 45 of Set 8 | Launceston\n",
      "City not found....Skipping............\n",
      "Processing Weather Data for Record 46 of Set 8 | Niquero\n",
      "City not found....Skipping............\n",
      "Processing Weather Data for Record 47 of Set 8 | Vilhena\n",
      "Processing Weather Data for Record 48 of Set 8 | Palmer\n",
      "Processing Weather Data for Record 49 of Set 8 | São Filipe\n",
      "City not found....Skipping............\n",
      "Processing Weather Data for Record 50 of Set 8 | Shumskiy\n",
      "Processing Weather Data for Record 1 of Set 9 | Farafangana\n",
      "Processing Weather Data for Record 2 of Set 9 | Bowen\n",
      "Processing Weather Data for Record 3 of Set 9 | Acapulco de Juárez\n",
      "Processing Weather Data for Record 4 of Set 9 | Antofagasta\n",
      "Processing Weather Data for Record 5 of Set 9 | Bonthe\n",
      "Processing Weather Data for Record 6 of Set 9 | Diamantino\n",
      "City not found....Skipping............\n",
      "Processing Weather Data for Record 7 of Set 9 | Verkhovazh'ye\n",
      "City not found....Skipping............\n",
      "Processing Weather Data for Record 8 of Set 9 | Bambanglipuro\n",
      "Processing Weather Data for Record 9 of Set 9 | Vestmanna\n",
      "Processing Weather Data for Record 10 of Set 9 | Canavieiras\n",
      "Processing Weather Data for Record 11 of Set 9 | Stornoway\n",
      "Processing Weather Data for Record 12 of Set 9 | Aksu\n",
      "Processing Weather Data for Record 13 of Set 9 | Petropavlovsk-Kamchatskiy\n",
      "Processing Weather Data for Record 14 of Set 9 | Olafsvik\n",
      "Processing Weather Data for Record 15 of Set 9 | Rawson\n",
      "Processing Weather Data for Record 16 of Set 9 | Japura\n",
      "City not found....Skipping............\n",
      "Processing Weather Data for Record 17 of Set 9 | Thompson\n",
      "Processing Weather Data for Record 18 of Set 9 | Pervomayskoye\n",
      "Processing Weather Data for Record 19 of Set 9 | Maningrida\n",
      "Processing Weather Data for Record 20 of Set 9 | Rome\n",
      "Processing Weather Data for Record 21 of Set 9 | Chabahar\n",
      "Processing Weather Data for Record 22 of Set 9 | Warren\n",
      "Processing Weather Data for Record 23 of Set 9 | Kavaratti\n",
      "Processing Weather Data for Record 24 of Set 9 | Risør\n",
      "Processing Weather Data for Record 25 of Set 9 | Malanje\n",
      "Processing Weather Data for Record 26 of Set 9 | Skjervøy\n",
      "Processing Weather Data for Record 27 of Set 9 | Tambongon\n",
      "Processing Weather Data for Record 28 of Set 9 | Husavik\n",
      "City not found....Skipping............\n",
      "Processing Weather Data for Record 29 of Set 9 | Prince Rupert\n",
      "Processing Weather Data for Record 30 of Set 9 | Oranjemund\n",
      "Processing Weather Data for Record 31 of Set 9 | Camopi\n",
      "Processing Weather Data for Record 32 of Set 9 | Necochea\n",
      "Processing Weather Data for Record 33 of Set 9 | Natchitoches\n",
      "Processing Weather Data for Record 34 of Set 9 | Varna\n",
      "Processing Weather Data for Record 35 of Set 9 | Kataysk\n",
      "Processing Weather Data for Record 36 of Set 9 | Baghdad\n",
      "Processing Weather Data for Record 37 of Set 9 | Kutum\n",
      "Processing Weather Data for Record 38 of Set 9 | Bandarbeyla\n",
      "Processing Weather Data for Record 39 of Set 9 | Jacareacanga\n",
      "Processing Weather Data for Record 40 of Set 9 | San Vicente\n",
      "Processing Weather Data for Record 41 of Set 9 | Ostrovnoy\n",
      "Processing Weather Data for Record 42 of Set 9 | Fairhope\n",
      "City not found....Skipping............\n",
      "Processing Weather Data for Record 43 of Set 9 | Riohacha\n",
      "Processing Weather Data for Record 44 of Set 9 | Kysyl-Syr\n",
      "Processing Weather Data for Record 45 of Set 9 | Raisio\n",
      "Processing Weather Data for Record 46 of Set 9 | Najrān\n",
      "Processing Weather Data for Record 47 of Set 9 | Soure\n",
      "Processing Weather Data for Record 48 of Set 9 | Abay\n",
      "Processing Weather Data for Record 49 of Set 9 | Porto-Novo\n",
      "Processing Weather Data for Record 50 of Set 9 | Kandrian\n",
      "Processing Weather Data for Record 1 of Set 10 | Oddur\n",
      "Processing Weather Data for Record 2 of Set 10 | Serenje\n",
      "Processing Weather Data for Record 3 of Set 10 | Otane\n",
      "Processing Weather Data for Record 4 of Set 10 | Puteyets\n",
      "Processing Weather Data for Record 5 of Set 10 | Saint-François\n",
      "Processing Weather Data for Record 6 of Set 10 | Klaksvík\n",
      "Processing Weather Data for Record 7 of Set 10 | Scottsbluff\n",
      "Processing Weather Data for Record 8 of Set 10 | Amahai\n",
      "Processing Weather Data for Record 9 of Set 10 | Miraflores\n",
      "Processing Weather Data for Record 10 of Set 10 | Asadābād\n",
      "Processing Weather Data for Record 11 of Set 10 | Desert Hot Springs\n",
      "Processing Weather Data for Record 12 of Set 10 | Uíge\n",
      "Processing Weather Data for Record 13 of Set 10 | Gijang\n",
      "Processing Weather Data for Record 14 of Set 10 | Stabat\n",
      "Processing Weather Data for Record 15 of Set 10 | Kumul\n",
      "City not found....Skipping............\n",
      "Processing Weather Data for Record 16 of Set 10 | Ōme\n",
      "Processing Weather Data for Record 17 of Set 10 | Sterling\n",
      "Processing Weather Data for Record 18 of Set 10 | Maragogi\n",
      "Processing Weather Data for Record 19 of Set 10 | Wajima\n",
      "Processing Weather Data for Record 20 of Set 10 | Arosa\n",
      "Processing Weather Data for Record 21 of Set 10 | Aykhal\n",
      "City not found....Skipping............\n",
      "Processing Weather Data for Record 22 of Set 10 | Nanga Eboko\n",
      "City not found....Skipping............\n",
      "Processing Weather Data for Record 23 of Set 10 | Pangnirtung\n",
      "Processing Weather Data for Record 24 of Set 10 | Lang Son\n",
      "Processing Weather Data for Record 25 of Set 10 | Manicoré\n",
      "Processing Weather Data for Record 26 of Set 10 | Porkhov\n",
      "City not found....Skipping............\n",
      "City not found....Skipping............\n",
      "Processing Weather Data for Record 27 of Set 10 | Leh\n",
      "Processing Weather Data for Record 28 of Set 10 | Mahanoro\n",
      "Processing Weather Data for Record 29 of Set 10 | Birjand\n",
      "City not found....Skipping............\n",
      "Processing Weather Data for Record 30 of Set 10 | Aksarka\n",
      "Processing Weather Data for Record 31 of Set 10 | Borba\n",
      "Processing Weather Data for Record 32 of Set 10 | Bāndarban\n",
      "Processing Weather Data for Record 33 of Set 10 | Lollar\n",
      "Processing Weather Data for Record 34 of Set 10 | Lázaro Cárdenas\n",
      "Processing Weather Data for Record 35 of Set 10 | Panabá\n",
      "Processing Weather Data for Record 36 of Set 10 | Bonfim\n",
      "Processing Weather Data for Record 37 of Set 10 | Mayumba\n",
      "Processing Weather Data for Record 38 of Set 10 | Erenhot\n",
      "Processing Weather Data for Record 39 of Set 10 | Riberalta\n",
      "City not found....Skipping............\n",
      "Processing Weather Data for Record 40 of Set 10 | Montrose\n",
      "Processing Weather Data for Record 41 of Set 10 | Belmonte\n",
      "Processing Weather Data for Record 42 of Set 10 | Victor Harbor\n",
      "Processing Weather Data for Record 43 of Set 10 | Balyqshy\n",
      "Processing Weather Data for Record 44 of Set 10 | Klaipėda\n",
      "City not found....Skipping............\n",
      "Processing Weather Data for Record 45 of Set 10 | Beeskow\n",
      "Processing Weather Data for Record 46 of Set 10 | Löningen\n",
      "Processing Weather Data for Record 47 of Set 10 | Talakan\n",
      "Processing Weather Data for Record 48 of Set 10 | Wainwright\n",
      "Processing Weather Data for Record 49 of Set 10 | Brae\n",
      "City not found....Skipping............\n",
      "Processing Weather Data for Record 50 of Set 10 | Kayiry\n",
      "Processing Weather Data for Record 1 of Set 11 | Nüziders\n",
      "Processing Weather Data for Record 2 of Set 11 | Yangi Marg`ilon\n",
      "Processing Weather Data for Record 3 of Set 11 | Lakes Entrance\n",
      "Processing Weather Data for Record 4 of Set 11 | São João da Barra\n",
      "Processing Weather Data for Record 5 of Set 11 | Hamilton\n",
      "Processing Weather Data for Record 6 of Set 11 | Bubaque\n",
      "Processing Weather Data for Record 7 of Set 11 | Naze\n",
      "Processing Weather Data for Record 8 of Set 11 | Horsham\n",
      "Processing Weather Data for Record 9 of Set 11 | Port Hardy\n",
      "Processing Weather Data for Record 10 of Set 11 | Port-Gentil\n",
      "Processing Weather Data for Record 11 of Set 11 | Kavieng\n",
      "Processing Weather Data for Record 12 of Set 11 | San Ramon\n",
      "Processing Weather Data for Record 13 of Set 11 | Kaspiysk\n",
      "Processing Weather Data for Record 14 of Set 11 | Balaipungut\n",
      "Processing Weather Data for Record 15 of Set 11 | Ōarai\n",
      "Processing Weather Data for Record 16 of Set 11 | Taoudenni\n",
      "Processing Weather Data for Record 17 of Set 11 | Oussouye\n",
      "Processing Weather Data for Record 18 of Set 11 | Batemans Bay\n"
     ]
    },
    {
     "name": "stdout",
     "output_type": "stream",
     "text": [
      "Processing Weather Data for Record 19 of Set 11 | Jinchang\n",
      "Processing Weather Data for Record 20 of Set 11 | Aklavik\n",
      "Processing Weather Data for Record 21 of Set 11 | Vallenar\n",
      "Processing Weather Data for Record 22 of Set 11 | Ambon City\n",
      "Processing Weather Data for Record 23 of Set 11 | Sitka\n",
      "City not found....Skipping............\n",
      "Processing Weather Data for Record 24 of Set 11 | Wilmington\n",
      "Processing Weather Data for Record 25 of Set 11 | Trat\n",
      "Processing Weather Data for Record 26 of Set 11 | Portland\n",
      "Processing Weather Data for Record 27 of Set 11 | Karratha\n",
      "Processing Weather Data for Record 28 of Set 11 | Balad\n",
      "Processing Weather Data for Record 29 of Set 11 | Elko\n",
      "Processing Weather Data for Record 30 of Set 11 | Amuntai\n",
      "Processing Weather Data for Record 31 of Set 11 | Samarai\n",
      "Processing Weather Data for Record 32 of Set 11 | Assiut\n",
      "Processing Weather Data for Record 33 of Set 11 | Manavālakurichi\n",
      "Processing Weather Data for Record 34 of Set 11 | Bridgetown\n",
      "Processing Weather Data for Record 35 of Set 11 | Srednekolymsk\n",
      "Processing Weather Data for Record 36 of Set 11 | Tadine\n",
      "Processing Weather Data for Record 37 of Set 11 | Nishihara\n",
      "-----------------------------\n",
      "Data Retrieval Complete\n",
      "-----------------------------\n"
     ]
    }
   ],
   "source": [
    "for index, row in city_weather.iterrows(): \n",
    "    #Create the query url for the API call\n",
    "    query_url = base_url + row['City'] + ',' + row['Country'] + '&APPID=' + weather_api_key\n",
    "    \n",
    "    #API call\n",
    "    response = requests.get(query_url).json()\n",
    "    #Exception script in case the city is not found by the API call\n",
    "    try: \n",
    "        #Meassage to alert the user that the data is being retrieved\n",
    "        print(f'Processing Weather Data for Record {record_num} of Set {record_set} | {response[\"name\"]}')\n",
    "        \n",
    "        #Input data into the dataframe\n",
    "        \n",
    "        city_weather.loc[index, 'Country'] = response['sys']['country']\n",
    "        city_weather.loc[index, 'Cloudiness'] = response['clouds']['all']\n",
    "        city_weather.loc[index, 'Date'] = response['dt']\n",
    "        city_weather.loc[index, 'Humidity'] = response['main']['humidity']\n",
    "        city_weather.loc[index, 'Lat'] = response['coord']['lat']\n",
    "        city_weather.loc[index, 'Lng'] = response['coord']['lon']\n",
    "        city_weather.loc[index, 'Max Temp'] = response['main']['temp_max']\n",
    "        city_weather.loc[index, 'Windspeed'] = response['wind']['speed']\n",
    "        \n",
    "        #Increase the record count\n",
    "        record_num += 1\n",
    "    except (KeyError, IndexError):\n",
    "        print(\"City not found....Skipping............\")\n",
    "    \n",
    "    #If statement to handle the API call limits\n",
    "    if record_num == 51:\n",
    "        record_set += 1\n",
    "        record_num = 1\n",
    "        time.sleep(60)\n",
    "print(\"-----------------------------\")        \n",
    "print(\"Data Retrieval Complete\")\n",
    "print(\"-----------------------------\")"
   ]
  },
  {
   "cell_type": "code",
   "execution_count": null,
   "metadata": {},
   "outputs": [],
   "source": []
  },
  {
   "cell_type": "markdown",
   "metadata": {},
   "source": [
    "### Convert Raw Data to DataFrame\n",
    "* Export the city data into a .csv.\n",
    "* Display the DataFrame"
   ]
  },
  {
   "cell_type": "code",
   "execution_count": 7,
   "metadata": {},
   "outputs": [
    {
     "data": {
      "text/plain": [
       "City          607\n",
       "Cloudiness    607\n",
       "Country       607\n",
       "Date          607\n",
       "Humidity      607\n",
       "Lat           607\n",
       "Lng           607\n",
       "Max Temp      607\n",
       "Windspeed     607\n",
       "dtype: int64"
      ]
     },
     "execution_count": 7,
     "metadata": {},
     "output_type": "execute_result"
    }
   ],
   "source": [
    "city_weather.count()"
   ]
  },
  {
   "cell_type": "code",
   "execution_count": 11,
   "metadata": {},
   "outputs": [
    {
     "data": {
      "text/html": [
       "<div>\n",
       "<style scoped>\n",
       "    .dataframe tbody tr th:only-of-type {\n",
       "        vertical-align: middle;\n",
       "    }\n",
       "\n",
       "    .dataframe tbody tr th {\n",
       "        vertical-align: top;\n",
       "    }\n",
       "\n",
       "    .dataframe thead th {\n",
       "        text-align: right;\n",
       "    }\n",
       "</style>\n",
       "<table border=\"1\" class=\"dataframe\">\n",
       "  <thead>\n",
       "    <tr style=\"text-align: right;\">\n",
       "      <th></th>\n",
       "      <th>City</th>\n",
       "      <th>Cloudiness</th>\n",
       "      <th>Country</th>\n",
       "      <th>Date</th>\n",
       "      <th>Humidity</th>\n",
       "      <th>Lat</th>\n",
       "      <th>Lng</th>\n",
       "      <th>Max Temp</th>\n",
       "      <th>Windspeed</th>\n",
       "    </tr>\n",
       "  </thead>\n",
       "  <tbody>\n",
       "    <tr>\n",
       "      <th>0</th>\n",
       "      <td>cape town</td>\n",
       "      <td>0</td>\n",
       "      <td>ZA</td>\n",
       "      <td>1650939464</td>\n",
       "      <td>73</td>\n",
       "      <td>-33.9258</td>\n",
       "      <td>18.4232</td>\n",
       "      <td>60.91</td>\n",
       "      <td>11.99</td>\n",
       "    </tr>\n",
       "    <tr>\n",
       "      <th>1</th>\n",
       "      <td>ushuaia</td>\n",
       "      <td>40</td>\n",
       "      <td>AR</td>\n",
       "      <td>1650939377</td>\n",
       "      <td>70</td>\n",
       "      <td>-54.8</td>\n",
       "      <td>-68.3</td>\n",
       "      <td>40.66</td>\n",
       "      <td>16.11</td>\n",
       "    </tr>\n",
       "    <tr>\n",
       "      <th>2</th>\n",
       "      <td>bengkulu</td>\n",
       "      <td>100</td>\n",
       "      <td>ID</td>\n",
       "      <td>1650939465</td>\n",
       "      <td>74</td>\n",
       "      <td>-3.8004</td>\n",
       "      <td>102.266</td>\n",
       "      <td>80.01</td>\n",
       "      <td>3.83</td>\n",
       "    </tr>\n",
       "    <tr>\n",
       "      <th>3</th>\n",
       "      <td>soyo</td>\n",
       "      <td>68</td>\n",
       "      <td>AO</td>\n",
       "      <td>1650939465</td>\n",
       "      <td>90</td>\n",
       "      <td>-6.1349</td>\n",
       "      <td>12.3689</td>\n",
       "      <td>77.18</td>\n",
       "      <td>5.97</td>\n",
       "    </tr>\n",
       "    <tr>\n",
       "      <th>4</th>\n",
       "      <td>nikolskoye</td>\n",
       "      <td></td>\n",
       "      <td></td>\n",
       "      <td></td>\n",
       "      <td></td>\n",
       "      <td></td>\n",
       "      <td></td>\n",
       "      <td></td>\n",
       "      <td></td>\n",
       "    </tr>\n",
       "  </tbody>\n",
       "</table>\n",
       "</div>"
      ],
      "text/plain": [
       "         City Cloudiness Country        Date Humidity      Lat      Lng  \\\n",
       "0   cape town          0      ZA  1650939464       73 -33.9258  18.4232   \n",
       "1     ushuaia         40      AR  1650939377       70    -54.8    -68.3   \n",
       "2    bengkulu        100      ID  1650939465       74  -3.8004  102.266   \n",
       "3        soyo         68      AO  1650939465       90  -6.1349  12.3689   \n",
       "4  nikolskoye                                                             \n",
       "\n",
       "  Max Temp Windspeed  \n",
       "0    60.91     11.99  \n",
       "1    40.66     16.11  \n",
       "2    80.01      3.83  \n",
       "3    77.18      5.97  \n",
       "4                     "
      ]
     },
     "execution_count": 11,
     "metadata": {},
     "output_type": "execute_result"
    }
   ],
   "source": [
    "city_weather.head()"
   ]
  },
  {
   "cell_type": "code",
   "execution_count": 12,
   "metadata": {},
   "outputs": [],
   "source": [
    "#Export DataFrame to CSV File\n",
    "city_weather.to_csv(\"city_weather.csv\")\n"
   ]
  },
  {
   "cell_type": "code",
   "execution_count": 13,
   "metadata": {},
   "outputs": [],
   "source": [
    "import pandas as pd"
   ]
  },
  {
   "cell_type": "code",
   "execution_count": 14,
   "metadata": {},
   "outputs": [],
   "source": [
    "city_weather=pd.read_csv(\"city_weather.csv\")"
   ]
  },
  {
   "cell_type": "code",
   "execution_count": 15,
   "metadata": {},
   "outputs": [
    {
     "data": {
      "text/html": [
       "<div>\n",
       "<style scoped>\n",
       "    .dataframe tbody tr th:only-of-type {\n",
       "        vertical-align: middle;\n",
       "    }\n",
       "\n",
       "    .dataframe tbody tr th {\n",
       "        vertical-align: top;\n",
       "    }\n",
       "\n",
       "    .dataframe thead th {\n",
       "        text-align: right;\n",
       "    }\n",
       "</style>\n",
       "<table border=\"1\" class=\"dataframe\">\n",
       "  <thead>\n",
       "    <tr style=\"text-align: right;\">\n",
       "      <th></th>\n",
       "      <th>City</th>\n",
       "      <th>Cloudiness</th>\n",
       "      <th>Country</th>\n",
       "      <th>Date</th>\n",
       "      <th>Humidity</th>\n",
       "      <th>Lat</th>\n",
       "      <th>Lng</th>\n",
       "      <th>Max Temp</th>\n",
       "      <th>Windspeed</th>\n",
       "    </tr>\n",
       "  </thead>\n",
       "  <tbody>\n",
       "    <tr>\n",
       "      <th>0</th>\n",
       "      <td>cape town</td>\n",
       "      <td>0.0</td>\n",
       "      <td>ZA</td>\n",
       "      <td>1.650939e+09</td>\n",
       "      <td>73.0</td>\n",
       "      <td>-33.9258</td>\n",
       "      <td>18.4232</td>\n",
       "      <td>60.91</td>\n",
       "      <td>11.99</td>\n",
       "    </tr>\n",
       "    <tr>\n",
       "      <th>1</th>\n",
       "      <td>ushuaia</td>\n",
       "      <td>40.0</td>\n",
       "      <td>AR</td>\n",
       "      <td>1.650939e+09</td>\n",
       "      <td>70.0</td>\n",
       "      <td>-54.8000</td>\n",
       "      <td>-68.3000</td>\n",
       "      <td>40.66</td>\n",
       "      <td>16.11</td>\n",
       "    </tr>\n",
       "    <tr>\n",
       "      <th>2</th>\n",
       "      <td>bengkulu</td>\n",
       "      <td>100.0</td>\n",
       "      <td>ID</td>\n",
       "      <td>1.650939e+09</td>\n",
       "      <td>74.0</td>\n",
       "      <td>-3.8004</td>\n",
       "      <td>102.2655</td>\n",
       "      <td>80.01</td>\n",
       "      <td>3.83</td>\n",
       "    </tr>\n",
       "    <tr>\n",
       "      <th>3</th>\n",
       "      <td>soyo</td>\n",
       "      <td>68.0</td>\n",
       "      <td>AO</td>\n",
       "      <td>1.650939e+09</td>\n",
       "      <td>90.0</td>\n",
       "      <td>-6.1349</td>\n",
       "      <td>12.3689</td>\n",
       "      <td>77.18</td>\n",
       "      <td>5.97</td>\n",
       "    </tr>\n",
       "    <tr>\n",
       "      <th>4</th>\n",
       "      <td>nikolskoye</td>\n",
       "      <td>NaN</td>\n",
       "      <td>NaN</td>\n",
       "      <td>NaN</td>\n",
       "      <td>NaN</td>\n",
       "      <td>NaN</td>\n",
       "      <td>NaN</td>\n",
       "      <td>NaN</td>\n",
       "      <td>NaN</td>\n",
       "    </tr>\n",
       "  </tbody>\n",
       "</table>\n",
       "</div>"
      ],
      "text/plain": [
       "         City  Cloudiness Country          Date  Humidity      Lat       Lng  \\\n",
       "0   cape town         0.0      ZA  1.650939e+09      73.0 -33.9258   18.4232   \n",
       "1     ushuaia        40.0      AR  1.650939e+09      70.0 -54.8000  -68.3000   \n",
       "2    bengkulu       100.0      ID  1.650939e+09      74.0  -3.8004  102.2655   \n",
       "3        soyo        68.0      AO  1.650939e+09      90.0  -6.1349   12.3689   \n",
       "4  nikolskoye         NaN     NaN           NaN       NaN      NaN       NaN   \n",
       "\n",
       "   Max Temp  Windspeed  \n",
       "0     60.91      11.99  \n",
       "1     40.66      16.11  \n",
       "2     80.01       3.83  \n",
       "3     77.18       5.97  \n",
       "4       NaN        NaN  "
      ]
     },
     "execution_count": 15,
     "metadata": {},
     "output_type": "execute_result"
    }
   ],
   "source": [
    "df=pd.DataFrame(city_weather)\n",
    "del df['Unnamed: 0']\n",
    "df.head()"
   ]
  },
  {
   "cell_type": "code",
   "execution_count": null,
   "metadata": {},
   "outputs": [],
   "source": []
  },
  {
   "cell_type": "markdown",
   "metadata": {},
   "source": [
    "## Plotting the Data\n",
    "* Use proper labeling of the plots using plot titles (including date of analysis) and axes labels.\n",
    "* Save the plotted figures as .pngs."
   ]
  },
  {
   "cell_type": "markdown",
   "metadata": {},
   "source": [
    "## Latitude vs. Temperature Plot"
   ]
  },
  {
   "cell_type": "code",
   "execution_count": 16,
   "metadata": {},
   "outputs": [
    {
     "data": {
      "image/png": "[encoded data removed]",
      "text/plain": [
       "<Figure size 432x288 with 1 Axes>"
      ]
     },
     "metadata": {
      "needs_background": "light"
     },
     "output_type": "display_data"
    }
   ],
   "source": [
    "# Build a scatter plot for each data type\n",
    "plt.scatter(city_weather[\"Lat\"], city_weather[\"Max Temp\"], marker=\"o\")\n",
    "# Graph properties\n",
    "plt.title(f'City Latitude vs. Max Temperature {time.strftime(\"%m/%d/%Y\")}')\n",
    "plt.ylabel(\"Temperature (F)\")\n",
    "plt.xlabel(\"Latitude\")\n",
    "plt.grid(True)\n",
    "#Save the figure\n",
    "plt.savefig(\"../Images/City Latitude vs Max Temperature.png\")\n",
    "\n",
    "# Show plot\n",
    "plt.show()\n"
   ]
  },
  {
   "cell_type": "markdown",
   "metadata": {},
   "source": [
    "As we can see, highest temperature is found arround 0.The plot shows that as we move from the equator, temperature decrease."
   ]
  },
  {
   "cell_type": "markdown",
   "metadata": {},
   "source": [
    "## Latitude vs. Humidity Plot"
   ]
  },
  {
   "cell_type": "code",
   "execution_count": 17,
   "metadata": {},
   "outputs": [
    {
     "data": {
      "image/png": "[encoded data removed]",
      "text/plain": [
       "<Figure size 432x288 with 1 Axes>"
      ]
     },
     "metadata": {
      "needs_background": "light"
     },
     "output_type": "display_data"
    }
   ],
   "source": [
    "# Build a scatter plot \n",
    "plt.scatter(city_weather[\"Lat\"], city_weather[\"Humidity\"], marker=\"o\")\n",
    "# Graph properties\n",
    "plt.title(f'City Latitude vs. Max Humidity {time.strftime(\"%m/%d/%Y\")}')\n",
    "plt.ylabel(\"Humidity (%)\")\n",
    "plt.xlabel(\"Latitude\")\n",
    "plt.grid(True)\n",
    "#Save the figure\n",
    "plt.savefig(\"../Images/City Latitude vs Humidity.png\")\n",
    "\n",
    "# Show plot\n",
    "plt.show()"
   ]
  },
  {
   "cell_type": "markdown",
   "metadata": {},
   "source": [
    "This plot shows that there are quasi no corelation between Latitude and Humidity. However we can see that as latitude is higher,humidity is higher in the Southern hemisphere"
   ]
  },
  {
   "cell_type": "code",
   "execution_count": null,
   "metadata": {},
   "outputs": [],
   "source": []
  },
  {
   "cell_type": "markdown",
   "metadata": {},
   "source": [
    "## Latitude vs. Cloudiness Plot"
   ]
  },
  {
   "cell_type": "code",
   "execution_count": 18,
   "metadata": {
    "scrolled": true
   },
   "outputs": [
    {
     "data": {
      "image/png": "[encoded data removed]",
      "text/plain": [
       "<Figure size 432x288 with 1 Axes>"
      ]
     },
     "metadata": {
      "needs_background": "light"
     },
     "output_type": "display_data"
    }
   ],
   "source": [
    "# Build a scatter plot for each data type\n",
    "plt.scatter(city_weather[\"Lat\"], city_weather[\"Cloudiness\"], marker=\"o\")\n",
    "\n",
    "# Incorporate the other graph properties\n",
    "plt.title(f'City Latitude vs. Cloudiness {time.strftime(\"%m/%d/%Y\")}')\n",
    "plt.ylabel(\"Cloudiness (%)\")\n",
    "plt.xlabel(\"Latitude\")\n",
    "plt.grid(True)\n",
    "#Save the figure\n",
    "plt.savefig(\"../Images/City Latitude vs Cloudiness.png\")\n",
    "\n",
    "# Show plot\n",
    "plt.show()"
   ]
  },
  {
   "cell_type": "markdown",
   "metadata": {},
   "source": [
    "We can observe in the plot that there are no correlation between Latitude and Cloudiness"
   ]
  },
  {
   "cell_type": "markdown",
   "metadata": {},
   "source": [
    "## Latitude vs. Wind Speed Plot"
   ]
  },
  {
   "cell_type": "code",
   "execution_count": 19,
   "metadata": {},
   "outputs": [
    {
     "data": {
      "image/png": "[encoded data removed]",
      "text/plain": [
       "<Figure size 432x288 with 1 Axes>"
      ]
     },
     "metadata": {
      "needs_background": "light"
     },
     "output_type": "display_data"
    }
   ],
   "source": [
    "# Build a scatter plot \n",
    "plt.scatter(city_weather[\"Lat\"], city_weather[\"Windspeed\"], marker=\"o\")\n",
    "\n",
    "# Graph properties\n",
    "plt.title(f'City Latitude vs. Windspeed {time.strftime(\"%m/%d/%Y\")}')\n",
    "plt.ylabel(\"Wind Speed(mph)\")\n",
    "plt.xlabel(\"Latitude\")\n",
    "plt.grid(True)\n",
    "#Save the figure\n",
    "plt.savefig(\"../Images/City Latitude vs Wind Speed.png\")\n",
    "\n",
    "# Show plot\n",
    "plt.show()"
   ]
  },
  {
   "cell_type": "markdown",
   "metadata": {},
   "source": [
    "The plot shows that there are no real relatinship between Latitude and Wind Speed"
   ]
  },
  {
   "cell_type": "markdown",
   "metadata": {},
   "source": [
    "## Linear Regression"
   ]
  },
  {
   "cell_type": "code",
   "execution_count": 20,
   "metadata": {},
   "outputs": [],
   "source": [
    "# linear regression equation and line to plot\n",
    "def linear_reg_plot(x_values,y_values):\n",
    "    (slope, intercept, rvalue, pvalue, stderr) = linregress(x_values, y_values)\n",
    "    regress_values = x_values * slope + intercept\n",
    "    line_eq = \"y = \" + str(round(slope,2)) + \"x + \" + str(round(intercept,2))\n",
    "    plt.scatter(x_values,y_values)\n",
    "    plt.plot(x_values,regress_values,\"r-\")\n",
    "    plt.annotate(line_eq,(x_values.median(),y_values.median()),fontsize=15,color=\"red\")\n",
    "    plt.xlabel(\"Latitude\")\n",
    "    print(f\"The r-squared is: {rvalue}\")\n",
    "    plt.show()"
   ]
  },
  {
   "cell_type": "code",
   "execution_count": 21,
   "metadata": {},
   "outputs": [],
   "source": [
    "# Create Northern and Southern Hemisphere DataFrames\n",
    "Northern_hemisphere = city_weather.loc[city_weather[\"Lat\"]>0]\n",
    "Southern_hemisphere = city_weather.loc[city_weather[\"Lat\"]<0]"
   ]
  },
  {
   "cell_type": "markdown",
   "metadata": {},
   "source": [
    "####  Northern Hemisphere - Max Temp vs. Latitude Linear Regression"
   ]
  },
  {
   "cell_type": "code",
   "execution_count": 22,
   "metadata": {},
   "outputs": [
    {
     "name": "stdout",
     "output_type": "stream",
     "text": [
      "The r-squared is: -0.8981118014027824\n"
     ]
    },
    {
     "data": {
      "image/png": "[encoded data removed]",
      "text/plain": [
       "<Figure size 432x288 with 1 Axes>"
      ]
     },
     "metadata": {
      "needs_background": "light"
     },
     "output_type": "display_data"
    },
    {
     "name": "stdout",
     "output_type": "stream",
     "text": [
      "None\n"
     ]
    }
   ],
   "source": [
    "plt.title(\"Northern Hemisphere - Max Temp vs. Latitude Linear Regression\")\n",
    "x_values = Northern_hemisphere[\"Lat\"]\n",
    "y_values = Northern_hemisphere[\"Max Temp\"]\n",
    "plt.ylabel(\"Max Temp (F)\")\n",
    "# Save the figure\n",
    "plt.savefig(\"../Images/Northern Hemisphere - Max Temp vs. Latitude Linear Regression.png\")\n",
    "print(linear_reg_plot(x_values,y_values))"
   ]
  },
  {
   "cell_type": "code",
   "execution_count": null,
   "metadata": {},
   "outputs": [],
   "source": []
  },
  {
   "cell_type": "markdown",
   "metadata": {},
   "source": [
    "####  Southern Hemisphere - Max Temp vs. Latitude Linear Regression"
   ]
  },
  {
   "cell_type": "code",
   "execution_count": 23,
   "metadata": {},
   "outputs": [
    {
     "name": "stdout",
     "output_type": "stream",
     "text": [
      "The r-squared is: 0.72520746736573\n"
     ]
    },
    {
     "data": {
      "image/png": "[encoded data removed]",
      "text/plain": [
       "<Figure size 432x288 with 1 Axes>"
      ]
     },
     "metadata": {
      "needs_background": "light"
     },
     "output_type": "display_data"
    },
    {
     "name": "stdout",
     "output_type": "stream",
     "text": [
      "None\n"
     ]
    }
   ],
   "source": [
    "plt.title(\"Southern Hemisphere - Max Temp vs. Latitude Linear Regression\")\n",
    "x_values = Southern_hemisphere[\"Lat\"]\n",
    "y_values = Southern_hemisphere[\"Max Temp\"]\n",
    "plt.ylabel(\"Max Temp (F)\")\n",
    "plt.savefig(\"../Images/Southern Hemisphere - Max Temp vs. Latitude Linear Regression.png\")\n",
    "print(linear_reg_plot(x_values,y_values))"
   ]
  },
  {
   "cell_type": "markdown",
   "metadata": {},
   "source": [
    "The Two previous plot show the following:\n",
    "    The Northern Hemisphere displays a negative slope with a negative correlation between Temperature and Latitude, however the Southern Hemisphere displays a positive slope with a positive correlation between Temperature and Latitude."
   ]
  },
  {
   "cell_type": "markdown",
   "metadata": {},
   "source": [
    "####  Northern Hemisphere - Humidity (%) vs. Latitude Linear Regression"
   ]
  },
  {
   "cell_type": "code",
   "execution_count": 24,
   "metadata": {},
   "outputs": [
    {
     "name": "stdout",
     "output_type": "stream",
     "text": [
      "The r-squared is: 0.10439128426898711\n"
     ]
    },
    {
     "data": {
      "image/png": "[encoded data removed]",
      "text/plain": [
       "<Figure size 432x288 with 1 Axes>"
      ]
     },
     "metadata": {
      "needs_background": "light"
     },
     "output_type": "display_data"
    },
    {
     "name": "stdout",
     "output_type": "stream",
     "text": [
      "None\n"
     ]
    }
   ],
   "source": [
    "plt.title(\"Northern Hemisphere - Humidity (%) vs. Latitude Linear Regression\")\n",
    "x_values = Northern_hemisphere[\"Lat\"]\n",
    "y_values = Northern_hemisphere[\"Humidity\"]\n",
    "plt.ylabel(\"Humidity\")\n",
    "# Save the figure\n",
    "plt.savefig(\"../Images/Northern Hemisphere - Humidity (%) vs. Latitude Linear Regression.png\")\n",
    "print(linear_reg_plot(x_values,y_values))"
   ]
  },
  {
   "cell_type": "code",
   "execution_count": null,
   "metadata": {},
   "outputs": [],
   "source": []
  },
  {
   "cell_type": "markdown",
   "metadata": {},
   "source": [
    "####  Southern Hemisphere - Humidity (%) vs. Latitude Linear Regression"
   ]
  },
  {
   "cell_type": "code",
   "execution_count": 25,
   "metadata": {},
   "outputs": [
    {
     "name": "stdout",
     "output_type": "stream",
     "text": [
      "The r-squared is: 0.3004099986884258\n"
     ]
    },
    {
     "data": {
      "image/png": "[encoded data removed]",
      "text/plain": [
       "<Figure size 432x288 with 1 Axes>"
      ]
     },
     "metadata": {
      "needs_background": "light"
     },
     "output_type": "display_data"
    },
    {
     "name": "stdout",
     "output_type": "stream",
     "text": [
      "None\n"
     ]
    }
   ],
   "source": [
    "plt.title(\"Southern Hemisphere - Humidity (%) vs. Latitude Linear Regression\")\n",
    "x_values = Southern_hemisphere[\"Lat\"]\n",
    "y_values = Southern_hemisphere[\"Humidity\"]\n",
    "plt.ylabel(\"Humidity\")\n",
    "# Save the figure\n",
    "plt.savefig(\"../Images/Southern Hemisphere - Humidity (%) vs. Latitude Linear Regression.png\")\n",
    "print(linear_reg_plot(x_values,y_values))"
   ]
  },
  {
   "cell_type": "markdown",
   "metadata": {},
   "source": [
    "The two previous graphs show that there are no clear relationship beetween Humidity and Latitude in the northern and Southern Hemisphere.  \n"
   ]
  },
  {
   "cell_type": "code",
   "execution_count": null,
   "metadata": {},
   "outputs": [],
   "source": []
  },
  {
   "cell_type": "markdown",
   "metadata": {},
   "source": [
    "Northern Hemisphere - Cloudiness (%) vs. Latitude Linear Regression"
   ]
  },
  {
   "cell_type": "code",
   "execution_count": 26,
   "metadata": {},
   "outputs": [
    {
     "name": "stdout",
     "output_type": "stream",
     "text": [
      "The r-squared is: 0.1504902590012356\n"
     ]
    },
    {
     "data": {
      "image/png": "[encoded data removed]",
      "text/plain": [
       "<Figure size 432x288 with 1 Axes>"
      ]
     },
     "metadata": {
      "needs_background": "light"
     },
     "output_type": "display_data"
    },
    {
     "name": "stdout",
     "output_type": "stream",
     "text": [
      "None\n"
     ]
    }
   ],
   "source": [
    "plt.title(\"Northern Hemisphere - Cloudiness (%) vs. Latitude Linear Regression\")\n",
    "x_values = Northern_hemisphere[\"Lat\"]\n",
    "y_values = Northern_hemisphere[\"Cloudiness\"]\n",
    "plt.ylabel(\"Cloudiness\")\n",
    "# Save the figure\n",
    "plt.savefig(\"../Images/Northern Hemisphere - Cloudiness (%) vs. Latitude Linear Regression.png\")\n",
    "print(linear_reg_plot(x_values,y_values))"
   ]
  },
  {
   "cell_type": "code",
   "execution_count": null,
   "metadata": {},
   "outputs": [],
   "source": []
  },
  {
   "cell_type": "markdown",
   "metadata": {},
   "source": [
    "####  Southern Hemisphere - Cloudiness (%) vs. Latitude Linear Regression"
   ]
  },
  {
   "cell_type": "code",
   "execution_count": 27,
   "metadata": {},
   "outputs": [
    {
     "name": "stdout",
     "output_type": "stream",
     "text": [
      "The r-squared is: 0.16183342343218632\n"
     ]
    },
    {
     "data": {
      "image/png": "[encoded data removed]",
      "text/plain": [
       "<Figure size 432x288 with 1 Axes>"
      ]
     },
     "metadata": {
      "needs_background": "light"
     },
     "output_type": "display_data"
    },
    {
     "name": "stdout",
     "output_type": "stream",
     "text": [
      "None\n"
     ]
    }
   ],
   "source": [
    "plt.title(\"Southern Hemisphere - Cloudiness (%) vs. Latitude Linear Regression\")\n",
    "x_values = Southern_hemisphere[\"Lat\"]\n",
    "y_values = Southern_hemisphere[\"Cloudiness\"]\n",
    "plt.ylabel(\"Cloudiness\")\n",
    "# Save the figure\n",
    "plt.savefig(\"../Images/Southern Hemisphere - Cloudiness (%) vs. Latitude Linear Regression.png\")\n",
    "print(linear_reg_plot(x_values,y_values))"
   ]
  },
  {
   "cell_type": "markdown",
   "metadata": {},
   "source": [
    "The two previous graphs show a positive slope. We can indeed observe a weak positive correlation between latitude and Cloudiness for northern and Southern hemispheres."
   ]
  },
  {
   "cell_type": "code",
   "execution_count": null,
   "metadata": {
    "scrolled": true
   },
   "outputs": [],
   "source": []
  },
  {
   "cell_type": "markdown",
   "metadata": {},
   "source": [
    "####  Northern Hemisphere - Wind Speed (mph) vs. Latitude Linear Regression"
   ]
  },
  {
   "cell_type": "code",
   "execution_count": 28,
   "metadata": {},
   "outputs": [
    {
     "name": "stdout",
     "output_type": "stream",
     "text": [
      "The r-squared is: 0.18408841456614253\n"
     ]
    },
    {
     "data": {
      "image/png": "[encoded data removed]",
      "text/plain": [
       "<Figure size 432x288 with 1 Axes>"
      ]
     },
     "metadata": {
      "needs_background": "light"
     },
     "output_type": "display_data"
    },
    {
     "name": "stdout",
     "output_type": "stream",
     "text": [
      "None\n"
     ]
    }
   ],
   "source": [
    "plt.title(\"Northern Hemisphere - Wind Speed (mph) vs. Latitude Linear Regression\")\n",
    "x_values = Northern_hemisphere[\"Lat\"]\n",
    "y_values = Northern_hemisphere[\"Windspeed\"]\n",
    "plt.ylabel(\"Wind speed\")\n",
    "# Save the figure\n",
    "plt.savefig(\"../Images/Northern Hemisphere - Wind Speed vs. Latitude Linear Regression.png\")\n",
    "print(linear_reg_plot(x_values,y_values))"
   ]
  },
  {
   "cell_type": "code",
   "execution_count": null,
   "metadata": {},
   "outputs": [],
   "source": []
  },
  {
   "cell_type": "markdown",
   "metadata": {},
   "source": [
    "####  Southern Hemisphere - Wind Speed (mph) vs. Latitude Linear Regression"
   ]
  },
  {
   "cell_type": "code",
   "execution_count": 29,
   "metadata": {},
   "outputs": [
    {
     "name": "stdout",
     "output_type": "stream",
     "text": [
      "The r-squared is: -0.42742118948850516\n"
     ]
    },
    {
     "data": {
      "image/png": "[encoded data removed]",
      "text/plain": [
       "<Figure size 432x288 with 1 Axes>"
      ]
     },
     "metadata": {
      "needs_background": "light"
     },
     "output_type": "display_data"
    },
    {
     "name": "stdout",
     "output_type": "stream",
     "text": [
      "None\n"
     ]
    }
   ],
   "source": [
    "plt.title(\"Southern Hemisphere - Wind Speed (mph) vs. Latitude Linear Regression\")\n",
    "x_values = Southern_hemisphere[\"Lat\"]\n",
    "y_values = Southern_hemisphere[\"Windspeed\"]\n",
    "plt.ylabel(\"Wind speed\")\n",
    "# Save the figure\n",
    "plt.savefig(\"../Images/Southern Hemisphere - Wind Speed vs. Latitude Linear Regression.png\")\n",
    "print(linear_reg_plot(x_values,y_values))"
   ]
  },
  {
   "cell_type": "markdown",
   "metadata": {},
   "source": [
    "There are no clear relationship between Latitude and Wind Speed in the two previous graphs. "
   ]
  },
  {
   "cell_type": "code",
   "execution_count": null,
   "metadata": {},
   "outputs": [],
   "source": []
  }
 ],
 "metadata": {
  "anaconda-cloud": {},
  "kernel_info": {
   "name": "python3"
  },
  "kernelspec": {
   "display_name": "Python 3",
   "language": "python",
   "name": "python3"
  },
  "language_info": {
   "codemirror_mode": {
    "name": "ipython",
    "version": 3
   },
   "file_extension": ".py",
   "mimetype": "text/x-python",
   "name": "python",
   "nbconvert_exporter": "python",
   "pygments_lexer": "ipython3",
   "version": "3.6.10"
  },
  "latex_envs": {
   "LaTeX_envs_menu_present": true,
   "autoclose": false,
   "autocomplete": true,
   "bibliofile": "biblio.bib",
   "cite_by": "apalike",
   "current_citInitial": 1,
   "eqLabelWithNumbers": true,
   "eqNumInitial": 1,
   "hotkeys": {
    "equation": "Ctrl-E",
    "itemize": "Ctrl-I"
   },
   "labels_anchors": false,
   "latex_user_defs": false,
   "report_style_numbering": false,
   "user_envs_cfg": false
  },
  "nteract": {
   "version": "0.12.3"
  }
 },
 "nbformat": 4,
 "nbformat_minor": 2
}
