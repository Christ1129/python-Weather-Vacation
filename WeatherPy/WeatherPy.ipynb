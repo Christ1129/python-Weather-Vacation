{
 "cells": [
  {
   "cell_type": "markdown",
   "metadata": {},
   "source": [
    "# WeatherPy\n",
    "----\n",
    "Observations and Insights\n",
    "\n",
    "After analyzing the graphs, several considerations can be made, including the following:\n",
    "- The Northern Hemisphere displays a negative slope with a negative correlation between Temperature and Latitude, however the Southern Hemisphere displays a positive slope with a positive correlation between Temperature and Latitude. In other words, as you move away from the equator in the Northern Hemisphere the temperature decreases. Conversely, as you move away from the equator in the Southern Hemisphere the temperature increases\n",
    "- The graphs show that there are no clear relationship beetween Humidity and Latitude in the northern and Southern Hemisphere. We can however observe a weak positive correlation between latitude and humidity\n",
    "- There are no clear relationship between Latitude and Wind Speed in the graphs. We can observe a weak positive correlation between latitude and Wind Speed for northern hemisphere and weak negative correlation between latitude and Wind Speed for Southern hemisphere.\n"
   ]
  },
  {
   "cell_type": "code",
   "execution_count": 1,
   "metadata": {
    "scrolled": true
   },
   "outputs": [],
   "source": [
    "# Dependencies and Setup\n",
    "import matplotlib.pyplot as plt\n",
    "import pandas as pd\n",
    "import numpy as np\n",
    "import requests\n",
    "import time\n",
    "from scipy.stats import linregress\n",
    "\n",
    "# Import API key\n",
    "from api_keys import weather_api_key\n",
    "\n",
    "# Incorporated citipy to determine city based on latitude and longitude\n",
    "from citipy import citipy\n",
    "\n",
    "# Output File (CSV)\n",
    "output_data_file = \"output_data/cities.csv\"\n",
    "\n",
    "# Range of latitudes and longitudes\n",
    "lat_range = (-90, 90)\n",
    "lng_range = (-180, 180)"
   ]
  },
  {
   "cell_type": "markdown",
   "metadata": {},
   "source": [
    "## Generate Cities List"
   ]
  },
  {
   "cell_type": "code",
   "execution_count": 2,
   "metadata": {},
   "outputs": [
    {
     "data": {
      "text/plain": [
       "625"
      ]
     },
     "execution_count": 2,
     "metadata": {},
     "output_type": "execute_result"
    }
   ],
   "source": [
    "# List for holding lat_lngs and cities\n",
    "lat_lngs = []\n",
    "cities = []\n",
    "\n",
    "# Create a set of random lat and lng combinations\n",
    "lats = np.random.uniform(lat_range[0], lat_range[1], size=1500)\n",
    "lngs = np.random.uniform(lng_range[0], lng_range[1], size=1500)\n",
    "lat_lngs = zip(lats, lngs)\n",
    "\n",
    "# Identify nearest city for each lat, lng combination\n",
    "for lat_lng in lat_lngs:\n",
    "    city = citipy.nearest_city(lat_lng[0], lat_lng[1]).city_name\n",
    "    \n",
    "    # If the city is unique, then add it to a our cities list\n",
    "    if city not in cities:\n",
    "        cities.append(city)\n",
    "\n",
    "# Print the city count to confirm sufficient count\n",
    "len(cities)"
   ]
  },
  {
   "cell_type": "markdown",
   "metadata": {},
   "source": [
    "### Perform API Calls\n",
    "* Perform a weather check on each city using a series of successive API calls.\n",
    "* Include a print log of each city as it'sbeing processed (with the city number and city name).\n"
   ]
  },
  {
   "cell_type": "code",
   "execution_count": 3,
   "metadata": {},
   "outputs": [
    {
     "data": {
      "text/html": [
       "<div>\n",
       "<style scoped>\n",
       "    .dataframe tbody tr th:only-of-type {\n",
       "        vertical-align: middle;\n",
       "    }\n",
       "\n",
       "    .dataframe tbody tr th {\n",
       "        vertical-align: top;\n",
       "    }\n",
       "\n",
       "    .dataframe thead th {\n",
       "        text-align: right;\n",
       "    }\n",
       "</style>\n",
       "<table border=\"1\" class=\"dataframe\">\n",
       "  <thead>\n",
       "    <tr style=\"text-align: right;\">\n",
       "      <th></th>\n",
       "      <th>City</th>\n",
       "      <th>Cloudiness</th>\n",
       "      <th>Country</th>\n",
       "      <th>Date</th>\n",
       "      <th>Humidity</th>\n",
       "      <th>Lat</th>\n",
       "      <th>Lng</th>\n",
       "      <th>Max Temp</th>\n",
       "      <th>Windspeed</th>\n",
       "    </tr>\n",
       "  </thead>\n",
       "  <tbody>\n",
       "    <tr>\n",
       "      <th>0</th>\n",
       "      <td>araci</td>\n",
       "      <td></td>\n",
       "      <td></td>\n",
       "      <td></td>\n",
       "      <td></td>\n",
       "      <td></td>\n",
       "      <td></td>\n",
       "      <td></td>\n",
       "      <td></td>\n",
       "    </tr>\n",
       "    <tr>\n",
       "      <th>1</th>\n",
       "      <td>iranshahr</td>\n",
       "      <td></td>\n",
       "      <td></td>\n",
       "      <td></td>\n",
       "      <td></td>\n",
       "      <td></td>\n",
       "      <td></td>\n",
       "      <td></td>\n",
       "      <td></td>\n",
       "    </tr>\n",
       "    <tr>\n",
       "      <th>2</th>\n",
       "      <td>busselton</td>\n",
       "      <td></td>\n",
       "      <td></td>\n",
       "      <td></td>\n",
       "      <td></td>\n",
       "      <td></td>\n",
       "      <td></td>\n",
       "      <td></td>\n",
       "      <td></td>\n",
       "    </tr>\n",
       "    <tr>\n",
       "      <th>3</th>\n",
       "      <td>puerto ayora</td>\n",
       "      <td></td>\n",
       "      <td></td>\n",
       "      <td></td>\n",
       "      <td></td>\n",
       "      <td></td>\n",
       "      <td></td>\n",
       "      <td></td>\n",
       "      <td></td>\n",
       "    </tr>\n",
       "    <tr>\n",
       "      <th>4</th>\n",
       "      <td>batemans bay</td>\n",
       "      <td></td>\n",
       "      <td></td>\n",
       "      <td></td>\n",
       "      <td></td>\n",
       "      <td></td>\n",
       "      <td></td>\n",
       "      <td></td>\n",
       "      <td></td>\n",
       "    </tr>\n",
       "  </tbody>\n",
       "</table>\n",
       "</div>"
      ],
      "text/plain": [
       "           City Cloudiness Country Date Humidity Lat Lng Max Temp Windspeed\n",
       "0         araci                                                            \n",
       "1     iranshahr                                                            \n",
       "2     busselton                                                            \n",
       "3  puerto ayora                                                            \n",
       "4  batemans bay                                                            "
      ]
     },
     "execution_count": 3,
     "metadata": {},
     "output_type": "execute_result"
    }
   ],
   "source": [
    "#Create a dataframe to store the data\n",
    "city_weather = pd.DataFrame({'City': cities, 'Cloudiness': \"\", 'Country': \"\", 'Date': \"\",\n",
    "                            'Humidity': \"\", 'Lat': \"\", 'Lng': \"\", 'Max Temp': \"\", 'Windspeed': \"\"})\n",
    "\n",
    "#Preview the dataframe\n",
    "city_weather.head()\n"
   ]
  },
  {
   "cell_type": "code",
   "execution_count": 4,
   "metadata": {},
   "outputs": [
    {
     "name": "stdout",
     "output_type": "stream",
     "text": [
      "\n",
      "-----------------------------\n",
      "Beginning Data Retrieval\n",
      "-----------------------------\n"
     ]
    }
   ],
   "source": [
    "#Variables to keep track of response number\n",
    "record_num = 1\n",
    "record_set = 1\n",
    "\n",
    "#Base url to make the api call\n",
    "base_url = 'http://api.openweathermap.org/data/2.5/weather?units=imperial&q='\n",
    "#Run the API call for each city\n",
    "print('''\n",
    "-----------------------------\n",
    "Beginning Data Retrieval\n",
    "-----------------------------''')\n"
   ]
  },
  {
   "cell_type": "code",
   "execution_count": 5,
   "metadata": {
    "scrolled": false
   },
   "outputs": [
    {
     "name": "stdout",
     "output_type": "stream",
     "text": [
      "Processing Weather Data for Record 1 of Set 1 | Araci\n",
      "Processing Weather Data for Record 2 of Set 1 | Iranshahr\n",
      "Processing Weather Data for Record 3 of Set 1 | Busselton\n",
      "Processing Weather Data for Record 4 of Set 1 | Puerto Ayora\n",
      "Processing Weather Data for Record 5 of Set 1 | Batemans Bay\n",
      "Processing Weather Data for Record 6 of Set 1 | Hobart\n",
      "City not found....Skipping............\n",
      "Processing Weather Data for Record 7 of Set 1 | Saint-Philippe\n",
      "Processing Weather Data for Record 8 of Set 1 | Lüderitz\n",
      "Processing Weather Data for Record 9 of Set 1 | Laguna\n",
      "Processing Weather Data for Record 10 of Set 1 | Bluff\n",
      "City not found....Skipping............\n",
      "Processing Weather Data for Record 11 of Set 1 | Weihe\n",
      "Processing Weather Data for Record 12 of Set 1 | Gbarnga\n",
      "City not found....Skipping............\n",
      "Processing Weather Data for Record 13 of Set 1 | Punta Arenas\n",
      "Processing Weather Data for Record 14 of Set 1 | Matata\n",
      "City not found....Skipping............\n",
      "Processing Weather Data for Record 15 of Set 1 | Chokurdakh\n",
      "Processing Weather Data for Record 16 of Set 1 | Ardakān\n",
      "Processing Weather Data for Record 17 of Set 1 | Bredasdorp\n",
      "Processing Weather Data for Record 18 of Set 1 | Fort Nelson\n",
      "Processing Weather Data for Record 19 of Set 1 | Lebu\n",
      "Processing Weather Data for Record 20 of Set 1 | De Aar\n",
      "City not found....Skipping............\n",
      "Processing Weather Data for Record 21 of Set 1 | Hermanus\n",
      "Processing Weather Data for Record 22 of Set 1 | Araouane\n",
      "Processing Weather Data for Record 23 of Set 1 | Port Alfred\n",
      "Processing Weather Data for Record 24 of Set 1 | Talnakh\n",
      "City not found....Skipping............\n",
      "Processing Weather Data for Record 25 of Set 1 | Kpandae\n",
      "Processing Weather Data for Record 26 of Set 1 | Byron Bay\n",
      "Processing Weather Data for Record 27 of Set 1 | Iquitos\n",
      "Processing Weather Data for Record 28 of Set 1 | Atuona\n",
      "Processing Weather Data for Record 29 of Set 1 | Guácimo\n",
      "Processing Weather Data for Record 30 of Set 1 | Jamestown\n",
      "City not found....Skipping............\n",
      "Processing Weather Data for Record 31 of Set 1 | Ca Mau\n",
      "Processing Weather Data for Record 32 of Set 1 | Yellowknife\n",
      "City not found....Skipping............\n",
      "Processing Weather Data for Record 33 of Set 1 | Jinka\n",
      "Processing Weather Data for Record 34 of Set 1 | Port Hedland\n",
      "Processing Weather Data for Record 35 of Set 1 | Ngunut\n",
      "Processing Weather Data for Record 36 of Set 1 | Coahuayana Viejo\n",
      "Processing Weather Data for Record 37 of Set 1 | Gebre Guracha\n",
      "Processing Weather Data for Record 38 of Set 1 | Vaini\n",
      "Processing Weather Data for Record 39 of Set 1 | Dikson\n",
      "Processing Weather Data for Record 40 of Set 1 | Comodoro Rivadavia\n",
      "Processing Weather Data for Record 41 of Set 1 | East London\n",
      "City not found....Skipping............\n",
      "Processing Weather Data for Record 42 of Set 1 | Tonstad\n",
      "Processing Weather Data for Record 43 of Set 1 | Chui\n",
      "Processing Weather Data for Record 44 of Set 1 | Gornopravdinsk\n",
      "City not found....Skipping............\n",
      "Processing Weather Data for Record 45 of Set 1 | Pevek\n",
      "Processing Weather Data for Record 46 of Set 1 | Cherskiy\n",
      "Processing Weather Data for Record 47 of Set 1 | New Norfolk\n",
      "Processing Weather Data for Record 48 of Set 1 | Ushuaia\n",
      "Processing Weather Data for Record 49 of Set 1 | Avilés\n",
      "Processing Weather Data for Record 50 of Set 1 | Albany\n",
      "Processing Weather Data for Record 1 of Set 2 | Rikitea\n",
      "Processing Weather Data for Record 2 of Set 2 | Kapaa\n",
      "Processing Weather Data for Record 3 of Set 2 | Barrow\n",
      "Processing Weather Data for Record 4 of Set 2 | Ust-Maya\n",
      "Processing Weather Data for Record 5 of Set 2 | Saskylakh\n",
      "Processing Weather Data for Record 6 of Set 2 | Finnsnes\n",
      "Processing Weather Data for Record 7 of Set 2 | Nālūt\n",
      "City not found....Skipping............\n",
      "Processing Weather Data for Record 8 of Set 2 | Arraial do Cabo\n",
      "City not found....Skipping............\n",
      "City not found....Skipping............\n",
      "Processing Weather Data for Record 9 of Set 2 | Mandalgovi\n",
      "Processing Weather Data for Record 10 of Set 2 | Mahébourg\n",
      "Processing Weather Data for Record 11 of Set 2 | Khatanga\n",
      "City not found....Skipping............\n",
      "Processing Weather Data for Record 12 of Set 2 | Bethel\n",
      "Processing Weather Data for Record 13 of Set 2 | Celestún\n",
      "Processing Weather Data for Record 14 of Set 2 | Kānt\n",
      "Processing Weather Data for Record 15 of Set 2 | Pisco\n",
      "Processing Weather Data for Record 16 of Set 2 | Norman Wells\n",
      "Processing Weather Data for Record 17 of Set 2 | Yur’yev-Pol’skiy\n",
      "Processing Weather Data for Record 18 of Set 2 | Penzance\n",
      "Processing Weather Data for Record 19 of Set 2 | Elmshorn\n",
      "Processing Weather Data for Record 20 of Set 2 | Paamiut\n",
      "Processing Weather Data for Record 21 of Set 2 | Narsaq\n",
      "Processing Weather Data for Record 22 of Set 2 | Ilulissat\n",
      "Processing Weather Data for Record 23 of Set 2 | Deputatsky\n",
      "Processing Weather Data for Record 24 of Set 2 | Golspie\n",
      "Processing Weather Data for Record 25 of Set 2 | Cidreira\n",
      "Processing Weather Data for Record 26 of Set 2 | Qaanaaq\n",
      "Processing Weather Data for Record 27 of Set 2 | Klaksvík\n",
      "Processing Weather Data for Record 28 of Set 2 | Katsuura\n",
      "Processing Weather Data for Record 29 of Set 2 | Teahupoo\n",
      "Processing Weather Data for Record 30 of Set 2 | Hofn\n",
      "Processing Weather Data for Record 31 of Set 2 | Kristiansund\n",
      "City not found....Skipping............\n",
      "Processing Weather Data for Record 32 of Set 2 | Igarka\n",
      "Processing Weather Data for Record 33 of Set 2 | Cayenne\n",
      "Processing Weather Data for Record 34 of Set 2 | Kasongo-Lunda\n",
      "Processing Weather Data for Record 35 of Set 2 | Vila Velha\n",
      "City not found....Skipping............\n",
      "City not found....Skipping............\n",
      "Processing Weather Data for Record 36 of Set 2 | San Vicente\n",
      "Processing Weather Data for Record 37 of Set 2 | Longyearbyen\n",
      "Processing Weather Data for Record 38 of Set 2 | Dunedin\n",
      "Processing Weather Data for Record 39 of Set 2 | Hammerfest\n",
      "Processing Weather Data for Record 40 of Set 2 | Coyhaique\n",
      "Processing Weather Data for Record 41 of Set 2 | Puerto Carreño\n",
      "Processing Weather Data for Record 42 of Set 2 | Mabaruma\n",
      "Processing Weather Data for Record 43 of Set 2 | Olafsvik\n",
      "Processing Weather Data for Record 44 of Set 2 | Quibdó\n",
      "Processing Weather Data for Record 45 of Set 2 | Upernavik\n",
      "Processing Weather Data for Record 46 of Set 2 | Lagos\n",
      "Processing Weather Data for Record 47 of Set 2 | Genhe\n",
      "Processing Weather Data for Record 48 of Set 2 | Santa Fe\n",
      "Processing Weather Data for Record 49 of Set 2 | Senanga\n",
      "Processing Weather Data for Record 50 of Set 2 | Srīvardhan\n",
      "Processing Weather Data for Record 1 of Set 3 | Hithadhoo\n",
      "Processing Weather Data for Record 2 of Set 3 | Hilo\n",
      "Processing Weather Data for Record 3 of Set 3 | Laas\n",
      "City not found....Skipping............\n",
      "Processing Weather Data for Record 4 of Set 3 | Monroe\n",
      "Processing Weather Data for Record 5 of Set 3 | Ponta do Sol\n",
      "Processing Weather Data for Record 6 of Set 3 | Kingaroy\n",
      "Processing Weather Data for Record 7 of Set 3 | Irimbo\n",
      "Processing Weather Data for Record 8 of Set 3 | Snezhnogorsk\n",
      "Processing Weather Data for Record 9 of Set 3 | Galveston\n",
      "Processing Weather Data for Record 10 of Set 3 | Avarua\n",
      "Processing Weather Data for Record 11 of Set 3 | Cabo San Lucas\n",
      "City not found....Skipping............\n",
      "Processing Weather Data for Record 12 of Set 3 | San Cristobal\n",
      "Processing Weather Data for Record 13 of Set 3 | Tuktoyaktuk\n",
      "City not found....Skipping............\n",
      "Processing Weather Data for Record 14 of Set 3 | Alta Floresta\n",
      "Processing Weather Data for Record 15 of Set 3 | Sargatskoye\n",
      "Processing Weather Data for Record 16 of Set 3 | Bengkulu\n",
      "Processing Weather Data for Record 17 of Set 3 | Ruteng\n",
      "Processing Weather Data for Record 18 of Set 3 | Port Elizabeth\n",
      "Processing Weather Data for Record 19 of Set 3 | Ukiah\n",
      "City not found....Skipping............\n",
      "Processing Weather Data for Record 20 of Set 3 | Belaya Gora\n",
      "Processing Weather Data for Record 21 of Set 3 | Rāmhormoz\n",
      "Processing Weather Data for Record 22 of Set 3 | Lar\n",
      "Processing Weather Data for Record 23 of Set 3 | Coquimbo\n",
      "Processing Weather Data for Record 24 of Set 3 | Kupang\n",
      "Processing Weather Data for Record 25 of Set 3 | Korla\n",
      "Processing Weather Data for Record 26 of Set 3 | Erandique\n",
      "Processing Weather Data for Record 27 of Set 3 | Taltal\n"
     ]
    },
    {
     "name": "stdout",
     "output_type": "stream",
     "text": [
      "Processing Weather Data for Record 28 of Set 3 | Zyryanovsk\n",
      "Processing Weather Data for Record 29 of Set 3 | Ferkessédougou\n",
      "Processing Weather Data for Record 30 of Set 3 | Kahului\n",
      "Processing Weather Data for Record 31 of Set 3 | Hong Kong\n",
      "Processing Weather Data for Record 32 of Set 3 | Guerrero Negro\n",
      "City not found....Skipping............\n",
      "Processing Weather Data for Record 33 of Set 3 | La Santisima Trinidad\n",
      "Processing Weather Data for Record 34 of Set 3 | Bull Savanna\n",
      "Processing Weather Data for Record 35 of Set 3 | Acaraú\n",
      "Processing Weather Data for Record 36 of Set 3 | Plattsburgh\n",
      "Processing Weather Data for Record 37 of Set 3 | Isangel\n",
      "Processing Weather Data for Record 38 of Set 3 | Port Blair\n",
      "Processing Weather Data for Record 39 of Set 3 | Mahrīz\n",
      "City not found....Skipping............\n",
      "Processing Weather Data for Record 40 of Set 3 | Rome\n",
      "Processing Weather Data for Record 41 of Set 3 | Lagoa\n",
      "Processing Weather Data for Record 42 of Set 3 | Castro\n",
      "Processing Weather Data for Record 43 of Set 3 | Cap Malheureux\n",
      "Processing Weather Data for Record 44 of Set 3 | Provideniya\n",
      "Processing Weather Data for Record 45 of Set 3 | Najrān\n",
      "Processing Weather Data for Record 46 of Set 3 | Morro Bay\n",
      "Processing Weather Data for Record 47 of Set 3 | Tasiilaq\n",
      "City not found....Skipping............\n",
      "Processing Weather Data for Record 48 of Set 3 | Nome\n",
      "Processing Weather Data for Record 49 of Set 3 | Naryan-Mar\n",
      "City not found....Skipping............\n",
      "Processing Weather Data for Record 50 of Set 3 | Half Moon Bay\n",
      "Processing Weather Data for Record 1 of Set 4 | Ipil\n",
      "Processing Weather Data for Record 2 of Set 4 | Mount Gambier\n",
      "City not found....Skipping............\n",
      "Processing Weather Data for Record 3 of Set 4 | Midleton\n",
      "Processing Weather Data for Record 4 of Set 4 | La Ronge\n",
      "Processing Weather Data for Record 5 of Set 4 | Skibbereen\n",
      "Processing Weather Data for Record 6 of Set 4 | Kavieng\n",
      "Processing Weather Data for Record 7 of Set 4 | Pacific Grove\n",
      "City not found....Skipping............\n",
      "Processing Weather Data for Record 8 of Set 4 | Heraclea\n",
      "Processing Weather Data for Record 9 of Set 4 | Mar del Plata\n",
      "Processing Weather Data for Record 10 of Set 4 | Evensk\n",
      "City not found....Skipping............\n",
      "Processing Weather Data for Record 11 of Set 4 | Přerov\n",
      "Processing Weather Data for Record 12 of Set 4 | Iztapa\n",
      "Processing Weather Data for Record 13 of Set 4 | Aleksandrovskiy Zavod\n",
      "Processing Weather Data for Record 14 of Set 4 | Kousséri\n",
      "Processing Weather Data for Record 15 of Set 4 | Fairbanks\n",
      "Processing Weather Data for Record 16 of Set 4 | San Patricio\n",
      "Processing Weather Data for Record 17 of Set 4 | Tuatapere\n",
      "City not found....Skipping............\n",
      "Processing Weather Data for Record 18 of Set 4 | Lorengau\n",
      "Processing Weather Data for Record 19 of Set 4 | Sabha\n",
      "Processing Weather Data for Record 20 of Set 4 | Ostrovnoy\n",
      "Processing Weather Data for Record 21 of Set 4 | Tres Arroyos\n",
      "Processing Weather Data for Record 22 of Set 4 | Geraldton\n",
      "Processing Weather Data for Record 23 of Set 4 | Saint-Augustin\n",
      "Processing Weather Data for Record 24 of Set 4 | Bokoro\n",
      "Processing Weather Data for Record 25 of Set 4 | Srednekolymsk\n",
      "Processing Weather Data for Record 26 of Set 4 | Victoria Point\n",
      "Processing Weather Data for Record 27 of Set 4 | Berlevåg\n",
      "Processing Weather Data for Record 28 of Set 4 | Hasaki\n",
      "Processing Weather Data for Record 29 of Set 4 | Chapais\n",
      "Processing Weather Data for Record 30 of Set 4 | Saint Andrews\n",
      "Processing Weather Data for Record 31 of Set 4 | College\n",
      "Processing Weather Data for Record 32 of Set 4 | Cape Town\n",
      "Processing Weather Data for Record 33 of Set 4 | Ribeira Grande\n",
      "Processing Weather Data for Record 34 of Set 4 | Graham\n",
      "City not found....Skipping............\n",
      "Processing Weather Data for Record 35 of Set 4 | Buala\n",
      "Processing Weather Data for Record 36 of Set 4 | Llanelli\n",
      "Processing Weather Data for Record 37 of Set 4 | Oistins\n",
      "City not found....Skipping............\n",
      "Processing Weather Data for Record 38 of Set 4 | Pangnirtung\n",
      "Processing Weather Data for Record 39 of Set 4 | Carnarvon\n",
      "Processing Weather Data for Record 40 of Set 4 | Jiutai\n",
      "Processing Weather Data for Record 41 of Set 4 | Alice Springs\n",
      "Processing Weather Data for Record 42 of Set 4 | Wonosari\n",
      "Processing Weather Data for Record 43 of Set 4 | Diamantino\n",
      "Processing Weather Data for Record 44 of Set 4 | Yuanping\n",
      "Processing Weather Data for Record 45 of Set 4 | Cascais\n",
      "Processing Weather Data for Record 46 of Set 4 | Dutse\n",
      "Processing Weather Data for Record 47 of Set 4 | Rawson\n",
      "Processing Weather Data for Record 48 of Set 4 | Prince Rupert\n",
      "Processing Weather Data for Record 49 of Set 4 | Câmara de Lobos\n",
      "Processing Weather Data for Record 50 of Set 4 | Orlik\n",
      "Processing Weather Data for Record 1 of Set 5 | Leningradskiy\n",
      "Processing Weather Data for Record 2 of Set 5 | Karratha\n",
      "Processing Weather Data for Record 3 of Set 5 | Vestmannaeyjar\n",
      "Processing Weather Data for Record 4 of Set 5 | Bestöbe\n",
      "Processing Weather Data for Record 5 of Set 5 | Kuril'sk\n",
      "Processing Weather Data for Record 6 of Set 5 | Monze\n",
      "Processing Weather Data for Record 7 of Set 5 | Tartagal\n",
      "Processing Weather Data for Record 8 of Set 5 | Beloha\n",
      "Processing Weather Data for Record 9 of Set 5 | Faaa\n",
      "Processing Weather Data for Record 10 of Set 5 | George Town\n",
      "Processing Weather Data for Record 11 of Set 5 | La Asuncion\n",
      "Processing Weather Data for Record 12 of Set 5 | Zaysan\n",
      "Processing Weather Data for Record 13 of Set 5 | Takoradze\n",
      "Processing Weather Data for Record 14 of Set 5 | Nouadhibou\n",
      "Processing Weather Data for Record 15 of Set 5 | Husavik\n",
      "Processing Weather Data for Record 16 of Set 5 | Vao\n",
      "Processing Weather Data for Record 17 of Set 5 | Zhigansk\n",
      "Processing Weather Data for Record 18 of Set 5 | Tual\n",
      "Processing Weather Data for Record 19 of Set 5 | Butaritari\n",
      "Processing Weather Data for Record 20 of Set 5 | Mount Isa\n",
      "Processing Weather Data for Record 21 of Set 5 | Talara\n",
      "Processing Weather Data for Record 22 of Set 5 | Porto Walter\n",
      "Processing Weather Data for Record 23 of Set 5 | Kaeo\n",
      "Processing Weather Data for Record 24 of Set 5 | Requena\n",
      "City not found....Skipping............\n",
      "Processing Weather Data for Record 25 of Set 5 | Whitianga\n",
      "Processing Weather Data for Record 26 of Set 5 | Pimenta Bueno\n",
      "City not found....Skipping............\n",
      "Processing Weather Data for Record 27 of Set 5 | Khanbari\n",
      "Processing Weather Data for Record 28 of Set 5 | Florianópolis\n",
      "Processing Weather Data for Record 29 of Set 5 | Ambon City\n",
      "Processing Weather Data for Record 30 of Set 5 | Souillac\n",
      "Processing Weather Data for Record 31 of Set 5 | Twin Falls\n",
      "Processing Weather Data for Record 32 of Set 5 | Along\n",
      "City not found....Skipping............\n",
      "Processing Weather Data for Record 33 of Set 5 | Koslan\n",
      "Processing Weather Data for Record 34 of Set 5 | Garden City\n",
      "City not found....Skipping............\n",
      "Processing Weather Data for Record 35 of Set 5 | Kawalu\n",
      "Processing Weather Data for Record 36 of Set 5 | Necochea\n",
      "City not found....Skipping............\n",
      "Processing Weather Data for Record 37 of Set 5 | Merritt Island\n",
      "Processing Weather Data for Record 38 of Set 5 | Bambanglipuro\n",
      "Processing Weather Data for Record 39 of Set 5 | Van\n",
      "Processing Weather Data for Record 40 of Set 5 | Brae\n",
      "Processing Weather Data for Record 41 of Set 5 | Mildura\n",
      "Processing Weather Data for Record 42 of Set 5 | Maralal\n",
      "Processing Weather Data for Record 43 of Set 5 | Guangshui\n",
      "Processing Weather Data for Record 44 of Set 5 | Tiksi\n",
      "Processing Weather Data for Record 45 of Set 5 | Te Anau\n",
      "Processing Weather Data for Record 46 of Set 5 | Mossamedes\n",
      "City not found....Skipping............\n",
      "Processing Weather Data for Record 47 of Set 5 | Cairns\n",
      "Processing Weather Data for Record 48 of Set 5 | Cabaiguán\n",
      "City not found....Skipping............\n",
      "City not found....Skipping............\n",
      "Processing Weather Data for Record 49 of Set 5 | Port Moresby\n",
      "Processing Weather Data for Record 50 of Set 5 | Marsá Maţrūḩ\n",
      "Processing Weather Data for Record 1 of Set 6 | Acapulco de Juárez\n",
      "Processing Weather Data for Record 2 of Set 6 | Torbay\n",
      "Processing Weather Data for Record 3 of Set 6 | Conroe\n",
      "Processing Weather Data for Record 4 of Set 6 | Kruisfontein\n",
      "City not found....Skipping............\n"
     ]
    },
    {
     "name": "stdout",
     "output_type": "stream",
     "text": [
      "Processing Weather Data for Record 5 of Set 6 | Ballina\n",
      "Processing Weather Data for Record 6 of Set 6 | Kununurra\n",
      "Processing Weather Data for Record 7 of Set 6 | Bertoua\n",
      "Processing Weather Data for Record 8 of Set 6 | Paso del Macho\n",
      "Processing Weather Data for Record 9 of Set 6 | Abu Dhabi\n",
      "Processing Weather Data for Record 10 of Set 6 | Sørland\n",
      "Processing Weather Data for Record 11 of Set 6 | Amarkantak\n",
      "Processing Weather Data for Record 12 of Set 6 | San Felipe\n",
      "Processing Weather Data for Record 13 of Set 6 | Shellbrook\n",
      "City not found....Skipping............\n",
      "Processing Weather Data for Record 14 of Set 6 | Saldanha\n",
      "Processing Weather Data for Record 15 of Set 6 | Tilichiki\n",
      "Processing Weather Data for Record 16 of Set 6 | Santa Rosa\n",
      "Processing Weather Data for Record 17 of Set 6 | Noyabrsk\n",
      "Processing Weather Data for Record 18 of Set 6 | Baykit\n",
      "Processing Weather Data for Record 19 of Set 6 | Harper\n",
      "Processing Weather Data for Record 20 of Set 6 | Fort Frances\n",
      "Processing Weather Data for Record 21 of Set 6 | Praia\n",
      "Processing Weather Data for Record 22 of Set 6 | Kichera\n",
      "Processing Weather Data for Record 23 of Set 6 | Port Hardy\n",
      "Processing Weather Data for Record 24 of Set 6 | Okato\n",
      "Processing Weather Data for Record 25 of Set 6 | Saint Paul Harbor\n",
      "Processing Weather Data for Record 26 of Set 6 | Muroto-misakicho\n",
      "Processing Weather Data for Record 27 of Set 6 | Aklavik\n",
      "Processing Weather Data for Record 28 of Set 6 | Foso\n",
      "City not found....Skipping............\n",
      "City not found....Skipping............\n",
      "Processing Weather Data for Record 29 of Set 6 | Vila Franca do Campo\n",
      "Processing Weather Data for Record 30 of Set 6 | Temryuk\n",
      "Processing Weather Data for Record 31 of Set 6 | Barra Patuca\n",
      "Processing Weather Data for Record 32 of Set 6 | Umred\n",
      "Processing Weather Data for Record 33 of Set 6 | Black River\n",
      "Processing Weather Data for Record 34 of Set 6 | Stornoway\n",
      "Processing Weather Data for Record 35 of Set 6 | Nishihara\n",
      "Processing Weather Data for Record 36 of Set 6 | Apricena\n",
      "Processing Weather Data for Record 37 of Set 6 | Aquidauana\n",
      "Processing Weather Data for Record 38 of Set 6 | Touros\n",
      "City not found....Skipping............\n",
      "Processing Weather Data for Record 39 of Set 6 | Tautira\n",
      "Processing Weather Data for Record 40 of Set 6 | Hamilton\n",
      "Processing Weather Data for Record 41 of Set 6 | Nara\n",
      "Processing Weather Data for Record 42 of Set 6 | Dalaba\n",
      "City not found....Skipping............\n",
      "Processing Weather Data for Record 43 of Set 6 | Codrington\n",
      "Processing Weather Data for Record 44 of Set 6 | Bundaberg\n",
      "Processing Weather Data for Record 45 of Set 6 | Honiara\n",
      "Processing Weather Data for Record 46 of Set 6 | Iqaluit\n",
      "Processing Weather Data for Record 47 of Set 6 | Río Gallegos\n",
      "Processing Weather Data for Record 48 of Set 6 | Waipawa\n",
      "Processing Weather Data for Record 49 of Set 6 | General Roca\n",
      "Processing Weather Data for Record 50 of Set 6 | Sitka\n",
      "Processing Weather Data for Record 1 of Set 7 | São Gabriel da Cachoeira\n",
      "Processing Weather Data for Record 2 of Set 7 | Mount Juliet\n",
      "City not found....Skipping............\n",
      "Processing Weather Data for Record 3 of Set 7 | Constitución\n",
      "Processing Weather Data for Record 4 of Set 7 | Faanui\n",
      "Processing Weather Data for Record 5 of Set 7 | São João da Barra\n",
      "Processing Weather Data for Record 6 of Set 7 | Margate\n",
      "Processing Weather Data for Record 7 of Set 7 | Onega\n",
      "Processing Weather Data for Record 8 of Set 7 | Okhotsk\n",
      "Processing Weather Data for Record 9 of Set 7 | Bukama\n",
      "Processing Weather Data for Record 10 of Set 7 | Mahbūbābād\n",
      "City not found....Skipping............\n",
      "Processing Weather Data for Record 11 of Set 7 | Grindavik\n",
      "Processing Weather Data for Record 12 of Set 7 | Palma di Montechiaro\n",
      "Processing Weather Data for Record 13 of Set 7 | Tottori-shi\n",
      "Processing Weather Data for Record 14 of Set 7 | Filingué\n",
      "City not found....Skipping............\n",
      "Processing Weather Data for Record 15 of Set 7 | Ancud\n",
      "Processing Weather Data for Record 16 of Set 7 | Elesbão Veloso\n",
      "Processing Weather Data for Record 17 of Set 7 | Maunabo\n",
      "Processing Weather Data for Record 18 of Set 7 | Itaituba\n",
      "Processing Weather Data for Record 19 of Set 7 | Dalhousie\n",
      "Processing Weather Data for Record 20 of Set 7 | Yinchuan\n",
      "Processing Weather Data for Record 21 of Set 7 | Miquelon\n",
      "Processing Weather Data for Record 22 of Set 7 | Starkville\n",
      "Processing Weather Data for Record 23 of Set 7 | Rusape\n",
      "City not found....Skipping............\n",
      "Processing Weather Data for Record 24 of Set 7 | Shreveport\n",
      "Processing Weather Data for Record 25 of Set 7 | Vardø\n",
      "Processing Weather Data for Record 26 of Set 7 | Soto la Marina\n",
      "Processing Weather Data for Record 27 of Set 7 | Alofi\n",
      "Processing Weather Data for Record 28 of Set 7 | Samarai\n",
      "Processing Weather Data for Record 29 of Set 7 | Clyde River\n",
      "Processing Weather Data for Record 30 of Set 7 | Aswān\n",
      "Processing Weather Data for Record 31 of Set 7 | Cockburn Town\n",
      "Processing Weather Data for Record 32 of Set 7 | Esperance\n",
      "Processing Weather Data for Record 33 of Set 7 | Oranjemund\n",
      "Processing Weather Data for Record 34 of Set 7 | Alugan\n",
      "Processing Weather Data for Record 35 of Set 7 | Nemuro\n",
      "Processing Weather Data for Record 36 of Set 7 | Roebourne\n",
      "Processing Weather Data for Record 37 of Set 7 | Khovd\n",
      "Processing Weather Data for Record 38 of Set 7 | Yerbogachën\n",
      "Processing Weather Data for Record 39 of Set 7 | Matara\n",
      "Processing Weather Data for Record 40 of Set 7 | Gemeente Wageningen\n",
      "Processing Weather Data for Record 41 of Set 7 | Baruun-Urt\n",
      "Processing Weather Data for Record 42 of Set 7 | Tamworth\n",
      "Processing Weather Data for Record 43 of Set 7 | Sines Municipality\n",
      "Processing Weather Data for Record 44 of Set 7 | Bad Aibling\n",
      "Processing Weather Data for Record 45 of Set 7 | Chabahar\n",
      "Processing Weather Data for Record 46 of Set 7 | Conde\n",
      "Processing Weather Data for Record 47 of Set 7 | Sibolga\n",
      "Processing Weather Data for Record 48 of Set 7 | Haines Junction\n",
      "Processing Weather Data for Record 49 of Set 7 | Dzaoudzi\n",
      "Processing Weather Data for Record 50 of Set 7 | Banda Aceh\n",
      "Processing Weather Data for Record 1 of Set 8 | Bay Roberts\n",
      "Processing Weather Data for Record 2 of Set 8 | New Bern\n",
      "City not found....Skipping............\n",
      "Processing Weather Data for Record 3 of Set 8 | Sarrebourg\n",
      "Processing Weather Data for Record 4 of Set 8 | Bathsheba\n",
      "Processing Weather Data for Record 5 of Set 8 | Kidal\n",
      "Processing Weather Data for Record 6 of Set 8 | Vostok\n",
      "Processing Weather Data for Record 7 of Set 8 | Hauterive\n",
      "Processing Weather Data for Record 8 of Set 8 | Uglegorsk\n",
      "Processing Weather Data for Record 9 of Set 8 | Uni\n",
      "Processing Weather Data for Record 10 of Set 8 | Esim\n",
      "Processing Weather Data for Record 11 of Set 8 | Lake Havasu City\n",
      "Processing Weather Data for Record 12 of Set 8 | Strezhevoy\n",
      "Processing Weather Data for Record 13 of Set 8 | Meiningen\n",
      "Processing Weather Data for Record 14 of Set 8 | Altay\n",
      "Processing Weather Data for Record 15 of Set 8 | Ibrā’\n",
      "Processing Weather Data for Record 16 of Set 8 | Sioux Lookout\n",
      "Processing Weather Data for Record 17 of Set 8 | Lompoc\n",
      "Processing Weather Data for Record 18 of Set 8 | Nānākuli\n",
      "Processing Weather Data for Record 19 of Set 8 | Pincher Creek\n",
      "Processing Weather Data for Record 20 of Set 8 | Saint-Paul\n",
      "Processing Weather Data for Record 21 of Set 8 | Mehamn\n",
      "Processing Weather Data for Record 22 of Set 8 | Luba\n",
      "Processing Weather Data for Record 23 of Set 8 | Lincoln\n",
      "Processing Weather Data for Record 24 of Set 8 | Imbituba\n",
      "Processing Weather Data for Record 25 of Set 8 | Ürümqi\n",
      "Processing Weather Data for Record 26 of Set 8 | Bloomsburg\n",
      "Processing Weather Data for Record 27 of Set 8 | Tiznit Province\n",
      "Processing Weather Data for Record 28 of Set 8 | Nunchía\n",
      "Processing Weather Data for Record 29 of Set 8 | San Luis\n",
      "Processing Weather Data for Record 30 of Set 8 | Llanes\n",
      "Processing Weather Data for Record 31 of Set 8 | Bambous Virieux\n",
      "Processing Weather Data for Record 32 of Set 8 | Buchanan\n",
      "Processing Weather Data for Record 33 of Set 8 | Manta\n",
      "Processing Weather Data for Record 34 of Set 8 | Naze\n",
      "Processing Weather Data for Record 35 of Set 8 | Tigil'\n",
      "Processing Weather Data for Record 36 of Set 8 | Beringovskiy\n",
      "Processing Weather Data for Record 37 of Set 8 | San Andrés\n"
     ]
    },
    {
     "name": "stdout",
     "output_type": "stream",
     "text": [
      "Processing Weather Data for Record 38 of Set 8 | Broken Hill\n",
      "Processing Weather Data for Record 39 of Set 8 | Chuncheng\n",
      "Processing Weather Data for Record 40 of Set 8 | Trat\n",
      "Processing Weather Data for Record 41 of Set 8 | Plettenberg Bay\n",
      "Processing Weather Data for Record 42 of Set 8 | Mikhaylovka\n",
      "Processing Weather Data for Record 43 of Set 8 | Batabanó\n",
      "Processing Weather Data for Record 44 of Set 8 | Zolochiv\n",
      "Processing Weather Data for Record 45 of Set 8 | Ayagoz\n",
      "Processing Weather Data for Record 46 of Set 8 | Tepic\n",
      "Processing Weather Data for Record 47 of Set 8 | Cabedelo\n",
      "Processing Weather Data for Record 48 of Set 8 | Murray\n",
      "Processing Weather Data for Record 49 of Set 8 | Taoudenni\n",
      "Processing Weather Data for Record 50 of Set 8 | Sungai Raya\n",
      "Processing Weather Data for Record 1 of Set 9 | Niono\n",
      "Processing Weather Data for Record 2 of Set 9 | Hanover\n",
      "Processing Weather Data for Record 3 of Set 9 | Igrim\n",
      "Processing Weather Data for Record 4 of Set 9 | Corn Island\n",
      "Processing Weather Data for Record 5 of Set 9 | Junqueirópolis\n",
      "Processing Weather Data for Record 6 of Set 9 | Tabas\n",
      "Processing Weather Data for Record 7 of Set 9 | Bada\n",
      "Processing Weather Data for Record 8 of Set 9 | Malanje\n",
      "Processing Weather Data for Record 9 of Set 9 | Mergen\n",
      "Processing Weather Data for Record 10 of Set 9 | Seoul\n",
      "Processing Weather Data for Record 11 of Set 9 | Jacareacanga\n",
      "City not found....Skipping............\n",
      "Processing Weather Data for Record 12 of Set 9 | Tura\n",
      "Processing Weather Data for Record 13 of Set 9 | Palmas\n",
      "Processing Weather Data for Record 14 of Set 9 | Los Llanos de Aridane\n",
      "City not found....Skipping............\n",
      "Processing Weather Data for Record 15 of Set 9 | Poltavka\n",
      "Processing Weather Data for Record 16 of Set 9 | Kiryat Gat\n",
      "Processing Weather Data for Record 17 of Set 9 | Fortuna\n",
      "Processing Weather Data for Record 18 of Set 9 | Erpeli\n",
      "Processing Weather Data for Record 19 of Set 9 | Asău\n",
      "Processing Weather Data for Record 20 of Set 9 | Yumen\n",
      "Processing Weather Data for Record 21 of Set 9 | Atherton\n",
      "Processing Weather Data for Record 22 of Set 9 | Dickinson\n",
      "Processing Weather Data for Record 23 of Set 9 | Shimoda\n",
      "Processing Weather Data for Record 24 of Set 9 | Pishin\n",
      "Processing Weather Data for Record 25 of Set 9 | Basco\n",
      "Processing Weather Data for Record 26 of Set 9 | Broome\n",
      "City not found....Skipping............\n",
      "Processing Weather Data for Record 27 of Set 9 | Nanortalik\n",
      "Processing Weather Data for Record 28 of Set 9 | Ahipara\n",
      "Processing Weather Data for Record 29 of Set 9 | Kalmunai\n",
      "Processing Weather Data for Record 30 of Set 9 | East Stroudsburg\n",
      "Processing Weather Data for Record 31 of Set 9 | Jijiga\n",
      "Processing Weather Data for Record 32 of Set 9 | Bahía de Caráquez\n",
      "Processing Weather Data for Record 33 of Set 9 | Seymchan\n",
      "Processing Weather Data for Record 34 of Set 9 | Eirunepé\n",
      "Processing Weather Data for Record 35 of Set 9 | Allanridge\n",
      "Processing Weather Data for Record 36 of Set 9 | Yokadouma\n",
      "Processing Weather Data for Record 37 of Set 9 | Yuzawa\n",
      "Processing Weather Data for Record 38 of Set 9 | Vangaindrano\n",
      "Processing Weather Data for Record 39 of Set 9 | Norfolk\n",
      "Processing Weather Data for Record 40 of Set 9 | Owensboro\n",
      "Processing Weather Data for Record 41 of Set 9 | Caucayá\n",
      "Processing Weather Data for Record 42 of Set 9 | Severo-Kuril'sk\n",
      "Processing Weather Data for Record 43 of Set 9 | Nelson Bay\n",
      "Processing Weather Data for Record 44 of Set 9 | Praia\n",
      "Processing Weather Data for Record 45 of Set 9 | Godda\n",
      "Processing Weather Data for Record 46 of Set 9 | Port Macquarie\n",
      "Processing Weather Data for Record 47 of Set 9 | Djibouti\n",
      "Processing Weather Data for Record 48 of Set 9 | Indramayu\n",
      "Processing Weather Data for Record 49 of Set 9 | Dârjiu\n",
      "Processing Weather Data for Record 50 of Set 9 | Svetlaya\n",
      "Processing Weather Data for Record 1 of Set 10 | Ust'-Kulom\n",
      "City not found....Skipping............\n",
      "City not found....Skipping............\n",
      "Processing Weather Data for Record 2 of Set 10 | Garoowe\n",
      "Processing Weather Data for Record 3 of Set 10 | Emerald\n",
      "Processing Weather Data for Record 4 of Set 10 | Khandyga\n",
      "Processing Weather Data for Record 5 of Set 10 | Inverell\n",
      "Processing Weather Data for Record 6 of Set 10 | Kunming\n",
      "Processing Weather Data for Record 7 of Set 10 | Le Port\n",
      "Processing Weather Data for Record 8 of Set 10 | Säkylä\n",
      "Processing Weather Data for Record 9 of Set 10 | Guarapari\n",
      "Processing Weather Data for Record 10 of Set 10 | Valleyview\n",
      "Processing Weather Data for Record 11 of Set 10 | Forsytheganj\n",
      "Processing Weather Data for Record 12 of Set 10 | Al Bardīyah\n",
      "Processing Weather Data for Record 13 of Set 10 | Keetmanshoop\n",
      "City not found....Skipping............\n",
      "Processing Weather Data for Record 14 of Set 10 | Douglas\n",
      "Processing Weather Data for Record 15 of Set 10 | Dunmore Town\n",
      "Processing Weather Data for Record 16 of Set 10 | Aranos\n",
      "Processing Weather Data for Record 17 of Set 10 | Eyl\n",
      "City not found....Skipping............\n",
      "Processing Weather Data for Record 18 of Set 10 | Maïné Soroa\n",
      "City not found....Skipping............\n",
      "Processing Weather Data for Record 19 of Set 10 | Lakes Entrance\n",
      "Processing Weather Data for Record 20 of Set 10 | Aykhal\n",
      "Processing Weather Data for Record 21 of Set 10 | Puerto Escondido\n",
      "Processing Weather Data for Record 22 of Set 10 | Ponferrada\n",
      "Processing Weather Data for Record 23 of Set 10 | Jizan\n",
      "Processing Weather Data for Record 24 of Set 10 | Xining\n",
      "Processing Weather Data for Record 25 of Set 10 | Sīrjān\n",
      "Processing Weather Data for Record 26 of Set 10 | Isernia\n",
      "Processing Weather Data for Record 27 of Set 10 | Saint-Joseph\n",
      "Processing Weather Data for Record 28 of Set 10 | Talcahuano\n",
      "Processing Weather Data for Record 29 of Set 10 | Esmeralda\n",
      "Processing Weather Data for Record 30 of Set 10 | Salalah\n",
      "Processing Weather Data for Record 31 of Set 10 | Keti Bandar\n",
      "Processing Weather Data for Record 32 of Set 10 | Foindu\n",
      "Processing Weather Data for Record 33 of Set 10 | Soyo\n",
      "Processing Weather Data for Record 34 of Set 10 | Cururupu\n",
      "Processing Weather Data for Record 35 of Set 10 | Mykolayiv\n",
      "Processing Weather Data for Record 36 of Set 10 | Kez\n",
      "Processing Weather Data for Record 37 of Set 10 | Makhu\n",
      "Processing Weather Data for Record 38 of Set 10 | Jianhu\n",
      "Processing Weather Data for Record 39 of Set 10 | Inongo\n",
      "Processing Weather Data for Record 40 of Set 10 | Semey\n",
      "Processing Weather Data for Record 41 of Set 10 | Las Vegas\n",
      "Processing Weather Data for Record 42 of Set 10 | Road Town\n",
      "Processing Weather Data for Record 43 of Set 10 | Bud\n",
      "Processing Weather Data for Record 44 of Set 10 | Makakilo City\n",
      "Processing Weather Data for Record 45 of Set 10 | Nuuk\n",
      "Processing Weather Data for Record 46 of Set 10 | Huarmey\n",
      "City not found....Skipping............\n",
      "Processing Weather Data for Record 47 of Set 10 | Sault Ste. Marie\n",
      "Processing Weather Data for Record 48 of Set 10 | Ankazobe\n",
      "City not found....Skipping............\n",
      "Processing Weather Data for Record 49 of Set 10 | Christchurch\n",
      "Processing Weather Data for Record 50 of Set 10 | Olinda\n",
      "Processing Weather Data for Record 1 of Set 11 | Sabang\n",
      "Processing Weather Data for Record 2 of Set 11 | Yangambi\n",
      "Processing Weather Data for Record 3 of Set 11 | Guhāgar\n",
      "Processing Weather Data for Record 4 of Set 11 | Lagunas\n",
      "Processing Weather Data for Record 5 of Set 11 | Koumac\n",
      "Processing Weather Data for Record 6 of Set 11 | Moche\n",
      "Processing Weather Data for Record 7 of Set 11 | Ubari\n",
      "Processing Weather Data for Record 8 of Set 11 | Arman'\n",
      "Processing Weather Data for Record 9 of Set 11 | Gisborne\n",
      "Processing Weather Data for Record 10 of Set 11 | Miass\n",
      "City not found....Skipping............\n",
      "Processing Weather Data for Record 11 of Set 11 | Departamento de Maldonado\n",
      "Processing Weather Data for Record 12 of Set 11 | São Filipe\n",
      "City not found....Skipping............\n",
      "City not found....Skipping............\n",
      "Processing Weather Data for Record 13 of Set 11 | Thompson\n",
      "Processing Weather Data for Record 14 of Set 11 | Poim\n",
      "Processing Weather Data for Record 15 of Set 11 | Oksbøl\n",
      "Processing Weather Data for Record 16 of Set 11 | Nhulunbuy\n",
      "Processing Weather Data for Record 17 of Set 11 | Salinópolis\n",
      "Processing Weather Data for Record 18 of Set 11 | Rocha\n",
      "Processing Weather Data for Record 19 of Set 11 | Pampas\n"
     ]
    },
    {
     "name": "stdout",
     "output_type": "stream",
     "text": [
      "Processing Weather Data for Record 20 of Set 11 | Erdenet\n",
      "Processing Weather Data for Record 21 of Set 11 | Opuwo\n",
      "Processing Weather Data for Record 22 of Set 11 | Fallon\n",
      "Processing Weather Data for Record 23 of Set 11 | Shubarkuduk\n",
      "City not found....Skipping............\n",
      "Processing Weather Data for Record 24 of Set 11 | Trincomalee\n",
      "Processing Weather Data for Record 25 of Set 11 | Montepuez\n",
      "Processing Weather Data for Record 26 of Set 11 | Logatec\n",
      "Processing Weather Data for Record 27 of Set 11 | Yangjiang\n",
      "Processing Weather Data for Record 28 of Set 11 | Poum\n",
      "Processing Weather Data for Record 29 of Set 11 | Rūdbār\n",
      "Processing Weather Data for Record 30 of Set 11 | Mitsamiouli\n",
      "Processing Weather Data for Record 31 of Set 11 | Formosa\n",
      "Processing Weather Data for Record 32 of Set 11 | Dingle\n",
      "Processing Weather Data for Record 33 of Set 11 | Yar-Sale\n",
      "Processing Weather Data for Record 34 of Set 11 | Bourail\n",
      "Processing Weather Data for Record 35 of Set 11 | Sept-Îles\n",
      "City not found....Skipping............\n",
      "Processing Weather Data for Record 36 of Set 11 | Boa Vista\n",
      "Processing Weather Data for Record 37 of Set 11 | Tabou\n",
      "Processing Weather Data for Record 38 of Set 11 | Mazamari\n",
      "Processing Weather Data for Record 39 of Set 11 | Pervomayskoye\n",
      "Processing Weather Data for Record 40 of Set 11 | Grand Gaube\n",
      "Processing Weather Data for Record 41 of Set 11 | Egvekinot\n",
      "Processing Weather Data for Record 42 of Set 11 | Röthenbach\n",
      "Processing Weather Data for Record 43 of Set 11 | Cap-Haïtien\n",
      "Processing Weather Data for Record 44 of Set 11 | Mahanoro\n",
      "Processing Weather Data for Record 45 of Set 11 | Kisanga\n",
      "City not found....Skipping............\n",
      "City not found....Skipping............\n",
      "Processing Weather Data for Record 46 of Set 11 | Sinnamary\n",
      "Processing Weather Data for Record 47 of Set 11 | Dekar\n",
      "Processing Weather Data for Record 48 of Set 11 | Baní\n",
      "City not found....Skipping............\n",
      "City not found....Skipping............\n",
      "Processing Weather Data for Record 49 of Set 11 | Mahibadhoo\n",
      "Processing Weather Data for Record 50 of Set 11 | Callaway\n",
      "Processing Weather Data for Record 1 of Set 12 | Svecha\n",
      "Processing Weather Data for Record 2 of Set 12 | Gulu\n",
      "Processing Weather Data for Record 3 of Set 12 | Mayo\n",
      "City not found....Skipping............\n",
      "City not found....Skipping............\n",
      "Processing Weather Data for Record 4 of Set 12 | Meulaboh\n",
      "-----------------------------\n",
      "Data Retrieval Complete\n",
      "-----------------------------\n"
     ]
    }
   ],
   "source": [
    "for index, row in city_weather.iterrows(): \n",
    "    #Create the query url for the API call\n",
    "    query_url = base_url + row['City'] + ',' + row['Country'] + '&APPID=' + weather_api_key\n",
    "    \n",
    "    #API call\n",
    "    response = requests.get(query_url).json()\n",
    "    #Exception script in case the city is not found by the API call\n",
    "    try: \n",
    "        #Meassage to alert the user that the data is being retrieved\n",
    "        print(f'Processing Weather Data for Record {record_num} of Set {record_set} | {response[\"name\"]}')\n",
    "        \n",
    "        #Input data into the dataframe\n",
    "        \n",
    "        city_weather.loc[index, 'Country'] = response['sys']['country']\n",
    "        city_weather.loc[index, 'Cloudiness'] = response['clouds']['all']\n",
    "        city_weather.loc[index, 'Date'] = response['dt']\n",
    "        city_weather.loc[index, 'Humidity'] = response['main']['humidity']\n",
    "        city_weather.loc[index, 'Lat'] = response['coord']['lat']\n",
    "        city_weather.loc[index, 'Lng'] = response['coord']['lon']\n",
    "        city_weather.loc[index, 'Max Temp'] = response['main']['temp_max']\n",
    "        city_weather.loc[index, 'Windspeed'] = response['wind']['speed']\n",
    "        \n",
    "        #Increase the record count\n",
    "        record_num += 1\n",
    "    except (KeyError, IndexError):\n",
    "        print(\"City not found....Skipping............\")\n",
    "    \n",
    "    #If statement to handle the API call limits\n",
    "    if record_num == 51:\n",
    "        record_set += 1\n",
    "        record_num = 1\n",
    "        time.sleep(60)\n",
    "print(\"-----------------------------\")        \n",
    "print(\"Data Retrieval Complete\")\n",
    "print(\"-----------------------------\")"
   ]
  },
  {
   "cell_type": "code",
   "execution_count": null,
   "metadata": {},
   "outputs": [],
   "source": []
  },
  {
   "cell_type": "markdown",
   "metadata": {},
   "source": [
    "### Convert Raw Data to DataFrame\n",
    "* Export the city data into a .csv.\n",
    "* Display the DataFrame"
   ]
  },
  {
   "cell_type": "code",
   "execution_count": 6,
   "metadata": {},
   "outputs": [
    {
     "data": {
      "text/plain": [
       "City          625\n",
       "Cloudiness    625\n",
       "Country       625\n",
       "Date          625\n",
       "Humidity      625\n",
       "Lat           625\n",
       "Lng           625\n",
       "Max Temp      625\n",
       "Windspeed     625\n",
       "dtype: int64"
      ]
     },
     "execution_count": 6,
     "metadata": {},
     "output_type": "execute_result"
    }
   ],
   "source": [
    "city_weather.count()"
   ]
  },
  {
   "cell_type": "code",
   "execution_count": 7,
   "metadata": {},
   "outputs": [
    {
     "data": {
      "text/html": [
       "<div>\n",
       "<style scoped>\n",
       "    .dataframe tbody tr th:only-of-type {\n",
       "        vertical-align: middle;\n",
       "    }\n",
       "\n",
       "    .dataframe tbody tr th {\n",
       "        vertical-align: top;\n",
       "    }\n",
       "\n",
       "    .dataframe thead th {\n",
       "        text-align: right;\n",
       "    }\n",
       "</style>\n",
       "<table border=\"1\" class=\"dataframe\">\n",
       "  <thead>\n",
       "    <tr style=\"text-align: right;\">\n",
       "      <th></th>\n",
       "      <th>City</th>\n",
       "      <th>Cloudiness</th>\n",
       "      <th>Country</th>\n",
       "      <th>Date</th>\n",
       "      <th>Humidity</th>\n",
       "      <th>Lat</th>\n",
       "      <th>Lng</th>\n",
       "      <th>Max Temp</th>\n",
       "      <th>Windspeed</th>\n",
       "    </tr>\n",
       "  </thead>\n",
       "  <tbody>\n",
       "    <tr>\n",
       "      <th>0</th>\n",
       "      <td>araci</td>\n",
       "      <td>4</td>\n",
       "      <td>BR</td>\n",
       "      <td>1650842689</td>\n",
       "      <td>82</td>\n",
       "      <td>-11.3333</td>\n",
       "      <td>-38.9667</td>\n",
       "      <td>74.41</td>\n",
       "      <td>9.17</td>\n",
       "    </tr>\n",
       "    <tr>\n",
       "      <th>1</th>\n",
       "      <td>iranshahr</td>\n",
       "      <td>8</td>\n",
       "      <td>IR</td>\n",
       "      <td>1650842689</td>\n",
       "      <td>36</td>\n",
       "      <td>27.2025</td>\n",
       "      <td>60.6848</td>\n",
       "      <td>79.75</td>\n",
       "      <td>3.06</td>\n",
       "    </tr>\n",
       "    <tr>\n",
       "      <th>2</th>\n",
       "      <td>busselton</td>\n",
       "      <td>99</td>\n",
       "      <td>AU</td>\n",
       "      <td>1650842578</td>\n",
       "      <td>52</td>\n",
       "      <td>-33.65</td>\n",
       "      <td>115.333</td>\n",
       "      <td>66.38</td>\n",
       "      <td>12.06</td>\n",
       "    </tr>\n",
       "    <tr>\n",
       "      <th>3</th>\n",
       "      <td>puerto ayora</td>\n",
       "      <td>51</td>\n",
       "      <td>EC</td>\n",
       "      <td>1650842690</td>\n",
       "      <td>80</td>\n",
       "      <td>-0.7393</td>\n",
       "      <td>-90.3518</td>\n",
       "      <td>74.37</td>\n",
       "      <td>9.04</td>\n",
       "    </tr>\n",
       "    <tr>\n",
       "      <th>4</th>\n",
       "      <td>batemans bay</td>\n",
       "      <td>79</td>\n",
       "      <td>AU</td>\n",
       "      <td>1650842690</td>\n",
       "      <td>69</td>\n",
       "      <td>-35.7167</td>\n",
       "      <td>150.183</td>\n",
       "      <td>63.1</td>\n",
       "      <td>3.29</td>\n",
       "    </tr>\n",
       "  </tbody>\n",
       "</table>\n",
       "</div>"
      ],
      "text/plain": [
       "           City Cloudiness Country        Date Humidity      Lat      Lng  \\\n",
       "0         araci          4      BR  1650842689       82 -11.3333 -38.9667   \n",
       "1     iranshahr          8      IR  1650842689       36  27.2025  60.6848   \n",
       "2     busselton         99      AU  1650842578       52   -33.65  115.333   \n",
       "3  puerto ayora         51      EC  1650842690       80  -0.7393 -90.3518   \n",
       "4  batemans bay         79      AU  1650842690       69 -35.7167  150.183   \n",
       "\n",
       "  Max Temp Windspeed  \n",
       "0    74.41      9.17  \n",
       "1    79.75      3.06  \n",
       "2    66.38     12.06  \n",
       "3    74.37      9.04  \n",
       "4     63.1      3.29  "
      ]
     },
     "execution_count": 7,
     "metadata": {},
     "output_type": "execute_result"
    }
   ],
   "source": [
    "city_weather.head()"
   ]
  },
  {
   "cell_type": "code",
   "execution_count": 8,
   "metadata": {},
   "outputs": [],
   "source": [
    "#Export DataFrame to CSV File\n",
    "city_weather.to_csv(\"city_weather.csv\")\n"
   ]
  },
  {
   "cell_type": "code",
   "execution_count": 9,
   "metadata": {},
   "outputs": [],
   "source": [
    "import pandas as pd"
   ]
  },
  {
   "cell_type": "code",
   "execution_count": 10,
   "metadata": {},
   "outputs": [],
   "source": [
    "city_weather=pd.read_csv(\"city_weather.csv\")"
   ]
  },
  {
   "cell_type": "code",
   "execution_count": 11,
   "metadata": {},
   "outputs": [
    {
     "data": {
      "text/html": [
       "<div>\n",
       "<style scoped>\n",
       "    .dataframe tbody tr th:only-of-type {\n",
       "        vertical-align: middle;\n",
       "    }\n",
       "\n",
       "    .dataframe tbody tr th {\n",
       "        vertical-align: top;\n",
       "    }\n",
       "\n",
       "    .dataframe thead th {\n",
       "        text-align: right;\n",
       "    }\n",
       "</style>\n",
       "<table border=\"1\" class=\"dataframe\">\n",
       "  <thead>\n",
       "    <tr style=\"text-align: right;\">\n",
       "      <th></th>\n",
       "      <th>City</th>\n",
       "      <th>Cloudiness</th>\n",
       "      <th>Country</th>\n",
       "      <th>Date</th>\n",
       "      <th>Humidity</th>\n",
       "      <th>Lat</th>\n",
       "      <th>Lng</th>\n",
       "      <th>Max Temp</th>\n",
       "      <th>Windspeed</th>\n",
       "    </tr>\n",
       "  </thead>\n",
       "  <tbody>\n",
       "    <tr>\n",
       "      <th>0</th>\n",
       "      <td>araci</td>\n",
       "      <td>4.0</td>\n",
       "      <td>BR</td>\n",
       "      <td>1.650843e+09</td>\n",
       "      <td>82.0</td>\n",
       "      <td>-11.3333</td>\n",
       "      <td>-38.9667</td>\n",
       "      <td>74.41</td>\n",
       "      <td>9.17</td>\n",
       "    </tr>\n",
       "    <tr>\n",
       "      <th>1</th>\n",
       "      <td>iranshahr</td>\n",
       "      <td>8.0</td>\n",
       "      <td>IR</td>\n",
       "      <td>1.650843e+09</td>\n",
       "      <td>36.0</td>\n",
       "      <td>27.2025</td>\n",
       "      <td>60.6848</td>\n",
       "      <td>79.75</td>\n",
       "      <td>3.06</td>\n",
       "    </tr>\n",
       "    <tr>\n",
       "      <th>2</th>\n",
       "      <td>busselton</td>\n",
       "      <td>99.0</td>\n",
       "      <td>AU</td>\n",
       "      <td>1.650843e+09</td>\n",
       "      <td>52.0</td>\n",
       "      <td>-33.6500</td>\n",
       "      <td>115.3333</td>\n",
       "      <td>66.38</td>\n",
       "      <td>12.06</td>\n",
       "    </tr>\n",
       "    <tr>\n",
       "      <th>3</th>\n",
       "      <td>puerto ayora</td>\n",
       "      <td>51.0</td>\n",
       "      <td>EC</td>\n",
       "      <td>1.650843e+09</td>\n",
       "      <td>80.0</td>\n",
       "      <td>-0.7393</td>\n",
       "      <td>-90.3518</td>\n",
       "      <td>74.37</td>\n",
       "      <td>9.04</td>\n",
       "    </tr>\n",
       "    <tr>\n",
       "      <th>4</th>\n",
       "      <td>batemans bay</td>\n",
       "      <td>79.0</td>\n",
       "      <td>AU</td>\n",
       "      <td>1.650843e+09</td>\n",
       "      <td>69.0</td>\n",
       "      <td>-35.7167</td>\n",
       "      <td>150.1833</td>\n",
       "      <td>63.10</td>\n",
       "      <td>3.29</td>\n",
       "    </tr>\n",
       "  </tbody>\n",
       "</table>\n",
       "</div>"
      ],
      "text/plain": [
       "           City  Cloudiness Country          Date  Humidity      Lat  \\\n",
       "0         araci         4.0      BR  1.650843e+09      82.0 -11.3333   \n",
       "1     iranshahr         8.0      IR  1.650843e+09      36.0  27.2025   \n",
       "2     busselton        99.0      AU  1.650843e+09      52.0 -33.6500   \n",
       "3  puerto ayora        51.0      EC  1.650843e+09      80.0  -0.7393   \n",
       "4  batemans bay        79.0      AU  1.650843e+09      69.0 -35.7167   \n",
       "\n",
       "        Lng  Max Temp  Windspeed  \n",
       "0  -38.9667     74.41       9.17  \n",
       "1   60.6848     79.75       3.06  \n",
       "2  115.3333     66.38      12.06  \n",
       "3  -90.3518     74.37       9.04  \n",
       "4  150.1833     63.10       3.29  "
      ]
     },
     "execution_count": 11,
     "metadata": {},
     "output_type": "execute_result"
    }
   ],
   "source": [
    "df=pd.DataFrame(city_weather)\n",
    "del df['Unnamed: 0']\n",
    "df.head()"
   ]
  },
  {
   "cell_type": "code",
   "execution_count": null,
   "metadata": {},
   "outputs": [],
   "source": []
  },
  {
   "cell_type": "markdown",
   "metadata": {},
   "source": [
    "## Plotting the Data\n",
    "* Use proper labeling of the plots using plot titles (including date of analysis) and axes labels.\n",
    "* Save the plotted figures as .pngs."
   ]
  },
  {
   "cell_type": "markdown",
   "metadata": {},
   "source": [
    "## Latitude vs. Temperature Plot"
   ]
  },
  {
   "cell_type": "code",
   "execution_count": 12,
   "metadata": {},
   "outputs": [
    {
     "data": {
      "image/png": "[encoded data removed]",
      "text/plain": [
       "<Figure size 432x288 with 1 Axes>"
      ]
     },
     "metadata": {
      "needs_background": "light"
     },
     "output_type": "display_data"
    }
   ],
   "source": [
    "# Build a scatter plot for each data type\n",
    "plt.scatter(city_weather[\"Lat\"], city_weather[\"Max Temp\"], marker=\"o\")\n",
    "# Incorporate the other graph properties\n",
    "plt.title(f'City Latitude vs. Max Temperature {time.strftime(\"%m/%d/%Y\")}')\n",
    "plt.ylabel(\"Temperature (F)\")\n",
    "plt.xlabel(\"Latitude\")\n",
    "plt.grid(True)\n",
    "#Save the figure\n",
    "plt.savefig(\"../Images/City Latitude vs Max Temperature.png\")\n",
    "\n",
    "# Show plot\n",
    "plt.show()\n"
   ]
  },
  {
   "cell_type": "markdown",
   "metadata": {},
   "source": [
    "As we can see, highest temperature is found arround 0.The plot shows that as we move from the equator, temperature decrease."
   ]
  },
  {
   "cell_type": "markdown",
   "metadata": {},
   "source": [
    "## Latitude vs. Humidity Plot"
   ]
  },
  {
   "cell_type": "code",
   "execution_count": 13,
   "metadata": {},
   "outputs": [
    {
     "data": {
      "image/png": "[encoded data removed]",
      "text/plain": [
       "<Figure size 432x288 with 1 Axes>"
      ]
     },
     "metadata": {
      "needs_background": "light"
     },
     "output_type": "display_data"
    }
   ],
   "source": [
    "# Build a scatter plot for each data type\n",
    "plt.scatter(city_weather[\"Lat\"], city_weather[\"Humidity\"], marker=\"o\")\n",
    "# Incorporate the other graph properties\n",
    "plt.title(f'City Latitude vs. Max Humidity {time.strftime(\"%m/%d/%Y\")}')\n",
    "plt.ylabel(\"Humidity (%)\")\n",
    "plt.xlabel(\"Latitude\")\n",
    "plt.grid(True)\n",
    "#Save the figure\n",
    "plt.savefig(\"../Images/City Latitude vs Humidity.png\")\n",
    "\n",
    "# Show plot\n",
    "plt.show()"
   ]
  },
  {
   "cell_type": "markdown",
   "metadata": {},
   "source": [
    "This plot shows that there are quasi no corelation between Latitude and Humidity. However we can see that as latitude is higher,humidity is higher in the Southern hemisphere"
   ]
  },
  {
   "cell_type": "code",
   "execution_count": null,
   "metadata": {},
   "outputs": [],
   "source": []
  },
  {
   "cell_type": "markdown",
   "metadata": {},
   "source": [
    "## Latitude vs. Cloudiness Plot"
   ]
  },
  {
   "cell_type": "code",
   "execution_count": 14,
   "metadata": {
    "scrolled": true
   },
   "outputs": [
    {
     "data": {
      "image/png": "[encoded data removed]",
      "text/plain": [
       "<Figure size 432x288 with 1 Axes>"
      ]
     },
     "metadata": {
      "needs_background": "light"
     },
     "output_type": "display_data"
    }
   ],
   "source": [
    "# Build a scatter plot for each data type\n",
    "plt.scatter(city_weather[\"Lat\"], city_weather[\"Cloudiness\"], marker=\"o\")\n",
    "\n",
    "# Incorporate the other graph properties\n",
    "plt.title(f'City Latitude vs. Cloudiness {time.strftime(\"%m/%d/%Y\")}')\n",
    "plt.ylabel(\"Cloudiness (%)\")\n",
    "plt.xlabel(\"Latitude\")\n",
    "plt.grid(True)\n",
    "#Save the figure\n",
    "plt.savefig(\"../Images/City Latitude vs Cloudiness.png\")\n",
    "\n",
    "# Show plot\n",
    "plt.show()"
   ]
  },
  {
   "cell_type": "markdown",
   "metadata": {},
   "source": [
    "We can observe in the plot that there are no correlation between Latitude and Cloudiness"
   ]
  },
  {
   "cell_type": "markdown",
   "metadata": {},
   "source": [
    "## Latitude vs. Wind Speed Plot"
   ]
  },
  {
   "cell_type": "code",
   "execution_count": 15,
   "metadata": {},
   "outputs": [
    {
     "data": {
      "image/png": "[encoded data removed]",
      "text/plain": [
       "<Figure size 432x288 with 1 Axes>"
      ]
     },
     "metadata": {
      "needs_background": "light"
     },
     "output_type": "display_data"
    }
   ],
   "source": [
    "# Build a scatter plot for each data type\n",
    "plt.scatter(city_weather[\"Lat\"], city_weather[\"Windspeed\"], marker=\"o\")\n",
    "\n",
    "# Incorporate the other graph properties\n",
    "plt.title(f'City Latitude vs. Windspeed {time.strftime(\"%m/%d/%Y\")}')\n",
    "plt.ylabel(\"Wind Speed(mph)\")\n",
    "plt.xlabel(\"Latitude\")\n",
    "plt.grid(True)\n",
    "#Save the figure\n",
    "plt.savefig(\"../Images/City Latitude vs Wind Speed.png\")\n",
    "\n",
    "# Show plot\n",
    "plt.show()"
   ]
  },
  {
   "cell_type": "markdown",
   "metadata": {},
   "source": [
    "The plot shows that there are no real relatinship between Latitude and Wind Speed"
   ]
  },
  {
   "cell_type": "markdown",
   "metadata": {},
   "source": [
    "## Linear Regression"
   ]
  },
  {
   "cell_type": "code",
   "execution_count": 16,
   "metadata": {},
   "outputs": [],
   "source": [
    "#Create a function to create Linear Regression plots\n",
    "# Add the linear regression equation and line to plot\n",
    "def linear_reg_plot(x_values,y_values):\n",
    "    (slope, intercept, rvalue, pvalue, stderr) = linregress(x_values, y_values)\n",
    "    regress_values = x_values * slope + intercept\n",
    "    line_eq = \"y = \" + str(round(slope,2)) + \"x + \" + str(round(intercept,2))\n",
    "    plt.scatter(x_values,y_values)\n",
    "    plt.plot(x_values,regress_values,\"r-\")\n",
    "    plt.annotate(line_eq,(x_values.median(),y_values.median()),fontsize=15,color=\"red\")\n",
    "    plt.xlabel(\"Latitude\")\n",
    "    print(f\"The r-squared is: {rvalue}\")\n",
    "    plt.show()"
   ]
  },
  {
   "cell_type": "code",
   "execution_count": 17,
   "metadata": {},
   "outputs": [],
   "source": [
    "# Create Northern and Southern Hemisphere DataFrames\n",
    "Northern_hemisphere = city_weather.loc[city_weather[\"Lat\"]>0]\n",
    "Southern_hemisphere = city_weather.loc[city_weather[\"Lat\"]<0]"
   ]
  },
  {
   "cell_type": "markdown",
   "metadata": {},
   "source": [
    "####  Northern Hemisphere - Max Temp vs. Latitude Linear Regression"
   ]
  },
  {
   "cell_type": "code",
   "execution_count": 18,
   "metadata": {},
   "outputs": [
    {
     "name": "stdout",
     "output_type": "stream",
     "text": [
      "The r-squared is: -0.8572696013070764\n"
     ]
    },
    {
     "data": {
      "image/png": "[encoded data removed]",
      "text/plain": [
       "<Figure size 432x288 with 1 Axes>"
      ]
     },
     "metadata": {
      "needs_background": "light"
     },
     "output_type": "display_data"
    },
    {
     "name": "stdout",
     "output_type": "stream",
     "text": [
      "None\n"
     ]
    }
   ],
   "source": [
    "plt.title(\"Northern Hemisphere - Max Temp vs. Latitude Linear Regression\")\n",
    "x_values = Northern_hemisphere[\"Lat\"]\n",
    "y_values = Northern_hemisphere[\"Max Temp\"]\n",
    "plt.ylabel(\"Max Temp (F)\")\n",
    "# Save the figure\n",
    "plt.savefig(\"../Images/Northern Hemisphere - Max Temp vs. Latitude Linear Regression.png\")\n",
    "print(linear_reg_plot(x_values,y_values))"
   ]
  },
  {
   "cell_type": "code",
   "execution_count": null,
   "metadata": {},
   "outputs": [],
   "source": []
  },
  {
   "cell_type": "markdown",
   "metadata": {},
   "source": [
    "####  Southern Hemisphere - Max Temp vs. Latitude Linear Regression"
   ]
  },
  {
   "cell_type": "code",
   "execution_count": 19,
   "metadata": {},
   "outputs": [
    {
     "name": "stdout",
     "output_type": "stream",
     "text": [
      "The r-squared is: 0.7315217897884976\n"
     ]
    },
    {
     "data": {
      "image/png": "[encoded data removed]",
      "text/plain": [
       "<Figure size 432x288 with 1 Axes>"
      ]
     },
     "metadata": {
      "needs_background": "light"
     },
     "output_type": "display_data"
    },
    {
     "name": "stdout",
     "output_type": "stream",
     "text": [
      "None\n"
     ]
    }
   ],
   "source": [
    "plt.title(\"Southern Hemisphere - Max Temp vs. Latitude Linear Regression\")\n",
    "x_values = Southern_hemisphere[\"Lat\"]\n",
    "y_values = Southern_hemisphere[\"Max Temp\"]\n",
    "plt.ylabel(\"Max Temp (F)\")\n",
    "plt.savefig(\"../Images/Southern Hemisphere - Max Temp vs. Latitude Linear Regression.png\")\n",
    "print(linear_reg_plot(x_values,y_values))"
   ]
  },
  {
   "cell_type": "markdown",
   "metadata": {},
   "source": [
    "The Two previous plot show the following:\n",
    "    The Northern Hemisphere displays a negative slope with a negative correlation between Temperature and Latitude, however the Southern Hemisphere displays a positive slope with a positive correlation between Temperature and Latitude."
   ]
  },
  {
   "cell_type": "markdown",
   "metadata": {},
   "source": [
    "####  Northern Hemisphere - Humidity (%) vs. Latitude Linear Regression"
   ]
  },
  {
   "cell_type": "code",
   "execution_count": 20,
   "metadata": {},
   "outputs": [
    {
     "name": "stdout",
     "output_type": "stream",
     "text": [
      "The r-squared is: 0.17873996607482764\n"
     ]
    },
    {
     "data": {
      "image/png": "[encoded data removed]",
      "text/plain": [
       "<Figure size 432x288 with 1 Axes>"
      ]
     },
     "metadata": {
      "needs_background": "light"
     },
     "output_type": "display_data"
    },
    {
     "name": "stdout",
     "output_type": "stream",
     "text": [
      "None\n"
     ]
    }
   ],
   "source": [
    "plt.title(\"Northern Hemisphere - Humidity (%) vs. Latitude Linear Regression\")\n",
    "x_values = Northern_hemisphere[\"Lat\"]\n",
    "y_values = Northern_hemisphere[\"Humidity\"]\n",
    "plt.ylabel(\"Humidity\")\n",
    "# Save the figure\n",
    "plt.savefig(\"../Images/Northern Hemisphere - Humidity (%) vs. Latitude Linear Regression.png\")\n",
    "print(linear_reg_plot(x_values,y_values))"
   ]
  },
  {
   "cell_type": "code",
   "execution_count": null,
   "metadata": {},
   "outputs": [],
   "source": []
  },
  {
   "cell_type": "markdown",
   "metadata": {},
   "source": [
    "####  Southern Hemisphere - Humidity (%) vs. Latitude Linear Regression"
   ]
  },
  {
   "cell_type": "code",
   "execution_count": 21,
   "metadata": {},
   "outputs": [
    {
     "name": "stdout",
     "output_type": "stream",
     "text": [
      "The r-squared is: 0.3437216958658618\n"
     ]
    },
    {
     "data": {
      "image/png": "[encoded data removed]",
      "text/plain": [
       "<Figure size 432x288 with 1 Axes>"
      ]
     },
     "metadata": {
      "needs_background": "light"
     },
     "output_type": "display_data"
    },
    {
     "name": "stdout",
     "output_type": "stream",
     "text": [
      "None\n"
     ]
    }
   ],
   "source": [
    "plt.title(\"Southern Hemisphere - Humidity (%) vs. Latitude Linear Regression\")\n",
    "x_values = Southern_hemisphere[\"Lat\"]\n",
    "y_values = Southern_hemisphere[\"Humidity\"]\n",
    "plt.ylabel(\"Humidity\")\n",
    "# Save the figure\n",
    "plt.savefig(\"../Images/Southern Hemisphere - Humidity (%) vs. Latitude Linear Regression.png\")\n",
    "print(linear_reg_plot(x_values,y_values))"
   ]
  },
  {
   "cell_type": "markdown",
   "metadata": {},
   "source": [
    "The two previous graphs show that there are no clear relationship beetween Humidity and Latitude in the northern and Southern Hemisphere.  \n"
   ]
  },
  {
   "cell_type": "code",
   "execution_count": null,
   "metadata": {},
   "outputs": [],
   "source": []
  },
  {
   "cell_type": "markdown",
   "metadata": {},
   "source": [
    "Northern Hemisphere - Cloudiness (%) vs. Latitude Linear Regression"
   ]
  },
  {
   "cell_type": "code",
   "execution_count": 22,
   "metadata": {},
   "outputs": [
    {
     "name": "stdout",
     "output_type": "stream",
     "text": [
      "The r-squared is: 0.16498252807045216\n"
     ]
    },
    {
     "data": {
      "image/png": "[encoded data removed]",
      "text/plain": [
       "<Figure size 432x288 with 1 Axes>"
      ]
     },
     "metadata": {
      "needs_background": "light"
     },
     "output_type": "display_data"
    },
    {
     "name": "stdout",
     "output_type": "stream",
     "text": [
      "None\n"
     ]
    }
   ],
   "source": [
    "plt.title(\"Northern Hemisphere - Cloudiness (%) vs. Latitude Linear Regression\")\n",
    "x_values = Northern_hemisphere[\"Lat\"]\n",
    "y_values = Northern_hemisphere[\"Cloudiness\"]\n",
    "plt.ylabel(\"Cloudiness\")\n",
    "# Save the figure\n",
    "plt.savefig(\"../Images/Northern Hemisphere - Cloudiness (%) vs. Latitude Linear Regression.png\")\n",
    "print(linear_reg_plot(x_values,y_values))"
   ]
  },
  {
   "cell_type": "code",
   "execution_count": null,
   "metadata": {},
   "outputs": [],
   "source": []
  },
  {
   "cell_type": "markdown",
   "metadata": {},
   "source": [
    "####  Southern Hemisphere - Cloudiness (%) vs. Latitude Linear Regression"
   ]
  },
  {
   "cell_type": "code",
   "execution_count": 23,
   "metadata": {},
   "outputs": [
    {
     "name": "stdout",
     "output_type": "stream",
     "text": [
      "The r-squared is: 0.042236095803193104\n"
     ]
    },
    {
     "data": {
      "image/png": "[encoded data removed]",
      "text/plain": [
       "<Figure size 432x288 with 1 Axes>"
      ]
     },
     "metadata": {
      "needs_background": "light"
     },
     "output_type": "display_data"
    },
    {
     "name": "stdout",
     "output_type": "stream",
     "text": [
      "None\n"
     ]
    }
   ],
   "source": [
    "plt.title(\"Southern Hemisphere - Cloudiness (%) vs. Latitude Linear Regression\")\n",
    "x_values = Southern_hemisphere[\"Lat\"]\n",
    "y_values = Southern_hemisphere[\"Cloudiness\"]\n",
    "plt.ylabel(\"Cloudiness\")\n",
    "# Save the figure\n",
    "plt.savefig(\"../Images/Southern Hemisphere - Cloudiness (%) vs. Latitude Linear Regression.png\")\n",
    "print(linear_reg_plot(x_values,y_values))"
   ]
  },
  {
   "cell_type": "markdown",
   "metadata": {},
   "source": [
    "The two previous graphs show a positive slope. We can indeed observe a weak positive correlation between latitude and Cloudiness for northern and Southern hemispheres."
   ]
  },
  {
   "cell_type": "code",
   "execution_count": null,
   "metadata": {
    "scrolled": true
   },
   "outputs": [],
   "source": []
  },
  {
   "cell_type": "markdown",
   "metadata": {},
   "source": [
    "####  Northern Hemisphere - Wind Speed (mph) vs. Latitude Linear Regression"
   ]
  },
  {
   "cell_type": "code",
   "execution_count": 24,
   "metadata": {},
   "outputs": [
    {
     "name": "stdout",
     "output_type": "stream",
     "text": [
      "The r-squared is: 0.007999466736711576\n"
     ]
    },
    {
     "data": {
      "image/png": "[encoded data removed]",
      "text/plain": [
       "<Figure size 432x288 with 1 Axes>"
      ]
     },
     "metadata": {
      "needs_background": "light"
     },
     "output_type": "display_data"
    },
    {
     "name": "stdout",
     "output_type": "stream",
     "text": [
      "None\n"
     ]
    }
   ],
   "source": [
    "plt.title(\"Northern Hemisphere - Wind Speed (mph) vs. Latitude Linear Regression\")\n",
    "x_values = Northern_hemisphere[\"Lat\"]\n",
    "y_values = Northern_hemisphere[\"Windspeed\"]\n",
    "plt.ylabel(\"Wind speed\")\n",
    "# Save the figure\n",
    "plt.savefig(\"../Images/Northern Hemisphere - Wind Speed vs. Latitude Linear Regression.png\")\n",
    "print(linear_reg_plot(x_values,y_values))"
   ]
  },
  {
   "cell_type": "code",
   "execution_count": null,
   "metadata": {},
   "outputs": [],
   "source": []
  },
  {
   "cell_type": "markdown",
   "metadata": {},
   "source": [
    "####  Southern Hemisphere - Wind Speed (mph) vs. Latitude Linear Regression"
   ]
  },
  {
   "cell_type": "code",
   "execution_count": 25,
   "metadata": {},
   "outputs": [
    {
     "name": "stdout",
     "output_type": "stream",
     "text": [
      "The r-squared is: -0.3231551510715154\n"
     ]
    },
    {
     "data": {
      "image/png": "[encoded data removed]",
      "text/plain": [
       "<Figure size 432x288 with 1 Axes>"
      ]
     },
     "metadata": {
      "needs_background": "light"
     },
     "output_type": "display_data"
    },
    {
     "name": "stdout",
     "output_type": "stream",
     "text": [
      "None\n"
     ]
    }
   ],
   "source": [
    "plt.title(\"Southern Hemisphere - Wind Speed (mph) vs. Latitude Linear Regression\")\n",
    "x_values = Southern_hemisphere[\"Lat\"]\n",
    "y_values = Southern_hemisphere[\"Windspeed\"]\n",
    "plt.ylabel(\"Wind speed\")\n",
    "# Save the figure\n",
    "plt.savefig(\"../Images/Southern Hemisphere - Wind Speed vs. Latitude Linear Regression.png\")\n",
    "print(linear_reg_plot(x_values,y_values))"
   ]
  },
  {
   "cell_type": "markdown",
   "metadata": {},
   "source": [
    "There are no clear relationship between Latitude and Wind Speed in the two previous graphs. "
   ]
  },
  {
   "cell_type": "code",
   "execution_count": null,
   "metadata": {},
   "outputs": [],
   "source": []
  }
 ],
 "metadata": {
  "anaconda-cloud": {},
  "kernel_info": {
   "name": "python3"
  },
  "kernelspec": {
   "display_name": "Python 3",
   "language": "python",
   "name": "python3"
  },
  "language_info": {
   "codemirror_mode": {
    "name": "ipython",
    "version": 3
   },
   "file_extension": ".py",
   "mimetype": "text/x-python",
   "name": "python",
   "nbconvert_exporter": "python",
   "pygments_lexer": "ipython3",
   "version": "3.6.10"
  },
  "latex_envs": {
   "LaTeX_envs_menu_present": true,
   "autoclose": false,
   "autocomplete": true,
   "bibliofile": "biblio.bib",
   "cite_by": "apalike",
   "current_citInitial": 1,
   "eqLabelWithNumbers": true,
   "eqNumInitial": 1,
   "hotkeys": {
    "equation": "Ctrl-E",
    "itemize": "Ctrl-I"
   },
   "labels_anchors": false,
   "latex_user_defs": false,
   "report_style_numbering": false,
   "user_envs_cfg": false
  },
  "nteract": {
   "version": "0.12.3"
  }
 },
 "nbformat": 4,
 "nbformat_minor": 2
}
