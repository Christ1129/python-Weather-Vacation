{
 "cells": [
  {
   "cell_type": "markdown",
   "metadata": {},
   "source": [
    "# WeatherPy\n",
    "----\n",
    "Observations and Insights\n",
    "\n",
    "After analyzing the graphs, several considerations can be made, including the following:\n",
    "- The Northern Hemisphere displays a negative slope with a negative correlation between Temperature and Latitude, however the Southern Hemisphere displays a positive slope with a positive correlation between Temperature and Latitude. In other words, as you move away from the equator in the Northern Hemisphere the temperature decreases. Conversely, as you move away from the equator in the Southern Hemisphere the temperature increases\n",
    "- The graphs show that there are no clear relationship beetween Humidity and Latitude in the northern and Southern Hemisphere. We can however observe a moderate positive correlation between latitude and humidity for northern hemisphere\n",
    "- There are no clear relationship between Latitude and Wind Speed in the graphs. We can observe a weak positive correlation between latitude and Wind Speed for northern hemisphere and weak negative correlation between latitude and Wind Speed for Southern hemisphere.\n"
   ]
  },
  {
   "cell_type": "code",
   "execution_count": 1,
   "metadata": {
    "scrolled": true
   },
   "outputs": [],
   "source": [
    "# Dependencies and Setup\n",
    "import matplotlib.pyplot as plt\n",
    "import pandas as pd\n",
    "import numpy as np\n",
    "import requests\n",
    "import time\n",
    "from scipy.stats import linregress\n",
    "\n",
    "# Import API key\n",
    "from api_keys import weather_api_key\n",
    "\n",
    "# Incorporated citipy to determine city based on latitude and longitude\n",
    "from citipy import citipy\n",
    "\n",
    "# Output File (CSV)\n",
    "output_data_file = \"output_data/cities.csv\"\n",
    "\n",
    "# Range of latitudes and longitudes\n",
    "lat_range = (-90, 90)\n",
    "lng_range = (-180, 180)"
   ]
  },
  {
   "cell_type": "markdown",
   "metadata": {},
   "source": [
    "## Generate Cities List"
   ]
  },
  {
   "cell_type": "code",
   "execution_count": 2,
   "metadata": {},
   "outputs": [
    {
     "data": {
      "text/plain": [
       "604"
      ]
     },
     "execution_count": 2,
     "metadata": {},
     "output_type": "execute_result"
    }
   ],
   "source": [
    "# List for holding lat_lngs and cities\n",
    "lat_lngs = []\n",
    "cities = []\n",
    "\n",
    "# Create a set of random lat and lng combinations\n",
    "lats = np.random.uniform(lat_range[0], lat_range[1], size=1500)\n",
    "lngs = np.random.uniform(lng_range[0], lng_range[1], size=1500)\n",
    "lat_lngs = zip(lats, lngs)\n",
    "\n",
    "# Identify nearest city for each lat, lng combination\n",
    "for lat_lng in lat_lngs:\n",
    "    city = citipy.nearest_city(lat_lng[0], lat_lng[1]).city_name\n",
    "    \n",
    "    # If the city is unique, then add it to a our cities list\n",
    "    if city not in cities:\n",
    "        cities.append(city)\n",
    "\n",
    "# Print the city count to confirm sufficient count\n",
    "len(cities)"
   ]
  },
  {
   "cell_type": "markdown",
   "metadata": {},
   "source": [
    "### Perform API Calls\n",
    "* Perform a weather check on each city using a series of successive API calls.\n",
    "* Include a print log of each city as it'sbeing processed (with the city number and city name).\n"
   ]
  },
  {
   "cell_type": "code",
   "execution_count": 3,
   "metadata": {},
   "outputs": [
    {
     "data": {
      "text/html": [
       "<div>\n",
       "<style scoped>\n",
       "    .dataframe tbody tr th:only-of-type {\n",
       "        vertical-align: middle;\n",
       "    }\n",
       "\n",
       "    .dataframe tbody tr th {\n",
       "        vertical-align: top;\n",
       "    }\n",
       "\n",
       "    .dataframe thead th {\n",
       "        text-align: right;\n",
       "    }\n",
       "</style>\n",
       "<table border=\"1\" class=\"dataframe\">\n",
       "  <thead>\n",
       "    <tr style=\"text-align: right;\">\n",
       "      <th></th>\n",
       "      <th>City</th>\n",
       "      <th>Cloudiness</th>\n",
       "      <th>Country</th>\n",
       "      <th>Date</th>\n",
       "      <th>Humidity</th>\n",
       "      <th>Lat</th>\n",
       "      <th>Lng</th>\n",
       "      <th>Max Temp</th>\n",
       "      <th>Windspeed</th>\n",
       "    </tr>\n",
       "  </thead>\n",
       "  <tbody>\n",
       "    <tr>\n",
       "      <th>0</th>\n",
       "      <td>ust-kamchatsk</td>\n",
       "      <td></td>\n",
       "      <td></td>\n",
       "      <td></td>\n",
       "      <td></td>\n",
       "      <td></td>\n",
       "      <td></td>\n",
       "      <td></td>\n",
       "      <td></td>\n",
       "    </tr>\n",
       "    <tr>\n",
       "      <th>1</th>\n",
       "      <td>sorong</td>\n",
       "      <td></td>\n",
       "      <td></td>\n",
       "      <td></td>\n",
       "      <td></td>\n",
       "      <td></td>\n",
       "      <td></td>\n",
       "      <td></td>\n",
       "      <td></td>\n",
       "    </tr>\n",
       "    <tr>\n",
       "      <th>2</th>\n",
       "      <td>ribeira grande</td>\n",
       "      <td></td>\n",
       "      <td></td>\n",
       "      <td></td>\n",
       "      <td></td>\n",
       "      <td></td>\n",
       "      <td></td>\n",
       "      <td></td>\n",
       "      <td></td>\n",
       "    </tr>\n",
       "    <tr>\n",
       "      <th>3</th>\n",
       "      <td>ushuaia</td>\n",
       "      <td></td>\n",
       "      <td></td>\n",
       "      <td></td>\n",
       "      <td></td>\n",
       "      <td></td>\n",
       "      <td></td>\n",
       "      <td></td>\n",
       "      <td></td>\n",
       "    </tr>\n",
       "    <tr>\n",
       "      <th>4</th>\n",
       "      <td>samusu</td>\n",
       "      <td></td>\n",
       "      <td></td>\n",
       "      <td></td>\n",
       "      <td></td>\n",
       "      <td></td>\n",
       "      <td></td>\n",
       "      <td></td>\n",
       "      <td></td>\n",
       "    </tr>\n",
       "  </tbody>\n",
       "</table>\n",
       "</div>"
      ],
      "text/plain": [
       "             City Cloudiness Country Date Humidity Lat Lng Max Temp Windspeed\n",
       "0   ust-kamchatsk                                                            \n",
       "1          sorong                                                            \n",
       "2  ribeira grande                                                            \n",
       "3         ushuaia                                                            \n",
       "4          samusu                                                            "
      ]
     },
     "execution_count": 3,
     "metadata": {},
     "output_type": "execute_result"
    }
   ],
   "source": [
    "#Create a dataframe to store the data\n",
    "city_weather = pd.DataFrame({'City': cities, 'Cloudiness': \"\", 'Country': \"\", 'Date': \"\",\n",
    "                            'Humidity': \"\", 'Lat': \"\", 'Lng': \"\", 'Max Temp': \"\", 'Windspeed': \"\"})\n",
    "\n",
    "#Preview the dataframe\n",
    "city_weather.head()\n"
   ]
  },
  {
   "cell_type": "code",
   "execution_count": 4,
   "metadata": {},
   "outputs": [
    {
     "name": "stdout",
     "output_type": "stream",
     "text": [
      "\n",
      "-----------------------------\n",
      "Beginning Data Retrieval\n",
      "-----------------------------\n"
     ]
    }
   ],
   "source": [
    "#Variables to keep track of response number\n",
    "record_num = 1\n",
    "record_set = 1\n",
    "\n",
    "#Base url to make the api call\n",
    "base_url = 'http://api.openweathermap.org/data/2.5/weather?units=imperial&q='\n",
    "#Run the API call for each city\n",
    "print('''\n",
    "-----------------------------\n",
    "Beginning Data Retrieval\n",
    "-----------------------------''')\n"
   ]
  },
  {
   "cell_type": "code",
   "execution_count": 5,
   "metadata": {
    "scrolled": false
   },
   "outputs": [
    {
     "name": "stdout",
     "output_type": "stream",
     "text": [
      "City not found....Skipping............\n",
      "Processing Weather Data for Record 1 of Set 1 | Sorong\n",
      "Processing Weather Data for Record 2 of Set 1 | Ribeira Grande\n",
      "Processing Weather Data for Record 3 of Set 1 | Ushuaia\n",
      "City not found....Skipping............\n",
      "Processing Weather Data for Record 4 of Set 1 | Tuktoyaktuk\n",
      "Processing Weather Data for Record 5 of Set 1 | Yellowknife\n",
      "Processing Weather Data for Record 6 of Set 1 | Atuona\n",
      "Processing Weather Data for Record 7 of Set 1 | Longyearbyen\n",
      "Processing Weather Data for Record 8 of Set 1 | Lashio\n",
      "Processing Weather Data for Record 9 of Set 1 | Mount Isa\n",
      "Processing Weather Data for Record 10 of Set 1 | Qasigiannguit\n",
      "Processing Weather Data for Record 11 of Set 1 | Hermanus\n",
      "Processing Weather Data for Record 12 of Set 1 | Albany\n",
      "City not found....Skipping............\n",
      "Processing Weather Data for Record 13 of Set 1 | Nālūt\n",
      "Processing Weather Data for Record 14 of Set 1 | Vaini\n",
      "Processing Weather Data for Record 15 of Set 1 | Boa Vista\n",
      "Processing Weather Data for Record 16 of Set 1 | Port Blair\n",
      "Processing Weather Data for Record 17 of Set 1 | Qaanaaq\n",
      "Processing Weather Data for Record 18 of Set 1 | Laguna\n",
      "Processing Weather Data for Record 19 of Set 1 | Chui\n",
      "Processing Weather Data for Record 20 of Set 1 | Hobart\n",
      "Processing Weather Data for Record 21 of Set 1 | Pyaozerskiy\n",
      "Processing Weather Data for Record 22 of Set 1 | Hithadhoo\n",
      "Processing Weather Data for Record 23 of Set 1 | Saint-Pierre\n",
      "Processing Weather Data for Record 24 of Set 1 | Qom\n",
      "Processing Weather Data for Record 25 of Set 1 | Rikitea\n",
      "City not found....Skipping............\n",
      "Processing Weather Data for Record 26 of Set 1 | Saint-Philippe\n",
      "Processing Weather Data for Record 27 of Set 1 | Manokwari\n",
      "Processing Weather Data for Record 28 of Set 1 | Pakse\n",
      "Processing Weather Data for Record 29 of Set 1 | Pevek\n",
      "Processing Weather Data for Record 30 of Set 1 | Plettenberg Bay\n",
      "Processing Weather Data for Record 31 of Set 1 | Hasaki\n",
      "Processing Weather Data for Record 32 of Set 1 | Katsuyama\n",
      "Processing Weather Data for Record 33 of Set 1 | Xiuyan\n",
      "City not found....Skipping............\n",
      "City not found....Skipping............\n",
      "Processing Weather Data for Record 34 of Set 1 | Mahébourg\n",
      "Processing Weather Data for Record 35 of Set 1 | Ilulissat\n",
      "Processing Weather Data for Record 36 of Set 1 | Puerto Ayora\n",
      "Processing Weather Data for Record 37 of Set 1 | Seoul\n",
      "Processing Weather Data for Record 38 of Set 1 | Jamestown\n",
      "Processing Weather Data for Record 39 of Set 1 | Hambantota\n",
      "Processing Weather Data for Record 40 of Set 1 | Leningradskiy\n",
      "City not found....Skipping............\n",
      "Processing Weather Data for Record 41 of Set 1 | Koslan\n",
      "Processing Weather Data for Record 42 of Set 1 | Antalaha\n",
      "Processing Weather Data for Record 43 of Set 1 | Barrow\n",
      "City not found....Skipping............\n",
      "City not found....Skipping............\n",
      "Processing Weather Data for Record 44 of Set 1 | Lagoa\n",
      "Processing Weather Data for Record 45 of Set 1 | Buala\n",
      "Processing Weather Data for Record 46 of Set 1 | Limbe\n",
      "Processing Weather Data for Record 47 of Set 1 | Avarua\n",
      "Processing Weather Data for Record 48 of Set 1 | Bredasdorp\n",
      "Processing Weather Data for Record 49 of Set 1 | Carnarvon\n",
      "City not found....Skipping............\n",
      "Processing Weather Data for Record 50 of Set 1 | Iqaluit\n",
      "Processing Weather Data for Record 1 of Set 2 | Tasiilaq\n",
      "Processing Weather Data for Record 2 of Set 2 | Mossamedes\n",
      "Processing Weather Data for Record 3 of Set 2 | Clyde River\n",
      "Processing Weather Data for Record 4 of Set 2 | Kapaa\n",
      "City not found....Skipping............\n",
      "City not found....Skipping............\n",
      "Processing Weather Data for Record 5 of Set 2 | Acapulco de Juárez\n",
      "City not found....Skipping............\n",
      "City not found....Skipping............\n",
      "Processing Weather Data for Record 6 of Set 2 | Imbituva\n",
      "Processing Weather Data for Record 7 of Set 2 | Bluff\n",
      "Processing Weather Data for Record 8 of Set 2 | Puerto Escondido\n",
      "Processing Weather Data for Record 9 of Set 2 | Awjilah\n",
      "Processing Weather Data for Record 10 of Set 2 | Chilliwack\n",
      "Processing Weather Data for Record 11 of Set 2 | Butaritari\n",
      "Processing Weather Data for Record 12 of Set 2 | Lata\n",
      "Processing Weather Data for Record 13 of Set 2 | Dongsheng\n",
      "City not found....Skipping............\n",
      "Processing Weather Data for Record 14 of Set 2 | Puerto del Rosario\n",
      "Processing Weather Data for Record 15 of Set 2 | Dikson\n",
      "Processing Weather Data for Record 16 of Set 2 | La Ronge\n",
      "Processing Weather Data for Record 17 of Set 2 | Dābhol\n",
      "Processing Weather Data for Record 18 of Set 2 | Tiksi\n",
      "Processing Weather Data for Record 19 of Set 2 | Ihosy\n",
      "Processing Weather Data for Record 20 of Set 2 | Punta Arenas\n",
      "Processing Weather Data for Record 21 of Set 2 | Araouane\n",
      "City not found....Skipping............\n",
      "Processing Weather Data for Record 22 of Set 2 | Dwārka\n",
      "City not found....Skipping............\n",
      "Processing Weather Data for Record 23 of Set 2 | Khatanga\n",
      "Processing Weather Data for Record 24 of Set 2 | Søgne\n",
      "Processing Weather Data for Record 25 of Set 2 | Wexford\n",
      "Processing Weather Data for Record 26 of Set 2 | Ayan\n",
      "Processing Weather Data for Record 27 of Set 2 | Yerofey Pavlovich\n",
      "Processing Weather Data for Record 28 of Set 2 | Egvekinot\n",
      "Processing Weather Data for Record 29 of Set 2 | Bathsheba\n",
      "Processing Weather Data for Record 30 of Set 2 | Orapa\n",
      "Processing Weather Data for Record 31 of Set 2 | Salinópolis\n",
      "Processing Weather Data for Record 32 of Set 2 | Bengkulu\n",
      "Processing Weather Data for Record 33 of Set 2 | Antofagasta\n",
      "Processing Weather Data for Record 34 of Set 2 | Hilo\n",
      "Processing Weather Data for Record 35 of Set 2 | Le Port\n",
      "Processing Weather Data for Record 36 of Set 2 | Isangel\n",
      "Processing Weather Data for Record 37 of Set 2 | Cockburn Town\n",
      "Processing Weather Data for Record 38 of Set 2 | Yar-Sale\n",
      "Processing Weather Data for Record 39 of Set 2 | Natal\n",
      "Processing Weather Data for Record 40 of Set 2 | Norman Wells\n",
      "Processing Weather Data for Record 41 of Set 2 | Pisco\n",
      "City not found....Skipping............\n",
      "Processing Weather Data for Record 42 of Set 2 | Cidreira\n",
      "Processing Weather Data for Record 43 of Set 2 | Oktyabr'skiy\n",
      "Processing Weather Data for Record 44 of Set 2 | São João da Barra\n",
      "City not found....Skipping............\n",
      "Processing Weather Data for Record 45 of Set 2 | Yangjiang\n",
      "Processing Weather Data for Record 46 of Set 2 | Esperance\n",
      "Processing Weather Data for Record 47 of Set 2 | Cap Malheureux\n",
      "Processing Weather Data for Record 48 of Set 2 | Tezu\n",
      "City not found....Skipping............\n",
      "Processing Weather Data for Record 49 of Set 2 | Doha\n",
      "Processing Weather Data for Record 50 of Set 2 | Busselton\n",
      "Processing Weather Data for Record 1 of Set 3 | Mar del Plata\n",
      "Processing Weather Data for Record 2 of Set 3 | Provideniya\n",
      "Processing Weather Data for Record 3 of Set 3 | Los Llanos de Aridane\n",
      "Processing Weather Data for Record 4 of Set 3 | Ostrovnoy\n",
      "Processing Weather Data for Record 5 of Set 3 | Oranjestad\n",
      "Processing Weather Data for Record 6 of Set 3 | Mokhsogollokh\n",
      "Processing Weather Data for Record 7 of Set 3 | Aracati\n",
      "Processing Weather Data for Record 8 of Set 3 | Teknāf\n",
      "Processing Weather Data for Record 9 of Set 3 | Point Pedro\n",
      "Processing Weather Data for Record 10 of Set 3 | Severo-Kuril'sk\n",
      "Processing Weather Data for Record 11 of Set 3 | Grindavik\n",
      "Processing Weather Data for Record 12 of Set 3 | Vila Franca do Campo\n",
      "Processing Weather Data for Record 13 of Set 3 | Cape Town\n",
      "City not found....Skipping............\n",
      "City not found....Skipping............\n",
      "City not found....Skipping............\n",
      "Processing Weather Data for Record 14 of Set 3 | Puksoozero\n",
      "Processing Weather Data for Record 15 of Set 3 | New Norfolk\n",
      "City not found....Skipping............\n",
      "Processing Weather Data for Record 16 of Set 3 | Vardø\n",
      "Processing Weather Data for Record 17 of Set 3 | Anadyr\n",
      "Processing Weather Data for Record 18 of Set 3 | Kavieng\n",
      "Processing Weather Data for Record 19 of Set 3 | Leshukonskoye\n",
      "Processing Weather Data for Record 20 of Set 3 | East London\n",
      "Processing Weather Data for Record 21 of Set 3 | Kenai\n",
      "Processing Weather Data for Record 22 of Set 3 | Chestermere\n",
      "Processing Weather Data for Record 23 of Set 3 | Codrington\n",
      "Processing Weather Data for Record 24 of Set 3 | Kasongo-Lunda\n"
     ]
    },
    {
     "name": "stdout",
     "output_type": "stream",
     "text": [
      "Processing Weather Data for Record 25 of Set 3 | Salalah\n",
      "City not found....Skipping............\n",
      "Processing Weather Data for Record 26 of Set 3 | Winona\n",
      "City not found....Skipping............\n",
      "Processing Weather Data for Record 27 of Set 3 | Poum\n",
      "Processing Weather Data for Record 28 of Set 3 | Cuamba\n",
      "Processing Weather Data for Record 29 of Set 3 | Manggar\n",
      "Processing Weather Data for Record 30 of Set 3 | Hīt\n",
      "Processing Weather Data for Record 31 of Set 3 | Agadir\n",
      "Processing Weather Data for Record 32 of Set 3 | Tessalit\n",
      "Processing Weather Data for Record 33 of Set 3 | Klaksvík\n",
      "Processing Weather Data for Record 34 of Set 3 | Saskylakh\n",
      "Processing Weather Data for Record 35 of Set 3 | Jackson\n",
      "Processing Weather Data for Record 36 of Set 3 | Winslow\n",
      "Processing Weather Data for Record 37 of Set 3 | Touros\n",
      "Processing Weather Data for Record 38 of Set 3 | Saldanha\n",
      "Processing Weather Data for Record 39 of Set 3 | Nishihara\n",
      "Processing Weather Data for Record 40 of Set 3 | Sisophon\n",
      "City not found....Skipping............\n",
      "Processing Weather Data for Record 41 of Set 3 | Tapiramutá\n",
      "Processing Weather Data for Record 42 of Set 3 | Changli\n",
      "Processing Weather Data for Record 43 of Set 3 | Castro\n",
      "Processing Weather Data for Record 44 of Set 3 | Chokurdakh\n",
      "Processing Weather Data for Record 45 of Set 3 | Thinadhoo\n",
      "Processing Weather Data for Record 46 of Set 3 | Xining\n",
      "Processing Weather Data for Record 47 of Set 3 | Port Elizabeth\n",
      "Processing Weather Data for Record 48 of Set 3 | Gimli\n",
      "Processing Weather Data for Record 49 of Set 3 | Mukhen\n",
      "Processing Weather Data for Record 50 of Set 3 | Cayenne\n",
      "Processing Weather Data for Record 1 of Set 4 | Portree\n",
      "Processing Weather Data for Record 2 of Set 4 | Siguiri\n",
      "City not found....Skipping............\n",
      "Processing Weather Data for Record 3 of Set 4 | Camacha\n",
      "Processing Weather Data for Record 4 of Set 4 | Bethel\n",
      "Processing Weather Data for Record 5 of Set 4 | Staunton\n",
      "Processing Weather Data for Record 6 of Set 4 | Broken Hill\n",
      "Processing Weather Data for Record 7 of Set 4 | Belaya Gora\n",
      "Processing Weather Data for Record 8 of Set 4 | Labuhan\n",
      "Processing Weather Data for Record 9 of Set 4 | Ugoofaaru\n",
      "Processing Weather Data for Record 10 of Set 4 | Serebryansk\n",
      "Processing Weather Data for Record 11 of Set 4 | Wates\n",
      "Processing Weather Data for Record 12 of Set 4 | Cherskiy\n",
      "Processing Weather Data for Record 13 of Set 4 | Saint Anthony\n",
      "Processing Weather Data for Record 14 of Set 4 | Sulangan\n",
      "City not found....Skipping............\n",
      "Processing Weather Data for Record 15 of Set 4 | Kungurtug\n",
      "Processing Weather Data for Record 16 of Set 4 | Gamba\n",
      "Processing Weather Data for Record 17 of Set 4 | São Filipe\n",
      "City not found....Skipping............\n",
      "Processing Weather Data for Record 18 of Set 4 | Kutum\n",
      "Processing Weather Data for Record 19 of Set 4 | Thompson\n",
      "Processing Weather Data for Record 20 of Set 4 | Shiraz\n",
      "Processing Weather Data for Record 21 of Set 4 | Wanning\n",
      "Processing Weather Data for Record 22 of Set 4 | Letka\n",
      "Processing Weather Data for Record 23 of Set 4 | Laas\n",
      "Processing Weather Data for Record 24 of Set 4 | North Bend\n",
      "Processing Weather Data for Record 25 of Set 4 | Makkah al Mukarramah\n",
      "Processing Weather Data for Record 26 of Set 4 | Kushima\n",
      "Processing Weather Data for Record 27 of Set 4 | Aripuanã\n",
      "Processing Weather Data for Record 28 of Set 4 | Comodoro Rivadavia\n",
      "Processing Weather Data for Record 29 of Set 4 | Port Hardy\n",
      "Processing Weather Data for Record 30 of Set 4 | Torbay\n",
      "Processing Weather Data for Record 31 of Set 4 | Arraial do Cabo\n",
      "Processing Weather Data for Record 32 of Set 4 | Port Lincoln\n",
      "Processing Weather Data for Record 33 of Set 4 | George Town\n",
      "Processing Weather Data for Record 34 of Set 4 | Deputatsky\n",
      "Processing Weather Data for Record 35 of Set 4 | Koygorodok\n",
      "Processing Weather Data for Record 36 of Set 4 | Verkhnyaya Inta\n",
      "Processing Weather Data for Record 37 of Set 4 | Broome\n",
      "Processing Weather Data for Record 38 of Set 4 | Samarai\n",
      "Processing Weather Data for Record 39 of Set 4 | Terrace\n",
      "City not found....Skipping............\n",
      "Processing Weather Data for Record 40 of Set 4 | Aranos\n",
      "Processing Weather Data for Record 41 of Set 4 | Ormara\n",
      "Processing Weather Data for Record 42 of Set 4 | Pedernales\n",
      "Processing Weather Data for Record 43 of Set 4 | Long Xuyen\n",
      "Processing Weather Data for Record 44 of Set 4 | Dvinskoy Bereznik\n",
      "Processing Weather Data for Record 45 of Set 4 | Naze\n",
      "Processing Weather Data for Record 46 of Set 4 | Yumen\n",
      "Processing Weather Data for Record 47 of Set 4 | Belém de São Francisco\n",
      "Processing Weather Data for Record 48 of Set 4 | Vao\n",
      "Processing Weather Data for Record 49 of Set 4 | Hofn\n",
      "Processing Weather Data for Record 50 of Set 4 | Boddam\n",
      "Processing Weather Data for Record 1 of Set 5 | Waipawa\n",
      "Processing Weather Data for Record 2 of Set 5 | Tokur\n",
      "Processing Weather Data for Record 3 of Set 5 | Glace Bay\n",
      "City not found....Skipping............\n",
      "Processing Weather Data for Record 4 of Set 5 | Banepā\n",
      "Processing Weather Data for Record 5 of Set 5 | Kaeo\n",
      "Processing Weather Data for Record 6 of Set 5 | Hobyo\n",
      "Processing Weather Data for Record 7 of Set 5 | Richards Bay\n",
      "Processing Weather Data for Record 8 of Set 5 | Benjamín Aceval\n",
      "Processing Weather Data for Record 9 of Set 5 | Kalmunai\n",
      "Processing Weather Data for Record 10 of Set 5 | Acaraú\n",
      "Processing Weather Data for Record 11 of Set 5 | Dillon\n",
      "Processing Weather Data for Record 12 of Set 5 | Vigía del Fuerte\n",
      "Processing Weather Data for Record 13 of Set 5 | Ozark\n",
      "Processing Weather Data for Record 14 of Set 5 | Storslett\n",
      "Processing Weather Data for Record 15 of Set 5 | Labytnangi\n",
      "Processing Weather Data for Record 16 of Set 5 | Santarém\n",
      "Processing Weather Data for Record 17 of Set 5 | Cowansville\n",
      "Processing Weather Data for Record 18 of Set 5 | Chumikan\n",
      "Processing Weather Data for Record 19 of Set 5 | Shwebo\n",
      "Processing Weather Data for Record 20 of Set 5 | El Salvador\n",
      "Processing Weather Data for Record 21 of Set 5 | Sørland\n",
      "Processing Weather Data for Record 22 of Set 5 | Kruisfontein\n",
      "Processing Weather Data for Record 23 of Set 5 | Lensk\n",
      "Processing Weather Data for Record 24 of Set 5 | Port Alfred\n",
      "City not found....Skipping............\n",
      "Processing Weather Data for Record 25 of Set 5 | Gorzów Wielkopolski\n",
      "Processing Weather Data for Record 26 of Set 5 | São Sebastião\n",
      "Processing Weather Data for Record 27 of Set 5 | Kiama\n",
      "Processing Weather Data for Record 28 of Set 5 | Bilma\n",
      "Processing Weather Data for Record 29 of Set 5 | Bagotville\n",
      "Processing Weather Data for Record 30 of Set 5 | Whitehorse\n",
      "Processing Weather Data for Record 31 of Set 5 | Kudahuvadhoo\n",
      "City not found....Skipping............\n",
      "Processing Weather Data for Record 32 of Set 5 | Wellington\n",
      "Processing Weather Data for Record 33 of Set 5 | General Roca\n",
      "Processing Weather Data for Record 34 of Set 5 | Katsuura\n",
      "Processing Weather Data for Record 35 of Set 5 | Quang Ngai\n",
      "City not found....Skipping............\n",
      "Processing Weather Data for Record 36 of Set 5 | Sergeevka\n",
      "City not found....Skipping............\n",
      "Processing Weather Data for Record 37 of Set 5 | Guilin\n",
      "Processing Weather Data for Record 38 of Set 5 | Fortuna\n",
      "Processing Weather Data for Record 39 of Set 5 | Norway\n",
      "Processing Weather Data for Record 40 of Set 5 | Lubango\n",
      "Processing Weather Data for Record 41 of Set 5 | Ahipara\n",
      "Processing Weather Data for Record 42 of Set 5 | Korla\n",
      "Processing Weather Data for Record 43 of Set 5 | Havre-St-Pierre\n",
      "Processing Weather Data for Record 44 of Set 5 | Batagay\n",
      "Processing Weather Data for Record 45 of Set 5 | Mayumba\n",
      "Processing Weather Data for Record 46 of Set 5 | Pambuhan\n",
      "Processing Weather Data for Record 47 of Set 5 | Thongwa\n",
      "Processing Weather Data for Record 48 of Set 5 | Koumac\n",
      "Processing Weather Data for Record 49 of Set 5 | Aklavik\n",
      "City not found....Skipping............\n",
      "Processing Weather Data for Record 50 of Set 5 | Port Macquarie\n",
      "Processing Weather Data for Record 1 of Set 6 | Rochester\n",
      "Processing Weather Data for Record 2 of Set 6 | Nelson Bay\n",
      "Processing Weather Data for Record 3 of Set 6 | Sur\n",
      "Processing Weather Data for Record 4 of Set 6 | Mount Gambier\n",
      "Processing Weather Data for Record 5 of Set 6 | Ola\n",
      "Processing Weather Data for Record 6 of Set 6 | Gold Coast\n",
      "Processing Weather Data for Record 7 of Set 6 | Sturgeon Bay\n"
     ]
    },
    {
     "name": "stdout",
     "output_type": "stream",
     "text": [
      "Processing Weather Data for Record 8 of Set 6 | Puerto Madero\n",
      "Processing Weather Data for Record 9 of Set 6 | Viedma\n",
      "Processing Weather Data for Record 10 of Set 6 | Zamānia\n",
      "Processing Weather Data for Record 11 of Set 6 | Bavly\n",
      "Processing Weather Data for Record 12 of Set 6 | Bambous Virieux\n",
      "Processing Weather Data for Record 13 of Set 6 | Pringsewu\n",
      "City not found....Skipping............\n",
      "Processing Weather Data for Record 14 of Set 6 | Bonnyville\n",
      "Processing Weather Data for Record 15 of Set 6 | Ballina\n",
      "Processing Weather Data for Record 16 of Set 6 | Esim\n",
      "Processing Weather Data for Record 17 of Set 6 | Kahului\n",
      "City not found....Skipping............\n",
      "City not found....Skipping............\n",
      "Processing Weather Data for Record 18 of Set 6 | Tura\n",
      "Processing Weather Data for Record 19 of Set 6 | Cabo San Lucas\n",
      "City not found....Skipping............\n",
      "Processing Weather Data for Record 20 of Set 6 | Novobohdanivka\n",
      "Processing Weather Data for Record 21 of Set 6 | Narsaq\n",
      "Processing Weather Data for Record 22 of Set 6 | Ayr\n",
      "Processing Weather Data for Record 23 of Set 6 | Villa Zempoala\n",
      "Processing Weather Data for Record 24 of Set 6 | Fairbanks\n",
      "Processing Weather Data for Record 25 of Set 6 | Mayo\n",
      "City not found....Skipping............\n",
      "City not found....Skipping............\n",
      "City not found....Skipping............\n",
      "Processing Weather Data for Record 26 of Set 6 | Taoudenni\n",
      "City not found....Skipping............\n",
      "Processing Weather Data for Record 27 of Set 6 | Shimoda\n",
      "Processing Weather Data for Record 28 of Set 6 | Shirokiy\n",
      "Processing Weather Data for Record 29 of Set 6 | Dauriya\n",
      "Processing Weather Data for Record 30 of Set 6 | Krasnosel'kup\n",
      "Processing Weather Data for Record 31 of Set 6 | Faanui\n",
      "Processing Weather Data for Record 32 of Set 6 | Beloha\n",
      "Processing Weather Data for Record 33 of Set 6 | Las Margaritas\n",
      "City not found....Skipping............\n",
      "Processing Weather Data for Record 34 of Set 6 | Tilichiki\n",
      "Processing Weather Data for Record 35 of Set 6 | Pacasmayo\n",
      "Processing Weather Data for Record 36 of Set 6 | Manyana\n",
      "Processing Weather Data for Record 37 of Set 6 | Jaguaribe\n",
      "Processing Weather Data for Record 38 of Set 6 | Livingston\n",
      "Processing Weather Data for Record 39 of Set 6 | Beringovskiy\n",
      "Processing Weather Data for Record 40 of Set 6 | Terney\n",
      "Processing Weather Data for Record 41 of Set 6 | Dunedin\n",
      "Processing Weather Data for Record 42 of Set 6 | Semikarakorsk\n",
      "Processing Weather Data for Record 43 of Set 6 | Magán\n",
      "Processing Weather Data for Record 44 of Set 6 | Saint Paul Harbor\n",
      "Processing Weather Data for Record 45 of Set 6 | Sinegor'ye\n",
      "City not found....Skipping............\n",
      "Processing Weather Data for Record 46 of Set 6 | Upernavik\n",
      "Processing Weather Data for Record 47 of Set 6 | Praia da Vitória\n",
      "Processing Weather Data for Record 48 of Set 6 | Ailigandí\n",
      "Processing Weather Data for Record 49 of Set 6 | Ust-Kuyga\n",
      "Processing Weather Data for Record 50 of Set 6 | Adrar\n",
      "Processing Weather Data for Record 1 of Set 7 | Parakou\n",
      "Processing Weather Data for Record 2 of Set 7 | Leer\n",
      "Processing Weather Data for Record 3 of Set 7 | Quelimane\n",
      "Processing Weather Data for Record 4 of Set 7 | Lao Cai\n",
      "Processing Weather Data for Record 5 of Set 7 | Talnakh\n",
      "Processing Weather Data for Record 6 of Set 7 | Estelle\n",
      "Processing Weather Data for Record 7 of Set 7 | Caniço\n",
      "Processing Weather Data for Record 8 of Set 7 | Guerrero Negro\n",
      "Processing Weather Data for Record 9 of Set 7 | Kirakira\n",
      "Processing Weather Data for Record 10 of Set 7 | Lapua\n",
      "Processing Weather Data for Record 11 of Set 7 | Dulce Grande\n",
      "Processing Weather Data for Record 12 of Set 7 | Teluknaga\n",
      "Processing Weather Data for Record 13 of Set 7 | Taksimo\n",
      "City not found....Skipping............\n",
      "Processing Weather Data for Record 14 of Set 7 | Portland\n",
      "Processing Weather Data for Record 15 of Set 7 | Bagar\n",
      "Processing Weather Data for Record 16 of Set 7 | Nome\n",
      "City not found....Skipping............\n",
      "Processing Weather Data for Record 17 of Set 7 | Souillac\n",
      "Processing Weather Data for Record 18 of Set 7 | Mumford\n",
      "Processing Weather Data for Record 19 of Set 7 | Vila Velha\n",
      "Processing Weather Data for Record 20 of Set 7 | Navolato\n",
      "Processing Weather Data for Record 21 of Set 7 | Forbes\n",
      "Processing Weather Data for Record 22 of Set 7 | Umba\n",
      "Processing Weather Data for Record 23 of Set 7 | Tianpeng\n",
      "Processing Weather Data for Record 24 of Set 7 | Ponta do Sol\n",
      "City not found....Skipping............\n",
      "Processing Weather Data for Record 25 of Set 7 | Sechura\n",
      "Processing Weather Data for Record 26 of Set 7 | Roswell\n",
      "Processing Weather Data for Record 27 of Set 7 | Sola\n",
      "Processing Weather Data for Record 28 of Set 7 | São Mateus do Sul\n",
      "City not found....Skipping............\n",
      "Processing Weather Data for Record 29 of Set 7 | Donskoye\n",
      "City not found....Skipping............\n",
      "City not found....Skipping............\n",
      "Processing Weather Data for Record 30 of Set 7 | Laela\n",
      "Processing Weather Data for Record 31 of Set 7 | Władysławowo\n",
      "Processing Weather Data for Record 32 of Set 7 | Coyhaique\n",
      "Processing Weather Data for Record 33 of Set 7 | Morris\n",
      "Processing Weather Data for Record 34 of Set 7 | Aitape\n",
      "Processing Weather Data for Record 35 of Set 7 | Nhulunbuy\n",
      "Processing Weather Data for Record 36 of Set 7 | Hong Kong\n",
      "Processing Weather Data for Record 37 of Set 7 | Kampot\n",
      "Processing Weather Data for Record 38 of Set 7 | Borūjerd\n",
      "Processing Weather Data for Record 39 of Set 7 | Kon Tum\n",
      "Processing Weather Data for Record 40 of Set 7 | Lebu\n",
      "Processing Weather Data for Record 41 of Set 7 | Maniitsoq\n",
      "Processing Weather Data for Record 42 of Set 7 | West Odessa\n",
      "Processing Weather Data for Record 43 of Set 7 | São Domingos\n",
      "Processing Weather Data for Record 44 of Set 7 | Palu\n",
      "Processing Weather Data for Record 45 of Set 7 | Sitka\n",
      "Processing Weather Data for Record 46 of Set 7 | Kerrville\n",
      "Processing Weather Data for Record 47 of Set 7 | Kapoeta\n",
      "City not found....Skipping............\n",
      "Processing Weather Data for Record 48 of Set 7 | Flinders\n",
      "Processing Weather Data for Record 49 of Set 7 | Amarpur\n",
      "Processing Weather Data for Record 50 of Set 7 | Barcelos\n",
      "Processing Weather Data for Record 1 of Set 8 | Ponta Delgada\n",
      "Processing Weather Data for Record 2 of Set 8 | Sanford\n",
      "Processing Weather Data for Record 3 of Set 8 | Berlevåg\n",
      "Processing Weather Data for Record 4 of Set 8 | Rocha\n",
      "Processing Weather Data for Record 5 of Set 8 | Lorengau\n",
      "Processing Weather Data for Record 6 of Set 8 | Marsh Harbour\n",
      "Processing Weather Data for Record 7 of Set 8 | Tazovsky\n",
      "Processing Weather Data for Record 8 of Set 8 | Constitución\n",
      "Processing Weather Data for Record 9 of Set 8 | Amursk\n",
      "Processing Weather Data for Record 10 of Set 8 | Georgiyevka\n",
      "Processing Weather Data for Record 11 of Set 8 | Ketchikan\n",
      "Processing Weather Data for Record 12 of Set 8 | Alugan\n",
      "Processing Weather Data for Record 13 of Set 8 | Erdenet\n",
      "Processing Weather Data for Record 14 of Set 8 | Gao\n",
      "Processing Weather Data for Record 15 of Set 8 | Yerbogachën\n",
      "Processing Weather Data for Record 16 of Set 8 | Teguise\n",
      "Processing Weather Data for Record 17 of Set 8 | Bandi̇̄pur\n",
      "Processing Weather Data for Record 18 of Set 8 | Haines Junction\n",
      "Processing Weather Data for Record 19 of Set 8 | Asău\n",
      "Processing Weather Data for Record 20 of Set 8 | Husavik\n",
      "Processing Weather Data for Record 21 of Set 8 | Hay River\n",
      "Processing Weather Data for Record 22 of Set 8 | Progreso\n",
      "Processing Weather Data for Record 23 of Set 8 | Skibbereen\n",
      "City not found....Skipping............\n",
      "Processing Weather Data for Record 24 of Set 8 | Kotma\n",
      "Processing Weather Data for Record 25 of Set 8 | Honningsvåg\n",
      "Processing Weather Data for Record 26 of Set 8 | Westport\n",
      "City not found....Skipping............\n",
      "Processing Weather Data for Record 27 of Set 8 | Frederico Westphalen\n",
      "Processing Weather Data for Record 28 of Set 8 | San Patricio\n",
      "City not found....Skipping............\n",
      "Processing Weather Data for Record 29 of Set 8 | Hualmay\n",
      "City not found....Skipping............\n",
      "City not found....Skipping............\n",
      "Processing Weather Data for Record 30 of Set 8 | Shache\n",
      "Processing Weather Data for Record 31 of Set 8 | Inhambane\n",
      "Processing Weather Data for Record 32 of Set 8 | Tegul'det\n",
      "Processing Weather Data for Record 33 of Set 8 | Quzhou\n"
     ]
    },
    {
     "name": "stdout",
     "output_type": "stream",
     "text": [
      "Processing Weather Data for Record 34 of Set 8 | Nanortalik\n",
      "Processing Weather Data for Record 35 of Set 8 | Mirny\n",
      "Processing Weather Data for Record 36 of Set 8 | Saint George\n",
      "Processing Weather Data for Record 37 of Set 8 | Kieta\n",
      "Processing Weather Data for Record 38 of Set 8 | Sterling\n",
      "Processing Weather Data for Record 39 of Set 8 | Gijang\n",
      "Processing Weather Data for Record 40 of Set 8 | Merauke\n",
      "Processing Weather Data for Record 41 of Set 8 | Hamilton\n",
      "Processing Weather Data for Record 42 of Set 8 | Muisne\n",
      "Processing Weather Data for Record 43 of Set 8 | Geraldton\n",
      "Processing Weather Data for Record 44 of Set 8 | Sintea Mare\n",
      "Processing Weather Data for Record 45 of Set 8 | Okhotsk\n",
      "Processing Weather Data for Record 46 of Set 8 | Rabo de Peixe\n",
      "Processing Weather Data for Record 47 of Set 8 | Saint-Augustin\n",
      "Processing Weather Data for Record 48 of Set 8 | Kidal\n",
      "Processing Weather Data for Record 49 of Set 8 | Karratha\n",
      "Processing Weather Data for Record 50 of Set 8 | Vallenar\n",
      "Processing Weather Data for Record 1 of Set 9 | Zhangjiakou\n",
      "Processing Weather Data for Record 2 of Set 9 | Caravelas\n",
      "Processing Weather Data for Record 3 of Set 9 | Alice Springs\n",
      "Processing Weather Data for Record 4 of Set 9 | Washougal\n",
      "Processing Weather Data for Record 5 of Set 9 | Verāval\n",
      "Processing Weather Data for Record 6 of Set 9 | Gaoua\n",
      "Processing Weather Data for Record 7 of Set 9 | Nara\n",
      "Processing Weather Data for Record 8 of Set 9 | Port Hedland\n",
      "Processing Weather Data for Record 9 of Set 9 | Nieuw Nickerie\n",
      "Processing Weather Data for Record 10 of Set 9 | Lufilufi\n",
      "Processing Weather Data for Record 11 of Set 9 | Road Town\n",
      "Processing Weather Data for Record 12 of Set 9 | Batagay-Alyta\n",
      "Processing Weather Data for Record 13 of Set 9 | Tamale\n",
      "Processing Weather Data for Record 14 of Set 9 | Jorochito\n",
      "Processing Weather Data for Record 15 of Set 9 | Collie\n",
      "Processing Weather Data for Record 16 of Set 9 | Tual\n",
      "Processing Weather Data for Record 17 of Set 9 | Beihai\n",
      "Processing Weather Data for Record 18 of Set 9 | Walvis Bay\n",
      "Processing Weather Data for Record 19 of Set 9 | La Santisima Trinidad\n",
      "Processing Weather Data for Record 20 of Set 9 | Belyy Yar\n",
      "Processing Weather Data for Record 21 of Set 9 | Voznesen'ye\n",
      "Processing Weather Data for Record 22 of Set 9 | Iskateley\n",
      "Processing Weather Data for Record 23 of Set 9 | Lompoc\n",
      "City not found....Skipping............\n",
      "Processing Weather Data for Record 24 of Set 9 | Buchanan\n",
      "Processing Weather Data for Record 25 of Set 9 | Havøysund\n",
      "Processing Weather Data for Record 26 of Set 9 | Ca Mau\n",
      "Processing Weather Data for Record 27 of Set 9 | Atar\n",
      "Processing Weather Data for Record 28 of Set 9 | Vestmannaeyjar\n",
      "City not found....Skipping............\n",
      "Processing Weather Data for Record 29 of Set 9 | Talisay City\n",
      "Processing Weather Data for Record 30 of Set 9 | Dingle\n",
      "Processing Weather Data for Record 31 of Set 9 | Athabasca\n",
      "Processing Weather Data for Record 32 of Set 9 | Luanda\n",
      "City not found....Skipping............\n",
      "Processing Weather Data for Record 33 of Set 9 | Porto Santo\n",
      "City not found....Skipping............\n",
      "Processing Weather Data for Record 34 of Set 9 | Port-Gentil\n",
      "Processing Weather Data for Record 35 of Set 9 | Oyama\n",
      "Processing Weather Data for Record 36 of Set 9 | Bowling Green\n",
      "Processing Weather Data for Record 37 of Set 9 | Quirinópolis\n",
      "Processing Weather Data for Record 38 of Set 9 | Barinas\n",
      "Processing Weather Data for Record 39 of Set 9 | Alofi\n",
      "Processing Weather Data for Record 40 of Set 9 | Beira\n",
      "Processing Weather Data for Record 41 of Set 9 | Makakilo City\n",
      "Processing Weather Data for Record 42 of Set 9 | Lugus\n",
      "Processing Weather Data for Record 43 of Set 9 | Bubaque\n",
      "Processing Weather Data for Record 44 of Set 9 | Pabradė\n",
      "Processing Weather Data for Record 45 of Set 9 | Onega\n",
      "Processing Weather Data for Record 46 of Set 9 | Oranjemund\n",
      "Processing Weather Data for Record 47 of Set 9 | Jurm\n",
      "Processing Weather Data for Record 48 of Set 9 | Port Hawkesbury\n",
      "Processing Weather Data for Record 49 of Set 9 | Barsovo\n",
      "Processing Weather Data for Record 50 of Set 9 | Arawa\n",
      "Processing Weather Data for Record 1 of Set 10 | Benghazi\n",
      "Processing Weather Data for Record 2 of Set 10 | Neuquén\n",
      "Processing Weather Data for Record 3 of Set 10 | Ixtapa\n",
      "Processing Weather Data for Record 4 of Set 10 | Uribia\n",
      "City not found....Skipping............\n",
      "Processing Weather Data for Record 5 of Set 10 | Sovetskaya Gavan'\n",
      "Processing Weather Data for Record 6 of Set 10 | Kysyl-Syr\n",
      "Processing Weather Data for Record 7 of Set 10 | Kamaishi\n",
      "Processing Weather Data for Record 8 of Set 10 | Nichinan\n",
      "Processing Weather Data for Record 9 of Set 10 | Turukhansk\n",
      "Processing Weather Data for Record 10 of Set 10 | Abnūb\n",
      "Processing Weather Data for Record 11 of Set 10 | São Francisco\n",
      "Processing Weather Data for Record 12 of Set 10 | Guayaramerín\n",
      "Processing Weather Data for Record 13 of Set 10 | Coquimbo\n",
      "Processing Weather Data for Record 14 of Set 10 | Imbituba\n",
      "Processing Weather Data for Record 15 of Set 10 | Palimbang\n",
      "Processing Weather Data for Record 16 of Set 10 | Belozërskoye\n",
      "Processing Weather Data for Record 17 of Set 10 | Erzin\n",
      "Processing Weather Data for Record 18 of Set 10 | Berbera\n",
      "Processing Weather Data for Record 19 of Set 10 | The Valley\n",
      "Processing Weather Data for Record 20 of Set 10 | Lindi\n",
      "City not found....Skipping............\n",
      "Processing Weather Data for Record 21 of Set 10 | Río Gallegos\n",
      "Processing Weather Data for Record 22 of Set 10 | Poya\n",
      "Processing Weather Data for Record 23 of Set 10 | Shahrud\n",
      "Processing Weather Data for Record 24 of Set 10 | Adelaide\n",
      "Processing Weather Data for Record 25 of Set 10 | Eyl\n",
      "Processing Weather Data for Record 26 of Set 10 | Kondinskoye\n",
      "Processing Weather Data for Record 27 of Set 10 | College\n",
      "Processing Weather Data for Record 28 of Set 10 | Puerto Carreño\n",
      "Processing Weather Data for Record 29 of Set 10 | Margate\n",
      "Processing Weather Data for Record 30 of Set 10 | Rāyadrug\n",
      "Processing Weather Data for Record 31 of Set 10 | Simões\n",
      "City not found....Skipping............\n",
      "Processing Weather Data for Record 32 of Set 10 | Skellefteå\n",
      "Processing Weather Data for Record 33 of Set 10 | Jutaí\n",
      "Processing Weather Data for Record 34 of Set 10 | Rutland\n",
      "City not found....Skipping............\n",
      "Processing Weather Data for Record 35 of Set 10 | Lázaro Cárdenas\n",
      "Processing Weather Data for Record 36 of Set 10 | Chapais\n",
      "Processing Weather Data for Record 37 of Set 10 | Kawalu\n",
      "Processing Weather Data for Record 38 of Set 10 | Tambovka\n",
      "Processing Weather Data for Record 39 of Set 10 | Vostochnyy\n",
      "Processing Weather Data for Record 40 of Set 10 | Lozova\n",
      "Processing Weather Data for Record 41 of Set 10 | Peniche\n",
      "Processing Weather Data for Record 42 of Set 10 | Cabedelo\n",
      "Processing Weather Data for Record 43 of Set 10 | Jaboatão\n",
      "Processing Weather Data for Record 44 of Set 10 | Hernani\n",
      "City not found....Skipping............\n",
      "Processing Weather Data for Record 45 of Set 10 | Ndendé\n",
      "Processing Weather Data for Record 46 of Set 10 | Gazojak\n",
      "Processing Weather Data for Record 47 of Set 10 | Lüderitz\n",
      "Processing Weather Data for Record 48 of Set 10 | Nizhnevartovsk\n",
      "Processing Weather Data for Record 49 of Set 10 | Phalombe\n",
      "Processing Weather Data for Record 50 of Set 10 | São Desidério\n",
      "Processing Weather Data for Record 1 of Set 11 | Barabash\n",
      "Processing Weather Data for Record 2 of Set 11 | Taltal\n",
      "Processing Weather Data for Record 3 of Set 11 | Dingli\n",
      "Processing Weather Data for Record 4 of Set 11 | Vanimo\n",
      "Processing Weather Data for Record 5 of Set 11 | Colares\n",
      "Processing Weather Data for Record 6 of Set 11 | Pemangkat\n",
      "Processing Weather Data for Record 7 of Set 11 | Damaturu\n",
      "Processing Weather Data for Record 8 of Set 11 | Parit Buntar\n",
      "Processing Weather Data for Record 9 of Set 11 | Guarapari\n",
      "Processing Weather Data for Record 10 of Set 11 | Popondetta\n",
      "Processing Weather Data for Record 11 of Set 11 | Show Low\n",
      "Processing Weather Data for Record 12 of Set 11 | Kadapa\n",
      "City not found....Skipping............\n",
      "Processing Weather Data for Record 13 of Set 11 | Christchurch\n",
      "Processing Weather Data for Record 14 of Set 11 | Aksu\n",
      "Processing Weather Data for Record 15 of Set 11 | Muros\n",
      "Processing Weather Data for Record 16 of Set 11 | Brae\n"
     ]
    },
    {
     "name": "stdout",
     "output_type": "stream",
     "text": [
      "Processing Weather Data for Record 17 of Set 11 | Gravdal\n",
      "City not found....Skipping............\n",
      "Processing Weather Data for Record 18 of Set 11 | Elizabethton\n",
      "Processing Weather Data for Record 19 of Set 11 | Kampong Chhnang\n",
      "Processing Weather Data for Record 20 of Set 11 | Moba\n",
      "Processing Weather Data for Record 21 of Set 11 | Tucumcari\n",
      "Processing Weather Data for Record 22 of Set 11 | Wad Medani\n",
      "Processing Weather Data for Record 23 of Set 11 | Paamiut\n",
      "Processing Weather Data for Record 24 of Set 11 | Olinda\n",
      "Processing Weather Data for Record 25 of Set 11 | Achinsk\n",
      "Processing Weather Data for Record 26 of Set 11 | Cedral\n",
      "Processing Weather Data for Record 27 of Set 11 | São José da Coroa Grande\n",
      "Processing Weather Data for Record 28 of Set 11 | Meulaboh\n",
      "Processing Weather Data for Record 29 of Set 11 | Noumea\n",
      "Processing Weather Data for Record 30 of Set 11 | Porto Belo\n",
      "Processing Weather Data for Record 31 of Set 11 | Lavrentiya\n",
      "Processing Weather Data for Record 32 of Set 11 | Vega de Alatorre\n",
      "Processing Weather Data for Record 33 of Set 11 | Gemünden am Main\n",
      "Processing Weather Data for Record 34 of Set 11 | Kuandian\n",
      "-----------------------------\n",
      "Data Retrieval Complete\n",
      "-----------------------------\n"
     ]
    }
   ],
   "source": [
    "for index, row in city_weather.iterrows(): \n",
    "    #Create the query url for the API call\n",
    "    query_url = base_url + row['City'] + ',' + row['Country'] + '&APPID=' + weather_api_key\n",
    "    \n",
    "    #API call\n",
    "    response = requests.get(query_url).json()\n",
    "    #Exception script in case the city is not found by the API call\n",
    "    try: \n",
    "        #Meassage to alert the user that the data is being retrieved\n",
    "        print(f'Processing Weather Data for Record {record_num} of Set {record_set} | {response[\"name\"]}')\n",
    "        \n",
    "        #Input data into the dataframe\n",
    "        \n",
    "        city_weather.loc[index, 'Country'] = response['sys']['country']\n",
    "        city_weather.loc[index, 'Cloudiness'] = response['clouds']['all']\n",
    "        city_weather.loc[index, 'Date'] = response['dt']\n",
    "        city_weather.loc[index, 'Humidity'] = response['main']['humidity']\n",
    "        city_weather.loc[index, 'Lat'] = response['coord']['lat']\n",
    "        city_weather.loc[index, 'Lng'] = response['coord']['lon']\n",
    "        city_weather.loc[index, 'Max Temp'] = response['main']['temp_max']\n",
    "        city_weather.loc[index, 'Windspeed'] = response['wind']['speed']\n",
    "        \n",
    "        #Increase the record count\n",
    "        record_num += 1\n",
    "    except (KeyError, IndexError):\n",
    "        print(\"City not found....Skipping............\")\n",
    "    \n",
    "    #If statement to handle the API call limits\n",
    "    if record_num == 51:\n",
    "        record_set += 1\n",
    "        record_num = 1\n",
    "        time.sleep(60)\n",
    "print(\"-----------------------------\")        \n",
    "print(\"Data Retrieval Complete\")\n",
    "print(\"-----------------------------\")"
   ]
  },
  {
   "cell_type": "code",
   "execution_count": null,
   "metadata": {},
   "outputs": [],
   "source": []
  },
  {
   "cell_type": "markdown",
   "metadata": {},
   "source": [
    "### Convert Raw Data to DataFrame\n",
    "* Export the city data into a .csv.\n",
    "* Display the DataFrame"
   ]
  },
  {
   "cell_type": "code",
   "execution_count": 6,
   "metadata": {},
   "outputs": [
    {
     "data": {
      "text/plain": [
       "City          604\n",
       "Cloudiness    604\n",
       "Country       604\n",
       "Date          604\n",
       "Humidity      604\n",
       "Lat           604\n",
       "Lng           604\n",
       "Max Temp      604\n",
       "Windspeed     604\n",
       "dtype: int64"
      ]
     },
     "execution_count": 6,
     "metadata": {},
     "output_type": "execute_result"
    }
   ],
   "source": [
    "city_weather.count()"
   ]
  },
  {
   "cell_type": "code",
   "execution_count": 7,
   "metadata": {},
   "outputs": [
    {
     "data": {
      "text/html": [
       "<div>\n",
       "<style scoped>\n",
       "    .dataframe tbody tr th:only-of-type {\n",
       "        vertical-align: middle;\n",
       "    }\n",
       "\n",
       "    .dataframe tbody tr th {\n",
       "        vertical-align: top;\n",
       "    }\n",
       "\n",
       "    .dataframe thead th {\n",
       "        text-align: right;\n",
       "    }\n",
       "</style>\n",
       "<table border=\"1\" class=\"dataframe\">\n",
       "  <thead>\n",
       "    <tr style=\"text-align: right;\">\n",
       "      <th></th>\n",
       "      <th>City</th>\n",
       "      <th>Cloudiness</th>\n",
       "      <th>Country</th>\n",
       "      <th>Date</th>\n",
       "      <th>Humidity</th>\n",
       "      <th>Lat</th>\n",
       "      <th>Lng</th>\n",
       "      <th>Max Temp</th>\n",
       "      <th>Windspeed</th>\n",
       "    </tr>\n",
       "  </thead>\n",
       "  <tbody>\n",
       "    <tr>\n",
       "      <th>0</th>\n",
       "      <td>ust-kamchatsk</td>\n",
       "      <td></td>\n",
       "      <td></td>\n",
       "      <td></td>\n",
       "      <td></td>\n",
       "      <td></td>\n",
       "      <td></td>\n",
       "      <td></td>\n",
       "      <td></td>\n",
       "    </tr>\n",
       "    <tr>\n",
       "      <th>1</th>\n",
       "      <td>sorong</td>\n",
       "      <td>94</td>\n",
       "      <td>ID</td>\n",
       "      <td>1650823377</td>\n",
       "      <td>83</td>\n",
       "      <td>-0.8833</td>\n",
       "      <td>131.25</td>\n",
       "      <td>81.23</td>\n",
       "      <td>9.69</td>\n",
       "    </tr>\n",
       "    <tr>\n",
       "      <th>2</th>\n",
       "      <td>ribeira grande</td>\n",
       "      <td>40</td>\n",
       "      <td>PT</td>\n",
       "      <td>1650823378</td>\n",
       "      <td>67</td>\n",
       "      <td>38.5167</td>\n",
       "      <td>-28.7</td>\n",
       "      <td>63</td>\n",
       "      <td>17.27</td>\n",
       "    </tr>\n",
       "    <tr>\n",
       "      <th>3</th>\n",
       "      <td>ushuaia</td>\n",
       "      <td>99</td>\n",
       "      <td>AR</td>\n",
       "      <td>1650823331</td>\n",
       "      <td>66</td>\n",
       "      <td>-54.8</td>\n",
       "      <td>-68.3</td>\n",
       "      <td>43.41</td>\n",
       "      <td>3.38</td>\n",
       "    </tr>\n",
       "    <tr>\n",
       "      <th>4</th>\n",
       "      <td>samusu</td>\n",
       "      <td></td>\n",
       "      <td></td>\n",
       "      <td></td>\n",
       "      <td></td>\n",
       "      <td></td>\n",
       "      <td></td>\n",
       "      <td></td>\n",
       "      <td></td>\n",
       "    </tr>\n",
       "  </tbody>\n",
       "</table>\n",
       "</div>"
      ],
      "text/plain": [
       "             City Cloudiness Country        Date Humidity      Lat     Lng  \\\n",
       "0   ust-kamchatsk                                                            \n",
       "1          sorong         94      ID  1650823377       83  -0.8833  131.25   \n",
       "2  ribeira grande         40      PT  1650823378       67  38.5167   -28.7   \n",
       "3         ushuaia         99      AR  1650823331       66    -54.8   -68.3   \n",
       "4          samusu                                                            \n",
       "\n",
       "  Max Temp Windspeed  \n",
       "0                     \n",
       "1    81.23      9.69  \n",
       "2       63     17.27  \n",
       "3    43.41      3.38  \n",
       "4                     "
      ]
     },
     "execution_count": 7,
     "metadata": {},
     "output_type": "execute_result"
    }
   ],
   "source": [
    "city_weather.head()"
   ]
  },
  {
   "cell_type": "code",
   "execution_count": 8,
   "metadata": {},
   "outputs": [],
   "source": [
    "#Export DataFrame to CSV File\n",
    "city_weather.to_csv(\"city_weather.csv\")\n"
   ]
  },
  {
   "cell_type": "code",
   "execution_count": 9,
   "metadata": {},
   "outputs": [],
   "source": [
    "import pandas as pd"
   ]
  },
  {
   "cell_type": "code",
   "execution_count": 10,
   "metadata": {},
   "outputs": [],
   "source": [
    "city_weather=pd.read_csv(\"city_weather.csv\")"
   ]
  },
  {
   "cell_type": "code",
   "execution_count": 11,
   "metadata": {},
   "outputs": [
    {
     "data": {
      "text/html": [
       "<div>\n",
       "<style scoped>\n",
       "    .dataframe tbody tr th:only-of-type {\n",
       "        vertical-align: middle;\n",
       "    }\n",
       "\n",
       "    .dataframe tbody tr th {\n",
       "        vertical-align: top;\n",
       "    }\n",
       "\n",
       "    .dataframe thead th {\n",
       "        text-align: right;\n",
       "    }\n",
       "</style>\n",
       "<table border=\"1\" class=\"dataframe\">\n",
       "  <thead>\n",
       "    <tr style=\"text-align: right;\">\n",
       "      <th></th>\n",
       "      <th>City</th>\n",
       "      <th>Cloudiness</th>\n",
       "      <th>Country</th>\n",
       "      <th>Date</th>\n",
       "      <th>Humidity</th>\n",
       "      <th>Lat</th>\n",
       "      <th>Lng</th>\n",
       "      <th>Max Temp</th>\n",
       "      <th>Windspeed</th>\n",
       "    </tr>\n",
       "  </thead>\n",
       "  <tbody>\n",
       "    <tr>\n",
       "      <th>0</th>\n",
       "      <td>ust-kamchatsk</td>\n",
       "      <td>NaN</td>\n",
       "      <td>NaN</td>\n",
       "      <td>NaN</td>\n",
       "      <td>NaN</td>\n",
       "      <td>NaN</td>\n",
       "      <td>NaN</td>\n",
       "      <td>NaN</td>\n",
       "      <td>NaN</td>\n",
       "    </tr>\n",
       "    <tr>\n",
       "      <th>1</th>\n",
       "      <td>sorong</td>\n",
       "      <td>94.0</td>\n",
       "      <td>ID</td>\n",
       "      <td>1.650823e+09</td>\n",
       "      <td>83.0</td>\n",
       "      <td>-0.8833</td>\n",
       "      <td>131.25</td>\n",
       "      <td>81.23</td>\n",
       "      <td>9.69</td>\n",
       "    </tr>\n",
       "    <tr>\n",
       "      <th>2</th>\n",
       "      <td>ribeira grande</td>\n",
       "      <td>40.0</td>\n",
       "      <td>PT</td>\n",
       "      <td>1.650823e+09</td>\n",
       "      <td>67.0</td>\n",
       "      <td>38.5167</td>\n",
       "      <td>-28.70</td>\n",
       "      <td>63.00</td>\n",
       "      <td>17.27</td>\n",
       "    </tr>\n",
       "    <tr>\n",
       "      <th>3</th>\n",
       "      <td>ushuaia</td>\n",
       "      <td>99.0</td>\n",
       "      <td>AR</td>\n",
       "      <td>1.650823e+09</td>\n",
       "      <td>66.0</td>\n",
       "      <td>-54.8000</td>\n",
       "      <td>-68.30</td>\n",
       "      <td>43.41</td>\n",
       "      <td>3.38</td>\n",
       "    </tr>\n",
       "    <tr>\n",
       "      <th>4</th>\n",
       "      <td>samusu</td>\n",
       "      <td>NaN</td>\n",
       "      <td>NaN</td>\n",
       "      <td>NaN</td>\n",
       "      <td>NaN</td>\n",
       "      <td>NaN</td>\n",
       "      <td>NaN</td>\n",
       "      <td>NaN</td>\n",
       "      <td>NaN</td>\n",
       "    </tr>\n",
       "  </tbody>\n",
       "</table>\n",
       "</div>"
      ],
      "text/plain": [
       "             City  Cloudiness Country          Date  Humidity      Lat  \\\n",
       "0   ust-kamchatsk         NaN     NaN           NaN       NaN      NaN   \n",
       "1          sorong        94.0      ID  1.650823e+09      83.0  -0.8833   \n",
       "2  ribeira grande        40.0      PT  1.650823e+09      67.0  38.5167   \n",
       "3         ushuaia        99.0      AR  1.650823e+09      66.0 -54.8000   \n",
       "4          samusu         NaN     NaN           NaN       NaN      NaN   \n",
       "\n",
       "      Lng  Max Temp  Windspeed  \n",
       "0     NaN       NaN        NaN  \n",
       "1  131.25     81.23       9.69  \n",
       "2  -28.70     63.00      17.27  \n",
       "3  -68.30     43.41       3.38  \n",
       "4     NaN       NaN        NaN  "
      ]
     },
     "execution_count": 11,
     "metadata": {},
     "output_type": "execute_result"
    }
   ],
   "source": [
    "df=pd.DataFrame(city_weather)\n",
    "del df['Unnamed: 0']\n",
    "df.head()"
   ]
  },
  {
   "cell_type": "code",
   "execution_count": null,
   "metadata": {},
   "outputs": [],
   "source": []
  },
  {
   "cell_type": "markdown",
   "metadata": {},
   "source": [
    "## Plotting the Data\n",
    "* Use proper labeling of the plots using plot titles (including date of analysis) and axes labels.\n",
    "* Save the plotted figures as .pngs."
   ]
  },
  {
   "cell_type": "markdown",
   "metadata": {},
   "source": [
    "## Latitude vs. Temperature Plot"
   ]
  },
  {
   "cell_type": "code",
   "execution_count": 12,
   "metadata": {},
   "outputs": [
    {
     "data": {
      "image/png": "[encoded data removed]",
      "text/plain": [
       "<Figure size 432x288 with 1 Axes>"
      ]
     },
     "metadata": {
      "needs_background": "light"
     },
     "output_type": "display_data"
    }
   ],
   "source": [
    "# Build a scatter plot for each data type\n",
    "plt.scatter(city_weather[\"Lat\"], city_weather[\"Max Temp\"], marker=\"o\")\n",
    "# Incorporate the other graph properties\n",
    "plt.title(f'City Latitude vs. Max Temperature {time.strftime(\"%m/%d/%Y\")}')\n",
    "plt.ylabel(\"Temperature (F)\")\n",
    "plt.xlabel(\"Latitude\")\n",
    "plt.grid(True)\n",
    "#Save the figure\n",
    "plt.savefig(\"../Images/City Latitude vs Max Temperature.png\")\n",
    "\n",
    "# Show plot\n",
    "plt.show()\n"
   ]
  },
  {
   "cell_type": "markdown",
   "metadata": {},
   "source": [
    "As we can see,highest temperature is found arround 0.The plot shows that as we move from the equator, temperature decrease."
   ]
  },
  {
   "cell_type": "markdown",
   "metadata": {},
   "source": [
    "## Latitude vs. Humidity Plot"
   ]
  },
  {
   "cell_type": "code",
   "execution_count": 13,
   "metadata": {},
   "outputs": [
    {
     "data": {
      "image/png": "[encoded data removed]",
      "text/plain": [
       "<Figure size 432x288 with 1 Axes>"
      ]
     },
     "metadata": {
      "needs_background": "light"
     },
     "output_type": "display_data"
    }
   ],
   "source": [
    "# Build a scatter plot for each data type\n",
    "plt.scatter(city_weather[\"Lat\"], city_weather[\"Humidity\"], marker=\"o\")\n",
    "# Incorporate the other graph properties\n",
    "plt.title(f'City Latitude vs. Max Humidity {time.strftime(\"%m/%d/%Y\")}')\n",
    "plt.ylabel(\"Humidity (%)\")\n",
    "plt.xlabel(\"Latitude\")\n",
    "plt.grid(True)\n",
    "#Save the figure\n",
    "plt.savefig(\"../Images/City Latitude vs Humidity.png\")\n",
    "\n",
    "# Show plot\n",
    "plt.show()"
   ]
  },
  {
   "cell_type": "markdown",
   "metadata": {},
   "source": [
    "This plot shows that there are quasi no corelation between Latitude and Humidity. However we can see that as latitude is higher,humidity is higher in the Southern hemisphere"
   ]
  },
  {
   "cell_type": "code",
   "execution_count": null,
   "metadata": {},
   "outputs": [],
   "source": []
  },
  {
   "cell_type": "markdown",
   "metadata": {},
   "source": [
    "## Latitude vs. Cloudiness Plot"
   ]
  },
  {
   "cell_type": "code",
   "execution_count": 14,
   "metadata": {
    "scrolled": true
   },
   "outputs": [
    {
     "data": {
      "image/png": "[encoded data removed]",
      "text/plain": [
       "<Figure size 432x288 with 1 Axes>"
      ]
     },
     "metadata": {
      "needs_background": "light"
     },
     "output_type": "display_data"
    }
   ],
   "source": [
    "# Build a scatter plot for each data type\n",
    "plt.scatter(city_weather[\"Lat\"], city_weather[\"Cloudiness\"], marker=\"o\")\n",
    "\n",
    "# Incorporate the other graph properties\n",
    "plt.title(f'City Latitude vs. Cloudiness {time.strftime(\"%m/%d/%Y\")}')\n",
    "plt.ylabel(\"Cloudiness (%)\")\n",
    "plt.xlabel(\"Latitude\")\n",
    "plt.grid(True)\n",
    "#Save the figure\n",
    "plt.savefig(\"../Images/City Latitude vs Cloudiness.png\")\n",
    "\n",
    "# Show plot\n",
    "plt.show()"
   ]
  },
  {
   "cell_type": "markdown",
   "metadata": {},
   "source": [
    "We can observe in the plot that there are no correlation between Latitude and Cloudiness"
   ]
  },
  {
   "cell_type": "markdown",
   "metadata": {},
   "source": [
    "## Latitude vs. Wind Speed Plot"
   ]
  },
  {
   "cell_type": "code",
   "execution_count": 15,
   "metadata": {},
   "outputs": [
    {
     "data": {
      "image/png": "[encoded data removed]",
      "text/plain": [
       "<Figure size 432x288 with 1 Axes>"
      ]
     },
     "metadata": {
      "needs_background": "light"
     },
     "output_type": "display_data"
    }
   ],
   "source": [
    "# Build a scatter plot for each data type\n",
    "plt.scatter(city_weather[\"Lat\"], city_weather[\"Windspeed\"], marker=\"o\")\n",
    "\n",
    "# Incorporate the other graph properties\n",
    "plt.title(f'City Latitude vs. Windspeed {time.strftime(\"%m/%d/%Y\")}')\n",
    "plt.ylabel(\"Wind Speed(mph)\")\n",
    "plt.xlabel(\"Latitude\")\n",
    "plt.grid(True)\n",
    "#Save the figure\n",
    "plt.savefig(\"../Images/City Latitude vs Wind Speed.png\")\n",
    "\n",
    "# Show plot\n",
    "plt.show()"
   ]
  },
  {
   "cell_type": "markdown",
   "metadata": {},
   "source": [
    "The plotshows that there are no real relatinship between Latitude and Wind Speed"
   ]
  },
  {
   "cell_type": "markdown",
   "metadata": {},
   "source": [
    "## Linear Regression"
   ]
  },
  {
   "cell_type": "code",
   "execution_count": 16,
   "metadata": {},
   "outputs": [],
   "source": [
    "#Create a function to create Linear Regression plots\n",
    "# Add the linear regression equation and line to plot\n",
    "def linear_reg_plot(x_values,y_values):\n",
    "    (slope, intercept, rvalue, pvalue, stderr) = linregress(x_values, y_values)\n",
    "    regress_values = x_values * slope + intercept\n",
    "    line_eq = \"y = \" + str(round(slope,2)) + \"x + \" + str(round(intercept,2))\n",
    "    plt.scatter(x_values,y_values)\n",
    "    plt.plot(x_values,regress_values,\"r-\")\n",
    "    plt.annotate(line_eq,(x_values.median(),y_values.median()),fontsize=15,color=\"red\")\n",
    "    plt.xlabel(\"Latitude\")\n",
    "    print(f\"The r-squared is: {rvalue}\")\n",
    "    plt.show()"
   ]
  },
  {
   "cell_type": "code",
   "execution_count": 17,
   "metadata": {},
   "outputs": [],
   "source": [
    "# Create Northern and Southern Hemisphere DataFrames\n",
    "Northern_hemisphere = city_weather.loc[city_weather[\"Lat\"]>0]\n",
    "Southern_hemisphere = city_weather.loc[city_weather[\"Lat\"]<0]"
   ]
  },
  {
   "cell_type": "markdown",
   "metadata": {},
   "source": [
    "####  Northern Hemisphere - Max Temp vs. Latitude Linear Regression"
   ]
  },
  {
   "cell_type": "code",
   "execution_count": 18,
   "metadata": {},
   "outputs": [
    {
     "name": "stdout",
     "output_type": "stream",
     "text": [
      "The r-squared is: -0.8829799477825645\n"
     ]
    },
    {
     "data": {
      "image/png": "[encoded data removed]",
      "text/plain": [
       "<Figure size 432x288 with 1 Axes>"
      ]
     },
     "metadata": {
      "needs_background": "light"
     },
     "output_type": "display_data"
    },
    {
     "name": "stdout",
     "output_type": "stream",
     "text": [
      "None\n"
     ]
    }
   ],
   "source": [
    "plt.title(\"Northern Hemisphere - Max Temp vs. Latitude Linear Regression\")\n",
    "x_values = Northern_hemisphere[\"Lat\"]\n",
    "y_values = Northern_hemisphere[\"Max Temp\"]\n",
    "plt.ylabel(\"Max Temp (F)\")\n",
    "# Save the figure\n",
    "plt.savefig(\"../Images/Northern Hemisphere - Max Temp vs. Latitude Linear Regression.png\")\n",
    "print(linear_reg_plot(x_values,y_values))"
   ]
  },
  {
   "cell_type": "code",
   "execution_count": null,
   "metadata": {},
   "outputs": [],
   "source": []
  },
  {
   "cell_type": "markdown",
   "metadata": {},
   "source": [
    "####  Southern Hemisphere - Max Temp vs. Latitude Linear Regression"
   ]
  },
  {
   "cell_type": "code",
   "execution_count": 19,
   "metadata": {},
   "outputs": [
    {
     "name": "stdout",
     "output_type": "stream",
     "text": [
      "The r-squared is: 0.7490227193645077\n"
     ]
    },
    {
     "data": {
      "image/png": "[encoded data removed]",
      "text/plain": [
       "<Figure size 432x288 with 1 Axes>"
      ]
     },
     "metadata": {
      "needs_background": "light"
     },
     "output_type": "display_data"
    },
    {
     "name": "stdout",
     "output_type": "stream",
     "text": [
      "None\n"
     ]
    }
   ],
   "source": [
    "plt.title(\"Southern Hemisphere - Max Temp vs. Latitude Linear Regression\")\n",
    "x_values = Southern_hemisphere[\"Lat\"]\n",
    "y_values = Southern_hemisphere[\"Max Temp\"]\n",
    "plt.ylabel(\"Max Temp (F)\")\n",
    "plt.savefig(\"../Images/Southern Hemisphere - Max Temp vs. Latitude Linear Regression.png\")\n",
    "print(linear_reg_plot(x_values,y_values))"
   ]
  },
  {
   "cell_type": "markdown",
   "metadata": {},
   "source": [
    "The Two previous plot show the following:\n",
    "    The Northern Hemisphere displays a negative slope with a negative correlation between Temperature and Latitude, however the Southern Hemisphere displays a positive slope with a positive correlation between Temperature and Latitude."
   ]
  },
  {
   "cell_type": "markdown",
   "metadata": {},
   "source": [
    "####  Northern Hemisphere - Humidity (%) vs. Latitude Linear Regression"
   ]
  },
  {
   "cell_type": "code",
   "execution_count": 20,
   "metadata": {},
   "outputs": [
    {
     "name": "stdout",
     "output_type": "stream",
     "text": [
      "The r-squared is: 0.3947005730347692\n"
     ]
    },
    {
     "data": {
      "image/png": "[encoded data removed]",
      "text/plain": [
       "<Figure size 432x288 with 1 Axes>"
      ]
     },
     "metadata": {
      "needs_background": "light"
     },
     "output_type": "display_data"
    },
    {
     "name": "stdout",
     "output_type": "stream",
     "text": [
      "None\n"
     ]
    }
   ],
   "source": [
    "plt.title(\"Northern Hemisphere - Humidity (%) vs. Latitude Linear Regression\")\n",
    "x_values = Northern_hemisphere[\"Lat\"]\n",
    "y_values = Northern_hemisphere[\"Humidity\"]\n",
    "plt.ylabel(\"Humidity\")\n",
    "# Save the figure\n",
    "plt.savefig(\"../Images/Northern Hemisphere - Humidity (%) vs. Latitude Linear Regression.png\")\n",
    "print(linear_reg_plot(x_values,y_values))"
   ]
  },
  {
   "cell_type": "code",
   "execution_count": null,
   "metadata": {},
   "outputs": [],
   "source": []
  },
  {
   "cell_type": "markdown",
   "metadata": {},
   "source": [
    "####  Southern Hemisphere - Humidity (%) vs. Latitude Linear Regression"
   ]
  },
  {
   "cell_type": "code",
   "execution_count": 21,
   "metadata": {},
   "outputs": [
    {
     "name": "stdout",
     "output_type": "stream",
     "text": [
      "The r-squared is: 0.113420741768732\n"
     ]
    },
    {
     "data": {
      "image/png": "[encoded data removed]",
      "text/plain": [
       "<Figure size 432x288 with 1 Axes>"
      ]
     },
     "metadata": {
      "needs_background": "light"
     },
     "output_type": "display_data"
    },
    {
     "name": "stdout",
     "output_type": "stream",
     "text": [
      "None\n"
     ]
    }
   ],
   "source": [
    "plt.title(\"Southern Hemisphere - Humidity (%) vs. Latitude Linear Regression\")\n",
    "x_values = Southern_hemisphere[\"Lat\"]\n",
    "y_values = Southern_hemisphere[\"Humidity\"]\n",
    "plt.ylabel(\"Humidity\")\n",
    "# Save the figure\n",
    "plt.savefig(\"../Images/Southern Hemisphere - Humidity (%) vs. Latitude Linear Regression.png\")\n",
    "print(linear_reg_plot(x_values,y_values))"
   ]
  },
  {
   "cell_type": "markdown",
   "metadata": {},
   "source": [
    "The two previous graphs show that there are no clear relationship beetween Humidity and Latitude in the northern and Southern Hemisphere. We can however observe a moderate positive correlation between latitude and humidity for northern hemisphere\n"
   ]
  },
  {
   "cell_type": "code",
   "execution_count": null,
   "metadata": {},
   "outputs": [],
   "source": []
  },
  {
   "cell_type": "markdown",
   "metadata": {},
   "source": [
    "Northern Hemisphere - Cloudiness (%) vs. Latitude Linear Regression"
   ]
  },
  {
   "cell_type": "code",
   "execution_count": 22,
   "metadata": {},
   "outputs": [
    {
     "name": "stdout",
     "output_type": "stream",
     "text": [
      "The r-squared is: 0.3468970655311071\n"
     ]
    },
    {
     "data": {
      "image/png": "[encoded data removed]",
      "text/plain": [
       "<Figure size 432x288 with 1 Axes>"
      ]
     },
     "metadata": {
      "needs_background": "light"
     },
     "output_type": "display_data"
    },
    {
     "name": "stdout",
     "output_type": "stream",
     "text": [
      "None\n"
     ]
    }
   ],
   "source": [
    "plt.title(\"Northern Hemisphere - Cloudiness (%) vs. Latitude Linear Regression\")\n",
    "x_values = Northern_hemisphere[\"Lat\"]\n",
    "y_values = Northern_hemisphere[\"Cloudiness\"]\n",
    "plt.ylabel(\"Cloudiness\")\n",
    "# Save the figure\n",
    "plt.savefig(\"../Images/Northern Hemisphere - Cloudiness (%) vs. Latitude Linear Regression.png\")\n",
    "print(linear_reg_plot(x_values,y_values))"
   ]
  },
  {
   "cell_type": "code",
   "execution_count": null,
   "metadata": {},
   "outputs": [],
   "source": []
  },
  {
   "cell_type": "markdown",
   "metadata": {},
   "source": [
    "####  Southern Hemisphere - Cloudiness (%) vs. Latitude Linear Regression"
   ]
  },
  {
   "cell_type": "code",
   "execution_count": 23,
   "metadata": {},
   "outputs": [
    {
     "name": "stdout",
     "output_type": "stream",
     "text": [
      "The r-squared is: 0.14008122624701982\n"
     ]
    },
    {
     "data": {
      "image/png": "[encoded data removed]",
      "text/plain": [
       "<Figure size 432x288 with 1 Axes>"
      ]
     },
     "metadata": {
      "needs_background": "light"
     },
     "output_type": "display_data"
    },
    {
     "name": "stdout",
     "output_type": "stream",
     "text": [
      "None\n"
     ]
    }
   ],
   "source": [
    "plt.title(\"Southern Hemisphere - Cloudiness (%) vs. Latitude Linear Regression\")\n",
    "x_values = Southern_hemisphere[\"Lat\"]\n",
    "y_values = Southern_hemisphere[\"Cloudiness\"]\n",
    "plt.ylabel(\"Cloudiness\")\n",
    "# Save the figure\n",
    "plt.savefig(\"../Images/Southern Hemisphere - Cloudiness (%) vs. Latitude Linear Regression.png\")\n",
    "print(linear_reg_plot(x_values,y_values))"
   ]
  },
  {
   "cell_type": "markdown",
   "metadata": {},
   "source": [
    "The two previous graphs show a positive slope. We can indeed observe a moderate positive correlation between latitude and Cloudiness for northern and Southern hemispheres."
   ]
  },
  {
   "cell_type": "code",
   "execution_count": null,
   "metadata": {
    "scrolled": true
   },
   "outputs": [],
   "source": []
  },
  {
   "cell_type": "markdown",
   "metadata": {},
   "source": [
    "####  Northern Hemisphere - Wind Speed (mph) vs. Latitude Linear Regression"
   ]
  },
  {
   "cell_type": "code",
   "execution_count": 24,
   "metadata": {},
   "outputs": [
    {
     "name": "stdout",
     "output_type": "stream",
     "text": [
      "The r-squared is: -0.07124664383728145\n"
     ]
    },
    {
     "data": {
      "image/png": "[encoded data removed]",
      "text/plain": [
       "<Figure size 432x288 with 1 Axes>"
      ]
     },
     "metadata": {
      "needs_background": "light"
     },
     "output_type": "display_data"
    },
    {
     "name": "stdout",
     "output_type": "stream",
     "text": [
      "None\n"
     ]
    }
   ],
   "source": [
    "plt.title(\"Northern Hemisphere - Wind Speed (mph) vs. Latitude Linear Regression\")\n",
    "x_values = Northern_hemisphere[\"Lat\"]\n",
    "y_values = Northern_hemisphere[\"Windspeed\"]\n",
    "plt.ylabel(\"Wind speed\")\n",
    "# Save the figure\n",
    "plt.savefig(\"../Images/Northern Hemisphere - Wind Speed vs. Latitude Linear Regression.png\")\n",
    "print(linear_reg_plot(x_values,y_values))"
   ]
  },
  {
   "cell_type": "code",
   "execution_count": null,
   "metadata": {},
   "outputs": [],
   "source": []
  },
  {
   "cell_type": "markdown",
   "metadata": {},
   "source": [
    "####  Southern Hemisphere - Wind Speed (mph) vs. Latitude Linear Regression"
   ]
  },
  {
   "cell_type": "code",
   "execution_count": 25,
   "metadata": {},
   "outputs": [
    {
     "name": "stdout",
     "output_type": "stream",
     "text": [
      "The r-squared is: -0.2606276619784753\n"
     ]
    },
    {
     "data": {
      "image/png": "[encoded data removed]",
      "text/plain": [
       "<Figure size 432x288 with 1 Axes>"
      ]
     },
     "metadata": {
      "needs_background": "light"
     },
     "output_type": "display_data"
    },
    {
     "name": "stdout",
     "output_type": "stream",
     "text": [
      "None\n"
     ]
    }
   ],
   "source": [
    "plt.title(\"Southern Hemisphere - Wind Speed (mph) vs. Latitude Linear Regression\")\n",
    "x_values = Southern_hemisphere[\"Lat\"]\n",
    "y_values = Southern_hemisphere[\"Windspeed\"]\n",
    "plt.ylabel(\"Wind speed\")\n",
    "# Save the figure\n",
    "plt.savefig(\"../Images/Southern Hemisphere - Wind Speed vs. Latitude Linear Regression.png\")\n",
    "print(linear_reg_plot(x_values,y_values))"
   ]
  },
  {
   "cell_type": "markdown",
   "metadata": {},
   "source": [
    "There are no clear relationship between Latitude and Wind Speed in the two previous graphs. "
   ]
  },
  {
   "cell_type": "code",
   "execution_count": null,
   "metadata": {},
   "outputs": [],
   "source": []
  }
 ],
 "metadata": {
  "anaconda-cloud": {},
  "kernel_info": {
   "name": "python3"
  },
  "kernelspec": {
   "display_name": "Python 3",
   "language": "python",
   "name": "python3"
  },
  "language_info": {
   "codemirror_mode": {
    "name": "ipython",
    "version": 3
   },
   "file_extension": ".py",
   "mimetype": "text/x-python",
   "name": "python",
   "nbconvert_exporter": "python",
   "pygments_lexer": "ipython3",
   "version": "3.7.6"
  },
  "latex_envs": {
   "LaTeX_envs_menu_present": true,
   "autoclose": false,
   "autocomplete": true,
   "bibliofile": "biblio.bib",
   "cite_by": "apalike",
   "current_citInitial": 1,
   "eqLabelWithNumbers": true,
   "eqNumInitial": 1,
   "hotkeys": {
    "equation": "Ctrl-E",
    "itemize": "Ctrl-I"
   },
   "labels_anchors": false,
   "latex_user_defs": false,
   "report_style_numbering": false,
   "user_envs_cfg": false
  },
  "nteract": {
   "version": "0.12.3"
  }
 },
 "nbformat": 4,
 "nbformat_minor": 2
}
